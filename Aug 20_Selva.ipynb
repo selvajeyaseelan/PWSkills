{
 "cells": [
  {
   "cell_type": "code",
   "execution_count": null,
   "id": "424535ac-de50-4e52-92bf-d00d33081bc8",
   "metadata": {},
   "outputs": [],
   "source": [
    "'''\n",
    "\n",
    "String Based Assignment Problem Q1-Q50\n",
    "\n",
    "List Based Practice Problem : Q1 - Q50\n",
    "\n",
    "Tuple Based Practice Problem : Q1 - Q50\n",
    "\n",
    "Set Based Practice Problem : Q1 - Q50\n",
    "\n",
    "'''"
   ]
  },
  {
   "cell_type": "code",
   "execution_count": null,
   "id": "d05e7ea9-8ac5-4e16-be62-f11833bb818f",
   "metadata": {},
   "outputs": [],
   "source": [
    "# String Based Assignment Problem Q1-Q50"
   ]
  },
  {
   "cell_type": "code",
   "execution_count": 6,
   "id": "eb2135cf-1014-4382-a8b5-5741296e2840",
   "metadata": {},
   "outputs": [
    {
     "name": "stdin",
     "output_type": "stream",
     "text": [
      "Enter a string PWSKILLS\n"
     ]
    },
    {
     "name": "stdout",
     "output_type": "stream",
     "text": [
      "SLLIKSWP\n"
     ]
    }
   ],
   "source": [
    "#Answer 1\n",
    "string = input('Enter a string')\n",
    "string_reverse = string[::-1]\n",
    "\n",
    "print(string_reverse)\n"
   ]
  },
  {
   "cell_type": "code",
   "execution_count": 8,
   "id": "2325ee69-bd01-465a-822a-d4e9aacf978b",
   "metadata": {},
   "outputs": [
    {
     "name": "stdin",
     "output_type": "stream",
     "text": [
      "Enter a string PWSKILLS\n"
     ]
    },
    {
     "name": "stdout",
     "output_type": "stream",
     "text": [
      "input string is not a palindrome\n"
     ]
    }
   ],
   "source": [
    "#Answer 2\n",
    "\n",
    "string = input('Enter a string')\n",
    "string_reverse = string[::-1]\n",
    "\n",
    "if string == string_reverse:\n",
    "    print('input string is a palindrome')\n",
    "    \n",
    "else:\n",
    "    print('input string is not a palindrome')"
   ]
  },
  {
   "cell_type": "code",
   "execution_count": 12,
   "id": "8b6d2ec9-b583-48c8-9782-5a92f69e49ba",
   "metadata": {},
   "outputs": [
    {
     "name": "stdin",
     "output_type": "stream",
     "text": [
      "Enter a string python123\n"
     ]
    },
    {
     "name": "stdout",
     "output_type": "stream",
     "text": [
      "PYTHON123\n"
     ]
    }
   ],
   "source": [
    "#Answer 3\n",
    "\n",
    "string = input('Enter a string')\n",
    "string_upper = string.upper()\n",
    "print(string_upper)\n"
   ]
  },
  {
   "cell_type": "code",
   "execution_count": 14,
   "id": "16efc27b-8671-4568-9205-a62e6d44d549",
   "metadata": {},
   "outputs": [
    {
     "name": "stdin",
     "output_type": "stream",
     "text": [
      "Enter a string I AM A HERO\n"
     ]
    },
    {
     "name": "stdout",
     "output_type": "stream",
     "text": [
      "i am a hero\n"
     ]
    }
   ],
   "source": [
    "#Answer 4\n",
    "\n",
    "string = input('Enter a string')\n",
    "string_lower = string.lower()\n",
    "print(string_lower)"
   ]
  },
  {
   "cell_type": "code",
   "execution_count": 19,
   "id": "fe5d171f-167f-454e-9eee-d5133ad42626",
   "metadata": {},
   "outputs": [
    {
     "name": "stdin",
     "output_type": "stream",
     "text": [
      "Enter a string AEIOU are the vowels in english language\n"
     ]
    },
    {
     "name": "stdout",
     "output_type": "stream",
     "text": [
      "Vowels in the given string are a - 3 e - 5 i - 2 o - 1 u - 1\n"
     ]
    }
   ],
   "source": [
    "# Answer 5\n",
    "\n",
    "string = input('Enter a string')\n",
    "a = string.count('a')\n",
    "e = string.count('e')\n",
    "i = string.count('i')\n",
    "o = string.count('o')\n",
    "u = string.count('u')\n",
    "\n",
    "print('Vowels in the given string are','a -',a,'e -',e,'i -',i,'o -',o,'u -',u)"
   ]
  },
  {
   "cell_type": "code",
   "execution_count": 30,
   "id": "5d1eb5e1-2bdb-41e1-bc71-20cab18316e9",
   "metadata": {},
   "outputs": [
    {
     "name": "stdin",
     "output_type": "stream",
     "text": [
      "Enter a string you are a zero\n"
     ]
    },
    {
     "name": "stdout",
     "output_type": "stream",
     "text": [
      "The number of consonants in the string are  4\n"
     ]
    }
   ],
   "source": [
    "# Answer 6 \n",
    "\n",
    "def count_con(string):\n",
    "    \n",
    "    vowel_set = set('bcdfghjklmnpqrstvwxyz')\n",
    "    count = 0\n",
    "    for i in string:\n",
    "        \n",
    "        if i in vowel_set:\n",
    "            count = count + 1\n",
    "    return count\n",
    "            \n",
    "string = input('Enter a string')\n",
    "\n",
    "print('The number of consonants in the string are ',count_con(string))\n",
    "    \n"
   ]
  },
  {
   "cell_type": "code",
   "execution_count": 33,
   "id": "05acbd82-32a6-4702-b47e-505f0ff78ed0",
   "metadata": {},
   "outputs": [
    {
     "name": "stdin",
     "output_type": "stream",
     "text": [
      "Enter a string: i have space\n"
     ]
    },
    {
     "name": "stdout",
     "output_type": "stream",
     "text": [
      "ihavespace\n"
     ]
    }
   ],
   "source": [
    "#Answer 7\n",
    "\n",
    "string = input('Enter a string:')\n",
    "\n",
    "if ' ' in string:\n",
    "    string_space = string.replace(' ','')\n",
    "    \n",
    "print(string_space)"
   ]
  },
  {
   "cell_type": "code",
   "execution_count": 34,
   "id": "7efba37f-c482-453c-aaba-359952be6237",
   "metadata": {},
   "outputs": [
    {
     "name": "stdin",
     "output_type": "stream",
     "text": [
      "Enter a string: this is a string\n"
     ]
    },
    {
     "name": "stdout",
     "output_type": "stream",
     "text": [
      "The length of the string: 16\n"
     ]
    }
   ],
   "source": [
    "#Answer 8\n",
    "\n",
    "string = input('Enter a string:')\n",
    "\n",
    "count = 0\n",
    "\n",
    "for i in string:\n",
    "    count += 1\n",
    "    \n",
    "print('The length of the string:',count)"
   ]
  },
  {
   "cell_type": "code",
   "execution_count": 41,
   "id": "a125c48e-0ece-4aaa-b57e-64286f35fd4a",
   "metadata": {},
   "outputs": [
    {
     "name": "stdin",
     "output_type": "stream",
     "text": [
      "Enter a string: this is a python class\n",
      "enter a word inside the string hyphen\n"
     ]
    },
    {
     "name": "stdout",
     "output_type": "stream",
     "text": [
      "The word hyphen  is not part of a string this is a python class\n"
     ]
    }
   ],
   "source": [
    "# Answer 9\n",
    "string = input('Enter a string:')\n",
    "word = input('enter a word inside the string')\n",
    "\n",
    "if word in string:\n",
    "    print('The word',word,' is part of string',string)\n",
    "    \n",
    "else:\n",
    "    print('The word',word, ' is not part of a string',string)"
   ]
  },
  {
   "cell_type": "code",
   "execution_count": 44,
   "id": "66130c4d-3e3d-456d-8993-76989156b1c3",
   "metadata": {},
   "outputs": [
    {
     "name": "stdin",
     "output_type": "stream",
     "text": [
      "Enter a string: I am a hero\n",
      "Enter a word that is to be replaced: zero\n",
      "Enter the new word: hero\n"
     ]
    },
    {
     "name": "stdout",
     "output_type": "stream",
     "text": [
      "I am a hero\n"
     ]
    }
   ],
   "source": [
    "# Answer 10\n",
    "string = input('Enter a string:')\n",
    "word_to_be_replaced = input('Enter a word that is to be replaced:')\n",
    "word_new = input('Enter the new word:')\n",
    "\n",
    "new_string = string.replace(word_to_be_replaced,word_new)\n",
    "print(new_string)"
   ]
  },
  {
   "cell_type": "code",
   "execution_count": 45,
   "id": "0863013b-6a3f-4871-a053-a6e32d5e6d6e",
   "metadata": {},
   "outputs": [
    {
     "name": "stdin",
     "output_type": "stream",
     "text": [
      "Enter a string asdf\n",
      "Enter a word to check inside the string a\n"
     ]
    },
    {
     "name": "stdout",
     "output_type": "stream",
     "text": [
      "The word occurs 0 times in the given string \n"
     ]
    }
   ],
   "source": [
    "# Answer 11 \n",
    "\n",
    "def word_occ(string, word):\n",
    "    str_list = string.split()\n",
    "\n",
    "    count = 0\n",
    "    for i in str_list:\n",
    "        if word == i:\n",
    "            count += 1\n",
    "            \n",
    "    return count\n",
    "\n",
    "string = input('Enter a string')\n",
    "word = input('Enter a word to check inside the string')\n",
    "\n",
    "\n",
    "print('The word occurs',word_occ(string,word), 'times in the given string ')\n",
    "        \n",
    "   "
   ]
  },
  {
   "cell_type": "code",
   "execution_count": 49,
   "id": "05b3f28c-3261-4e92-b50c-fef92eb2d858",
   "metadata": {},
   "outputs": [
    {
     "name": "stdin",
     "output_type": "stream",
     "text": [
      "Enter a string I am a nice person\n",
      "Enter the word nice\n"
     ]
    },
    {
     "name": "stdout",
     "output_type": "stream",
     "text": [
      "The word occurs at 7 position in the text\n"
     ]
    }
   ],
   "source": [
    "#Answer 12\n",
    "\n",
    "def find_word(string, word):\n",
    "    \n",
    "    index = string.find(word)   \n",
    "    \n",
    "    if index == -1:\n",
    "        return None\n",
    "    return index\n",
    "\n",
    "\n",
    "string = input('Enter a string')\n",
    "word = input('Enter the word')\n",
    "\n",
    "result = find_word(string,word)\n",
    "\n",
    "print('The word occurs at',result,'position in the text')\n"
   ]
  },
  {
   "cell_type": "code",
   "execution_count": 51,
   "id": "7ce8c298-5c69-4897-ba2b-84aa45b9f007",
   "metadata": {},
   "outputs": [
    {
     "name": "stdin",
     "output_type": "stream",
     "text": [
      "Enter a string boy is a boy for joy\n",
      "Enter the word boy\n"
     ]
    },
    {
     "name": "stdout",
     "output_type": "stream",
     "text": [
      "The index of the last occurance is at  9\n"
     ]
    }
   ],
   "source": [
    "#Answer 13\n",
    "\n",
    "def find_word(string, word):\n",
    "    \n",
    "    index = string.rfind(word)   \n",
    "    \n",
    "    if index == -1:\n",
    "        return None\n",
    "    return index\n",
    "\n",
    "\n",
    "string = input('Enter a string')\n",
    "word = input('Enter the word')\n",
    "\n",
    "result = find_word(string,waord)\n",
    "\n",
    "print('The index of the last occurance is at ',result,)"
   ]
  },
  {
   "cell_type": "code",
   "execution_count": 59,
   "id": "d1ab72fa-2631-4f2d-8001-56d6dbe38369",
   "metadata": {},
   "outputs": [
    {
     "name": "stdin",
     "output_type": "stream",
     "text": [
      "Enter a string: I am a hero\n"
     ]
    },
    {
     "name": "stdout",
     "output_type": "stream",
     "text": [
      "['I', 'am', 'a', 'hero']\n"
     ]
    }
   ],
   "source": [
    "#Anser 14\n",
    "\n",
    "string = input('Enter a string:')\n",
    "word_list = string.split()\n",
    "print(word_list)"
   ]
  },
  {
   "cell_type": "code",
   "execution_count": 54,
   "id": "6e88f78a-4006-4e2e-bb16-0df29c5d4e12",
   "metadata": {},
   "outputs": [
    {
     "name": "stdout",
     "output_type": "stream",
     "text": [
      "alpha beta gamma\n"
     ]
    }
   ],
   "source": [
    "# Answer 15\n",
    "string_list = ['alpha','beta','gamma']\n",
    "\n",
    "new_string = ' '.join(string_list)\n",
    "\n",
    "print(new_string)"
   ]
  },
  {
   "cell_type": "code",
   "execution_count": 2,
   "id": "eebb2fcc-7d17-4e50-8c3b-a363d65aef8c",
   "metadata": {},
   "outputs": [
    {
     "name": "stdin",
     "output_type": "stream",
     "text": [
      "Enter string with spaces   this  is a space\n"
     ]
    },
    {
     "name": "stdout",
     "output_type": "stream",
     "text": [
      "__this__is_a_space\n"
     ]
    }
   ],
   "source": [
    "# Answer 16\n",
    "\n",
    "string = input('Enter string with spaces')\n",
    "string_underscore = string.replace(' ','_')\n",
    "\n",
    "print(string_underscore)"
   ]
  },
  {
   "cell_type": "code",
   "execution_count": 8,
   "id": "d99025b2-7c6c-4346-b6d2-b05266823b45",
   "metadata": {},
   "outputs": [
    {
     "name": "stdin",
     "output_type": "stream",
     "text": [
      "Enter a string he is wrong\n",
      "Enter word to check start of the string with as\n"
     ]
    },
    {
     "name": "stdout",
     "output_type": "stream",
     "text": [
      "The string does not starts with the specified word\n"
     ]
    }
   ],
   "source": [
    "# Answer 17\n",
    "\n",
    "string = input('Enter a string')\n",
    "string_word = input('Enter word to check start of the string with')\n",
    "string_check = string.startswith(string_word)\n",
    "\n",
    "if string_check == True:\n",
    "    print('The string starts with the specified word')\n",
    "    \n",
    "else:\n",
    "    print('The string does not starts with the specified word')\n",
    "\n"
   ]
  },
  {
   "cell_type": "code",
   "execution_count": 10,
   "id": "419f8ec4-36b3-438f-a78b-4752e25642f9",
   "metadata": {},
   "outputs": [
    {
     "name": "stdin",
     "output_type": "stream",
     "text": [
      "Enter a string I am great\n",
      "Enter word to check start of the string with waste\n"
     ]
    },
    {
     "name": "stdout",
     "output_type": "stream",
     "text": [
      "The string does not end with the specified word\n"
     ]
    }
   ],
   "source": [
    "# Answer 18\n",
    "string = input('Enter a string')\n",
    "string_word = input('Enter word to check start of the string with')\n",
    "string_check = string.endswith(string_word)\n",
    "\n",
    "if string_check == True:\n",
    "    print('The string ends with the specified word')\n",
    "    \n",
    "else:\n",
    "    print('The string does not end with the specified word')\n",
    "\n",
    "\n"
   ]
  },
  {
   "cell_type": "code",
   "execution_count": 12,
   "id": "73bce106-2f10-44b8-8461-5c0980b68c55",
   "metadata": {},
   "outputs": [
    {
     "name": "stdin",
     "output_type": "stream",
     "text": [
      "Enter a string I am a hero\n"
     ]
    },
    {
     "name": "stdout",
     "output_type": "stream",
     "text": [
      "I Am A Hero\n"
     ]
    }
   ],
   "source": [
    "# Answer 19\n",
    "\n",
    "string = input('Enter a string')\n",
    "print(string.title())"
   ]
  },
  {
   "cell_type": "code",
   "execution_count": 57,
   "id": "951be923-f43e-444f-ae5f-12dd389945a4",
   "metadata": {},
   "outputs": [
    {
     "name": "stdin",
     "output_type": "stream",
     "text": [
      "Enter a string THis is a very biggggggg word\n"
     ]
    },
    {
     "name": "stdout",
     "output_type": "stream",
     "text": [
      "The longest word is biggggggg\n"
     ]
    }
   ],
   "source": [
    "# Answer 20\n",
    "\n",
    "string = input('Enter a string')\n",
    "str_list = string.split()\n",
    "\n",
    "max_len = 0\n",
    "word = ''\n",
    "\n",
    "for i in str_list:\n",
    "    \n",
    "    if len(i)>max_len:\n",
    "        max_len = len(i)\n",
    "        word = i\n",
    "        \n",
    "print('The longest word is',word)    "
   ]
  },
  {
   "cell_type": "code",
   "execution_count": 59,
   "id": "cebc0242-aaf4-4f0e-86f5-3c727135de79",
   "metadata": {},
   "outputs": [
    {
     "name": "stdin",
     "output_type": "stream",
     "text": [
      "Enter a string aa bb cc\n"
     ]
    },
    {
     "name": "stdout",
     "output_type": "stream",
     "text": [
      "The shortes word is aa\n"
     ]
    }
   ],
   "source": [
    "# Answer 21\n",
    "\n",
    "string = input('Enter a string')\n",
    "str_list = string.split()\n",
    "\n",
    "max_len = 100000\n",
    "word = ''\n",
    "\n",
    "for i in str_list:\n",
    "    \n",
    "    if len(i)<max_len:\n",
    "        max_len = len(i)\n",
    "        word = i\n",
    "        \n",
    "print('The shortes word is',word)    \n"
   ]
  },
  {
   "cell_type": "code",
   "execution_count": 23,
   "id": "05372816-cd9b-48b2-a434-a9880a8885c8",
   "metadata": {},
   "outputs": [
    {
     "name": "stdin",
     "output_type": "stream",
     "text": [
      "Enter a string I am a hero\n"
     ]
    },
    {
     "name": "stdout",
     "output_type": "stream",
     "text": [
      "['I', 'am', 'a', 'hero']\n",
      "['I', 'ma', 'a', 'oreh']\n"
     ]
    }
   ],
   "source": [
    "# Answer 22\n",
    "\n",
    "string = input('Enter a string')\n",
    "\n",
    "string_split = string.split()\n",
    "\n",
    "print(string_split)\n",
    "\n",
    "rev_string = list(map(lambda a: a[::-1],string_split))\n",
    "\n",
    "print(rev_string)"
   ]
  },
  {
   "cell_type": "code",
   "execution_count": 3,
   "id": "4e6fa0ad-45d2-40f8-868d-88a74f21f826",
   "metadata": {},
   "outputs": [
    {
     "name": "stdin",
     "output_type": "stream",
     "text": [
      "Enter a string givce 21as\n"
     ]
    },
    {
     "name": "stdout",
     "output_type": "stream",
     "text": [
      "Given string is not alphanumeri\n"
     ]
    }
   ],
   "source": [
    "# Answer 23\n",
    "\n",
    "string = input('Enter a string')\n",
    "\n",
    "if string.isalnum() == True:\n",
    "    print('Given string is alphanumeric')\n",
    "else:\n",
    "    print('Given string is not alphanumeri')\n"
   ]
  },
  {
   "cell_type": "code",
   "execution_count": 13,
   "id": "bf0c9975-dd53-4fad-8de0-3a314f9df5f3",
   "metadata": {},
   "outputs": [
    {
     "name": "stdout",
     "output_type": "stream",
     "text": [
      "Digits in the text are ['1', '2']\n"
     ]
    }
   ],
   "source": [
    "#Answer 24\n",
    "\n",
    "Text = 'abc12asdf'\n",
    "\n",
    "y = []\n",
    "for i in x:\n",
    "    if i.isnumeric()==True:\n",
    "        y.append(i)\n",
    "        \n",
    "print('Digits in the text are', y)"
   ]
  },
  {
   "cell_type": "code",
   "execution_count": 14,
   "id": "3bc05319-e18f-466f-8eda-5cce637d4702",
   "metadata": {},
   "outputs": [
    {
     "name": "stdout",
     "output_type": "stream",
     "text": [
      "Alphabets in the text are ['a', 'b', 'c', 'a', 's', 'd', 'f']\n"
     ]
    }
   ],
   "source": [
    "#Answer 25\n",
    "\n",
    "Text = 'abc12asdf'\n",
    "\n",
    "y = []\n",
    "for i in x:\n",
    "    if i.isalpha()==True:\n",
    "        y.append(i)\n",
    "        \n",
    "print('Alphabets in the text are',y)"
   ]
  },
  {
   "cell_type": "code",
   "execution_count": 19,
   "id": "de2e95b4-0516-4710-b1bd-7d00a6ae5a92",
   "metadata": {},
   "outputs": [
    {
     "name": "stdout",
     "output_type": "stream",
     "text": [
      "Number of Upper case characters in a string are  3\n"
     ]
    }
   ],
   "source": [
    "# Answer 26\n",
    "\n",
    "Text = 'AbCdeF123'\n",
    "\n",
    "count = 0\n",
    "for i in Text:\n",
    "    if i.isupper():\n",
    "        count += 1\n",
    "print('Number of Upper case characters in a string are ', count)\n",
    "        "
   ]
  },
  {
   "cell_type": "code",
   "execution_count": 20,
   "id": "9f080549-6d25-4119-8cb5-b532fd2cc1a3",
   "metadata": {},
   "outputs": [
    {
     "name": "stdout",
     "output_type": "stream",
     "text": [
      "Number of Upper case characters in a string are  3\n"
     ]
    }
   ],
   "source": [
    "# Answer 27\n",
    "\n",
    "Text = 'AbCdeF123'\n",
    "\n",
    "count = 0\n",
    "for i in Text:\n",
    "    if i.islower():\n",
    "        count += 1\n",
    "print('Number of Upper case characters in a string are ', count)\n",
    "        "
   ]
  },
  {
   "cell_type": "code",
   "execution_count": 25,
   "id": "9c3146e3-9ddb-4988-acdf-d635e72b4dfc",
   "metadata": {},
   "outputs": [
    {
     "name": "stdout",
     "output_type": "stream",
     "text": [
      "Altered text is  aBcDEf123\n"
     ]
    }
   ],
   "source": [
    "# Answer 28\n",
    "\n",
    "Text = 'AbCdeF123'\n",
    "\n",
    "print('Altered text is ',Text.swapcase())\n",
    "        "
   ]
  },
  {
   "cell_type": "code",
   "execution_count": 8,
   "id": "4613e71a-d2d0-4f12-b156-172087687ce9",
   "metadata": {},
   "outputs": [
    {
     "name": "stdin",
     "output_type": "stream",
     "text": [
      "Enter a string I am a genius\n",
      "Enter the word to be removed a\n"
     ]
    },
    {
     "name": "stdout",
     "output_type": "stream",
     "text": [
      "The string without the word is : I am genius\n"
     ]
    }
   ],
   "source": [
    "# Answer 29 \n",
    "\n",
    "def remove_word(string,word):\n",
    "    \n",
    "    split_string = string.split()\n",
    "    \n",
    "    if word in split_string:\n",
    "        split_string.remove(word)\n",
    "    \n",
    "    return ' '.join(split_string)\n",
    "    \n",
    "string = input('Enter a string')\n",
    "word = input('Enter the word to be removed')\n",
    "\n",
    "result = remove_word(string,word)\n",
    "print('The string without the word is :',result)"
   ]
  },
  {
   "cell_type": "code",
   "execution_count": 11,
   "id": "91d13c29-05a3-4af1-bb0d-be02eba31b1c",
   "metadata": {},
   "outputs": [
    {
     "name": "stdin",
     "output_type": "stream",
     "text": [
      "enter an email address @hemail.com\n"
     ]
    },
    {
     "data": {
      "text/plain": [
       "'this is not a valid gmail address'"
      ]
     },
     "execution_count": 11,
     "metadata": {},
     "output_type": "execute_result"
    }
   ],
   "source": [
    "# Answer 30\n",
    "\n",
    "def check_email(string):\n",
    "    \n",
    "    if '@gmail' in string:\n",
    "        return 'this is a valid gmail address'\n",
    "    else:\n",
    "        return 'this is not a valid gmail address'\n",
    "    \n",
    "    \n",
    "string = input('enter an email address')\n",
    "check_email(string)\n"
   ]
  },
  {
   "cell_type": "code",
   "execution_count": 16,
   "id": "fafa8961-592e-4d0c-9cb2-b26ef5e71125",
   "metadata": {},
   "outputs": [
    {
     "name": "stdin",
     "output_type": "stream",
     "text": [
      "Enter email id hero@villian.com\n"
     ]
    },
    {
     "name": "stdout",
     "output_type": "stream",
     "text": [
      "User name is:  hero\n"
     ]
    }
   ],
   "source": [
    "# Answer 31\n",
    "\n",
    "def extract_username(string):\n",
    "    \n",
    "    index = string.find('@')\n",
    "    \n",
    "    print('User name is: ',string[0:index])\n",
    "\n",
    "string = input('Enter email id')\n",
    "extract_username(string)\n"
   ]
  },
  {
   "cell_type": "code",
   "execution_count": 18,
   "id": "328cc77e-bb3b-41ac-bbba-e52cc65e7fca",
   "metadata": {},
   "outputs": [
    {
     "name": "stdin",
     "output_type": "stream",
     "text": [
      "Enter email id abc@xyz.com\n"
     ]
    },
    {
     "name": "stdout",
     "output_type": "stream",
     "text": [
      "User name is:  xyz.com\n"
     ]
    }
   ],
   "source": [
    "# Answer 32\n",
    "\n",
    "def extract_domainname(string):\n",
    "    \n",
    "    index = string.find('@')\n",
    "    \n",
    "    print('User name is: ',string[index+1:])\n",
    "\n",
    "string = input('Enter email id')\n",
    "extract_domainname(string)\n"
   ]
  },
  {
   "cell_type": "code",
   "execution_count": 19,
   "id": "4262c9ca-7af7-400a-b9ee-53768003baa4",
   "metadata": {},
   "outputs": [
    {
     "name": "stdin",
     "output_type": "stream",
     "text": [
      "Enter a string with multiple spaces this   sentence has many      spaces\n"
     ]
    },
    {
     "data": {
      "text/plain": [
       "'this sentence has many spaces'"
      ]
     },
     "execution_count": 19,
     "metadata": {},
     "output_type": "execute_result"
    }
   ],
   "source": [
    "# Answer 33\n",
    "\n",
    "def remove_mul_spaces(string):\n",
    "    \n",
    "    split_string = string.split()\n",
    "    new_string = ' '.join(split_string)\n",
    "    return new_string\n",
    "\n",
    "\n",
    "string = input('Enter a string with multiple spaces')\n",
    "remove_mul_spaces(string)\n"
   ]
  },
  {
   "cell_type": "code",
   "execution_count": 22,
   "id": "f806514c-0aaf-4778-ba06-aefbf5d47438",
   "metadata": {},
   "outputs": [
    {
     "name": "stdin",
     "output_type": "stream",
     "text": [
      "enter a webaddress www.india.com\n"
     ]
    },
    {
     "name": "stdout",
     "output_type": "stream",
     "text": [
      "this is a valid url\n"
     ]
    }
   ],
   "source": [
    "# Answer 34\n",
    "\n",
    "def check_url(string):\n",
    "    \n",
    "    if 'www' and '.com' in string:\n",
    "                print('this is a valid url')\n",
    "    else:\n",
    "        print('this is not a valid url')\n",
    "string = input('enter a webaddress')        \n",
    "check_url(string)"
   ]
  },
  {
   "cell_type": "code",
   "execution_count": 24,
   "id": "0875861d-4dbc-4a44-ace0-0d7cd7b5bca2",
   "metadata": {},
   "outputs": [
    {
     "name": "stdin",
     "output_type": "stream",
     "text": [
      "Enter a webaddress https://india.com\n"
     ]
    },
    {
     "name": "stdout",
     "output_type": "stream",
     "text": [
      "User name is:  https\n"
     ]
    }
   ],
   "source": [
    "# Answer 35\n",
    "\n",
    "def extract_protocol(string):\n",
    "    \n",
    "    index = string.find(':')\n",
    "    \n",
    "    print('User name is: ',string[:index])\n",
    "\n",
    "string = input('Enter a webaddress')\n",
    "extract_protocol(string)\n"
   ]
  },
  {
   "cell_type": "code",
   "execution_count": 35,
   "id": "1dee23c7-d9e1-47ee-9b11-0fd04f0166b0",
   "metadata": {},
   "outputs": [
    {
     "name": "stdin",
     "output_type": "stream",
     "text": [
      "Enter a string You are a kind person\n"
     ]
    },
    {
     "name": "stdout",
     "output_type": "stream",
     "text": [
      "Y 1\n",
      "o 2\n",
      "k 1\n",
      "d 1\n",
      "u 1\n",
      "  4\n",
      "a 2\n",
      "r 2\n",
      "s 1\n",
      "i 1\n",
      "n 2\n",
      "p 1\n",
      "e 2\n"
     ]
    }
   ],
   "source": [
    "# Answer 36\n",
    "\n",
    "def freq_counter(string):\n",
    "    string_list = list(string)\n",
    "    string_set  = set(string)\n",
    "    \n",
    "    for i in string_set:\n",
    "        \n",
    "        print(i,string_list.count(i))\n",
    "      \n",
    "    \n",
    "string= input('Enter a string')\n",
    "freq_counter(string)\n"
   ]
  },
  {
   "cell_type": "code",
   "execution_count": 77,
   "id": "2a181be6-c1ac-4554-9e61-4ef3948455c5",
   "metadata": {},
   "outputs": [
    {
     "name": "stdin",
     "output_type": "stream",
     "text": [
      "Enter a string with punctuation Hello! Good Morning. How are you?\n"
     ]
    },
    {
     "name": "stdout",
     "output_type": "stream",
     "text": [
      "String without punctuation is Hello Good Morning How are you\n"
     ]
    }
   ],
   "source": [
    "# Answer 37\n",
    "\n",
    "def remove_punc(string):\n",
    "    pun_set = ('.','?',',','!')\n",
    "    new_str = ''\n",
    "\n",
    "    for i in string:\n",
    "        if i not in pun_set:\n",
    "            new_str = new_str + i\n",
    "       \n",
    "    return new_str   \n",
    "\n",
    "string = input('Enter a string with punctuation')\n",
    "\n",
    "result = remove_punc(string)\n",
    "print('String without punctuation is',result)"
   ]
  },
  {
   "cell_type": "code",
   "execution_count": 87,
   "id": "ef868b35-67f0-4448-9d21-abd2564b2135",
   "metadata": {},
   "outputs": [
    {
     "name": "stdin",
     "output_type": "stream",
     "text": [
      "Enter a string abv12\n"
     ]
    },
    {
     "name": "stdout",
     "output_type": "stream",
     "text": [
      "The given string contains only digits False\n"
     ]
    }
   ],
   "source": [
    "# Answer 38\n",
    "\n",
    "def check_digit(string):\n",
    "    \n",
    "    return string.isdigit()\n",
    "    \n",
    "string = input('Enter a string')\n",
    "print('The given string contains only digits',check_digit(string))\n"
   ]
  },
  {
   "cell_type": "code",
   "execution_count": 88,
   "id": "3003d060-68a5-4f81-a6ab-5ae461f5884c",
   "metadata": {},
   "outputs": [
    {
     "name": "stdin",
     "output_type": "stream",
     "text": [
      "Enter a string abc\n"
     ]
    },
    {
     "name": "stdout",
     "output_type": "stream",
     "text": [
      "The given string contains only digits True\n"
     ]
    }
   ],
   "source": [
    "# Answer 39\n",
    "\n",
    "def check_alpha(string):\n",
    "    \n",
    "    return string.isalpha()\n",
    "    \n",
    "string = input('Enter a string')\n",
    "print('The given string contains only digits',check_alpha(string))\n",
    "\n"
   ]
  },
  {
   "cell_type": "code",
   "execution_count": 89,
   "id": "9a2f3ebf-3ba8-4324-9bac-2b5d960186bd",
   "metadata": {},
   "outputs": [
    {
     "name": "stdin",
     "output_type": "stream",
     "text": [
      "Enter a string hello\n"
     ]
    },
    {
     "name": "stdout",
     "output_type": "stream",
     "text": [
      "['h', 'e', 'l', 'l', 'o']\n"
     ]
    }
   ],
   "source": [
    "# Answer 40\n",
    "\n",
    "string = input('Enter a string')\n",
    "new_str = list(string)\n",
    "print(new_str)"
   ]
  },
  {
   "cell_type": "code",
   "execution_count": 3,
   "id": "d03f1b00-0380-427f-bc13-0d09041db6e6",
   "metadata": {},
   "outputs": [
    {
     "name": "stdout",
     "output_type": "stream",
     "text": [
      "Given 2 strings are anagrams\n"
     ]
    }
   ],
   "source": [
    "# Answer 41 - Check if two strings are anagrams.\n",
    "\n",
    "string1 = 'worth'\n",
    "string2 = 'throw'\n",
    "\n",
    "string1_set = set(string1)\n",
    "string2_set = set(string2)\n",
    "\n",
    "if string1_set == string2_set:\n",
    "    print('Given 2 strings are anagrams')\n",
    "else:\n",
    "    print('Given 2 strings are not anagrams')"
   ]
  },
  {
   "cell_type": "code",
   "execution_count": 13,
   "id": "82aa7ba6-8d59-4267-8dfb-d7d210290d8a",
   "metadata": {},
   "outputs": [
    {
     "name": "stdout",
     "output_type": "stream",
     "text": [
      "Encoded text: !\n"
     ]
    }
   ],
   "source": [
    "# Answer 42 - Encode a string using a Caesar cipher.\n",
    "\n",
    "def caesar_cipher(text, shift):\n",
    "     \n",
    "    code = \"\"\n",
    "    \n",
    "    for char in text:\n",
    "\n",
    "        if char.isalpha():\n",
    "\n",
    "            encoded_char = chr((ord(char) + shift - ord('a')) % 26 + ord('a'))\n",
    "        else:\n",
    "      \n",
    "          encoded_char = char\n",
    "\n",
    "\n",
    "    code += encoded_char\n",
    "\n",
    "    return code\n",
    "\n",
    "\n",
    "text = \"Pwskills, world!\"\n",
    "shift = 3\n",
    "\n",
    "\n",
    "code = caesar_cipher(text, shift)\n",
    "\n",
    "\n",
    "print(\"Encoded text:\", code)"
   ]
  },
  {
   "cell_type": "code",
   "execution_count": 9,
   "id": "9971b019-42f4-4fc7-a28c-7157ed0a1340",
   "metadata": {},
   "outputs": [
    {
     "name": "stdout",
     "output_type": "stream",
     "text": [
      "Decoded text: mtphfiip, mvqelk!\n"
     ]
    }
   ],
   "source": [
    "# Anser 43 - Decode a Caesar cipher encoded string.\n",
    "\n",
    "def caesar_decoder(text, shift):\n",
    "        \n",
    "    decode = \"\"\n",
    "\n",
    "    for char in text:\n",
    "       \n",
    "        if char.isalpha():\n",
    "            \n",
    "            decode_char = chr((ord(char) - shift - ord('a')) % 26 + ord('a'))\n",
    "        else:\n",
    "            decode_char = char\n",
    "\n",
    "        decode = decode + decode_char\n",
    "\n",
    " \n",
    "    return decode\n",
    "\n",
    "text = \"pwskills, python!\"\n",
    "shift = 3\n",
    "\n",
    "\n",
    "decode = caesar_decoder(text, shift)\n",
    "\n",
    "\n",
    "print(\"Decoded text:\", decode)"
   ]
  },
  {
   "cell_type": "code",
   "execution_count": 80,
   "id": "4e8f6460-acb4-40b6-a133-802217e4f7f8",
   "metadata": {},
   "outputs": [
    {
     "name": "stdout",
     "output_type": "stream",
     "text": [
      "The most repeated word in your list is: Hello\n"
     ]
    }
   ],
   "source": [
    "# Anser 44\n",
    "\n",
    "string = 'Hello PWSKILLS repeat defeat Hello '\n",
    "\n",
    "string_split = string.split()\n",
    "string_set = set(string_split)\n",
    "l_set = len(string_set)\n",
    "l_list = len(string_split)\n",
    "\n",
    "d = {}\n",
    "\n",
    "\n",
    "\n",
    "for i in string_set:\n",
    "    \n",
    "    for j in string_split:\n",
    "        \n",
    "        if i==j:\n",
    "            d[string_split.count(j)] = i\n",
    "            \n",
    "            \n",
    "most_repeated_word = sorted(d.items())[-1][-1]\n",
    "\n",
    "print('The most repeated word in your list is:', most_repeated_word)\n",
    " "
   ]
  },
  {
   "cell_type": "code",
   "execution_count": 81,
   "id": "0fc9f033-901c-4a9b-9f0e-e404ddbf5118",
   "metadata": {},
   "outputs": [
    {
     "name": "stdout",
     "output_type": "stream",
     "text": [
      "The unique words in your list are: dict_values(['PWSKILLS'])\n"
     ]
    }
   ],
   "source": [
    "# Answer 45\n",
    "\n",
    "string = 'Hello PWSKILLS repeat defeat Hello '\n",
    "\n",
    "string_split = string.split()\n",
    "string_set = set(string_split)\n",
    "\n",
    "d = {}\n",
    "\n",
    "\n",
    "\n",
    "for i in string_set:\n",
    "    \n",
    "    for j in string_split:\n",
    "        \n",
    "        if i==j:\n",
    "            if string_split.count(i) == 1:\n",
    "                d[string_split.count(j)] = i\n",
    "            \n",
    "            \n",
    "most_repeated_word = d.values()\n",
    "\n",
    "print('The unique words in your list are:', most_repeated_word)"
   ]
  },
  {
   "cell_type": "code",
   "execution_count": 25,
   "id": "1103e455-e4d0-441e-b5d5-982fc0705c32",
   "metadata": {},
   "outputs": [],
   "source": [
    "# Answer 46 - Count the number of syllables in a string."
   ]
  },
  {
   "cell_type": "code",
   "execution_count": 2,
   "id": "78766c54-15bf-410a-bf75-4b733b65a588",
   "metadata": {},
   "outputs": [],
   "source": [
    "# Answer 47 - Check if a string contains any special characters."
   ]
  },
  {
   "cell_type": "code",
   "execution_count": 21,
   "id": "5a1a0d00-1346-4d26-b762-203035e34ff4",
   "metadata": {},
   "outputs": [
    {
     "name": "stdin",
     "output_type": "stream",
     "text": [
      "Enter a string This is a very long sentence\n",
      "Enter the position of the word in the string 4\n"
     ]
    },
    {
     "name": "stdout",
     "output_type": "stream",
     "text": [
      "The string with nth word removed is:  This is a long sentence\n"
     ]
    }
   ],
   "source": [
    "# Answer 48 - Remove the nth word from a string.\n",
    "\n",
    "def remove_nthword(string,nth_word):\n",
    "    string_split = string.split()\n",
    "    string_split.remove(string_split[nth_word-1])\n",
    "    return ' '.join(string_split)\n",
    "    \n",
    "    \n",
    "string = input('Enter a string')\n",
    "nth_word = int(input ('Enter the position of the word in the string'))\n",
    "nth_word_removed = remove_nthword(string,nth_word)\n",
    "print('The string with nth word removed is: ',nth_word_removed)"
   ]
  },
  {
   "cell_type": "code",
   "execution_count": 24,
   "id": "897bc398-e363-476b-9bba-d68d63a224b4",
   "metadata": {},
   "outputs": [
    {
     "name": "stdout",
     "output_type": "stream",
     "text": [
      "This is short a sentence\n"
     ]
    }
   ],
   "source": [
    "# Answer 49 - Insert a word at the nth position in a string.\n",
    "\n",
    "string = 'This is a sentence'\n",
    "word = 'short'\n",
    "word_position = 3\n",
    "    \n",
    "string_split = string.split()\n",
    "string_split.insert(word_position-1,word)\n",
    "sen = ' '.join(string_split)\n",
    "\n",
    "print(sen)"
   ]
  },
  {
   "cell_type": "code",
   "execution_count": null,
   "id": "2f05a35f-04f2-4f97-8d94-c8825d20975f",
   "metadata": {},
   "outputs": [],
   "source": [
    "# Answer 50 - Convert a CSV string to a list of lists."
   ]
  },
  {
   "cell_type": "code",
   "execution_count": 26,
   "id": "9c7526f0-4c41-4b5e-9c63-482dcaf32288",
   "metadata": {},
   "outputs": [
    {
     "data": {
      "text/plain": [
       "'\\nList Based Practice Problems\\n'"
      ]
     },
     "execution_count": 26,
     "metadata": {},
     "output_type": "execute_result"
    }
   ],
   "source": [
    "'''\n",
    "List Based Practice Problems\n",
    "'''\n"
   ]
  },
  {
   "cell_type": "code",
   "execution_count": 28,
   "id": "fd088721-5f16-46d8-bc72-efa6b50fe41e",
   "metadata": {},
   "outputs": [
    {
     "name": "stdout",
     "output_type": "stream",
     "text": [
      "[1, 2, 3, 4, 5, 6, 7, 8, 9, 10]\n"
     ]
    }
   ],
   "source": [
    "#Answer 1 - Create a list with integers from 1 to 10.\n",
    "\n",
    "list_integers = list(range(1,11))\n",
    "print(list_integers)\n",
    "    "
   ]
  },
  {
   "cell_type": "code",
   "execution_count": 29,
   "id": "ed26bda8-338b-4c96-9965-d7d774d75a07",
   "metadata": {},
   "outputs": [
    {
     "name": "stdout",
     "output_type": "stream",
     "text": [
      "The length of the list is: 4\n"
     ]
    }
   ],
   "source": [
    "# Answer 2 - Find the length of a list without using the `len()` function.\n",
    "\n",
    "list1 = ['a','v','e','g']\n",
    "count = 0\n",
    "for i in list1:\n",
    "    count +=1\n",
    "    \n",
    "print('The length of the list is:',count)\n",
    "    \n",
    "    "
   ]
  },
  {
   "cell_type": "code",
   "execution_count": 31,
   "id": "66eb6370-cae0-489b-b847-a0963342895c",
   "metadata": {},
   "outputs": [
    {
     "name": "stdout",
     "output_type": "stream",
     "text": [
      "['a', 'v', 'e', 'g', 'z']\n"
     ]
    }
   ],
   "source": [
    "# Answer 3 - Append an element to the end of a list.\n",
    "\n",
    "list1 = ['a','v','e','g']\n",
    "element = 'z'\n",
    "\n",
    "list1.append(element)\n",
    "\n",
    "print(list1)"
   ]
  },
  {
   "cell_type": "code",
   "execution_count": 35,
   "id": "01538a51-f042-446c-9379-fb25b5476010",
   "metadata": {},
   "outputs": [
    {
     "name": "stdout",
     "output_type": "stream",
     "text": [
      "['a', 'z', 'v', 'e', 'g']\n"
     ]
    }
   ],
   "source": [
    "# Answer 4 - Insert an element at a specific index in a list.\n",
    "list1 = ['a','v','e','g']\n",
    "element = 'z'\n",
    "index = 2\n",
    "\n",
    "list1.insert(index-1,element)\n",
    "print(list1)"
   ]
  },
  {
   "cell_type": "code",
   "execution_count": 36,
   "id": "f240dccb-fd7f-4f64-9eee-b091f074da66",
   "metadata": {},
   "outputs": [
    {
     "data": {
      "text/plain": [
       "['a', 'e', 'g']"
      ]
     },
     "execution_count": 36,
     "metadata": {},
     "output_type": "execute_result"
    }
   ],
   "source": [
    "# Answer 5 - Remove an element from a list by its value.\n",
    "\n",
    "list1 = ['a','v','e','g']\n",
    "element_toremove = 'v'\n",
    "\n",
    "list1.remove(element_toremove)\n",
    "\n",
    "list1"
   ]
  },
  {
   "cell_type": "code",
   "execution_count": 41,
   "id": "50ef1cb3-ba50-4a56-b293-4d9bf9e1d0ef",
   "metadata": {},
   "outputs": [
    {
     "data": {
      "text/plain": [
       "['a', 'e', 'g']"
      ]
     },
     "execution_count": 41,
     "metadata": {},
     "output_type": "execute_result"
    }
   ],
   "source": [
    "# Answer 6 - Remove an element from a list by its index.\n",
    "\n",
    "list1 = ['a','v','e','g']\n",
    "index = 2\n",
    "\n",
    "list1.pop(index-1)\n",
    "list1"
   ]
  },
  {
   "cell_type": "code",
   "execution_count": 42,
   "id": "2038238c-f402-404a-be18-3ec01fc8ae8c",
   "metadata": {},
   "outputs": [
    {
     "name": "stdout",
     "output_type": "stream",
     "text": [
      "Element g exists inside ['a', 'v', 'e', 'g']\n"
     ]
    }
   ],
   "source": [
    "# Answer 7 - Check if an element exists in a list.\n",
    "\n",
    "list1 = ['a','v','e','g']\n",
    "element = 'g'\n",
    "\n",
    "if element in list1:\n",
    "    print('Element',element,'exists inside',list1)"
   ]
  },
  {
   "cell_type": "code",
   "execution_count": 44,
   "id": "aca9f701-b4bd-4008-84a3-a8bf9f1c86f8",
   "metadata": {},
   "outputs": [
    {
     "data": {
      "text/plain": [
       "1"
      ]
     },
     "execution_count": 44,
     "metadata": {},
     "output_type": "execute_result"
    }
   ],
   "source": [
    "# Answer 8 - Find the index of the first occurrence of an element in a list.\n",
    "\n",
    "list1 = ['a','v','e','g']\n",
    "\n",
    "list1.index('v')"
   ]
  },
  {
   "cell_type": "code",
   "execution_count": 45,
   "id": "76a855cf-b3df-4a16-87c7-59ef4b9c4580",
   "metadata": {},
   "outputs": [
    {
     "data": {
      "text/plain": [
       "2"
      ]
     },
     "execution_count": 45,
     "metadata": {},
     "output_type": "execute_result"
    }
   ],
   "source": [
    "# Answer 9 - Count the occurrences of an element in a list.\n",
    "\n",
    "list1 = ['a','v','e','g','a','g']\n",
    "\n",
    "list1.count('a')"
   ]
  },
  {
   "cell_type": "code",
   "execution_count": 47,
   "id": "62f292bd-fd39-4521-97c0-2821d80e9b42",
   "metadata": {},
   "outputs": [
    {
     "data": {
      "text/plain": [
       "['g', 'a', 'g', 'e', 'v', 'a']"
      ]
     },
     "execution_count": 47,
     "metadata": {},
     "output_type": "execute_result"
    }
   ],
   "source": [
    "# Answer 10 - Reverse the order of elements in a list.\n",
    "\n",
    "list1 = ['a','v','e','g','a','g']\n",
    "\n",
    "list1_reversed = list1[::-1]\n",
    "list1_reversed"
   ]
  },
  {
   "cell_type": "code",
   "execution_count": 52,
   "id": "4a375f13-6f33-4487-aab1-ed82b521a6d9",
   "metadata": {},
   "outputs": [
    {
     "data": {
      "text/plain": [
       "[2, 2, 4, 4, 5, 5, 8, 9]"
      ]
     },
     "execution_count": 52,
     "metadata": {},
     "output_type": "execute_result"
    }
   ],
   "source": [
    "# Answer 11 - Sort a list in ascending order.\n",
    "\n",
    "list1 = [5,4,2,9,8,2,4,5]\n",
    "\n",
    "list1_sort = sorted(list1)\n",
    "list1_sort"
   ]
  },
  {
   "cell_type": "code",
   "execution_count": 53,
   "id": "21d079e1-068e-4626-a6b6-bdaf1e9606d7",
   "metadata": {},
   "outputs": [
    {
     "data": {
      "text/plain": [
       "[9, 8, 5, 5, 4, 4, 2, 2]"
      ]
     },
     "execution_count": 53,
     "metadata": {},
     "output_type": "execute_result"
    }
   ],
   "source": [
    "# Answer 12 - Sort a list in descending order.\n",
    "\n",
    "\n",
    "list1 = [5,4,2,9,8,2,4,5]\n",
    "\n",
    "list1_sort = sorted(list1)\n",
    "list1_sort[::-1]"
   ]
  },
  {
   "cell_type": "code",
   "execution_count": 55,
   "id": "eedd00c6-3c83-4115-934c-f59f8eda0979",
   "metadata": {},
   "outputs": [
    {
     "name": "stdout",
     "output_type": "stream",
     "text": [
      "2 4 6 8 10 12 14 16 18 20 "
     ]
    }
   ],
   "source": [
    "# Answer 13 - Create a list of even numbers from 1 to 20.\n",
    "\n",
    "list1 = list(range(1,21))\n",
    "\n",
    "for i in list1:\n",
    "    \n",
    "    if i%2==0:\n",
    "        print(i,end=' ')"
   ]
  },
  {
   "cell_type": "code",
   "execution_count": 56,
   "id": "1ee73ce5-d5cc-4c84-8975-41b0188acf13",
   "metadata": {},
   "outputs": [
    {
     "name": "stdout",
     "output_type": "stream",
     "text": [
      "1 3 5 7 9 11 13 15 17 19 "
     ]
    }
   ],
   "source": [
    "# Answer 14 - Create a list of odd numbers from 1 to 20.\n",
    "\n",
    "list1 = list(range(1,21))\n",
    "\n",
    "for i in list1:\n",
    "    \n",
    "    if i%2==1:\n",
    "        print(i,end=' ')\n",
    "\n"
   ]
  },
  {
   "cell_type": "code",
   "execution_count": 57,
   "id": "08e4e826-a771-411e-be88-ee3fefe1bd67",
   "metadata": {},
   "outputs": [
    {
     "name": "stdout",
     "output_type": "stream",
     "text": [
      "sum of elements in list: 210\n"
     ]
    }
   ],
   "source": [
    "# Answer 15 -  Find the sum of all elements in a list.\n",
    "\n",
    "list1 = list(range(1,21))\n",
    "sum = 0\n",
    "\n",
    "for i in list1:\n",
    "    \n",
    "    sum = sum + i\n",
    "\n",
    "print('sum of elements in list:',sum)"
   ]
  },
  {
   "cell_type": "code",
   "execution_count": 59,
   "id": "0a52f748-f876-4698-a6e0-825cbc6868de",
   "metadata": {},
   "outputs": [
    {
     "name": "stdout",
     "output_type": "stream",
     "text": [
      "8\n"
     ]
    }
   ],
   "source": [
    "# Answer 16 - Find the maximum value in a list.\n",
    "\n",
    "list1 = [2,3,6,2,1,2,8]\n",
    "\n",
    "list1_max = max(list1)\n",
    "\n",
    "print(list1_max)"
   ]
  },
  {
   "cell_type": "code",
   "execution_count": 61,
   "id": "ec97d697-581c-41d7-a600-ebae903dcca8",
   "metadata": {},
   "outputs": [
    {
     "name": "stdout",
     "output_type": "stream",
     "text": [
      "1\n"
     ]
    }
   ],
   "source": [
    "# Answer 17 - Find the min value in a list.\n",
    "\n",
    "list1 = [2,3,6,2,1,2,8]\n",
    "\n",
    "list1_min = min(list1)\n",
    "\n",
    "print(list1_min)"
   ]
  },
  {
   "cell_type": "code",
   "execution_count": 64,
   "id": "82837446-3993-42fc-adb6-4d5b4372f710",
   "metadata": {},
   "outputs": [
    {
     "name": "stdout",
     "output_type": "stream",
     "text": [
      "[1, 4, 9, 16, 25, 36, 49, 64, 81, 100]\n"
     ]
    }
   ],
   "source": [
    "# Answer 18 - Create a list of squares of numbers from 1 to 10.\n",
    "\n",
    "list1 = list(range(1,11))\n",
    "list2 = []\n",
    "for i in list1:\n",
    "    list2.append(i*i)\n",
    "print(list2)"
   ]
  },
  {
   "cell_type": "code",
   "execution_count": 15,
   "id": "a8afa560-4681-4d56-b997-181af1d2c267",
   "metadata": {},
   "outputs": [
    {
     "name": "stdout",
     "output_type": "stream",
     "text": [
      "[6, 19, 4, 15, 12, 16, 18, 4, 4, 14]\n"
     ]
    }
   ],
   "source": [
    "# Answer 19 - Create a list of random numbers.\n",
    "\n",
    "import random\n",
    "\n",
    "l = []\n",
    "\n",
    "for i in range(1,11):\n",
    "    \n",
    "    l.append(random.randint(1,20))\n",
    "    \n",
    "print(l)"
   ]
  },
  {
   "cell_type": "code",
   "execution_count": 80,
   "id": "99844ce7-1168-44b5-ac3a-66c8b842b95e",
   "metadata": {},
   "outputs": [
    {
     "name": "stdout",
     "output_type": "stream",
     "text": [
      "[3, 6, 1, 2, 8]\n"
     ]
    }
   ],
   "source": [
    "# Answer 20 - Remove duplicates from a list.\n",
    "\n",
    "list1 = [2,3,6,2,1,2,8]\n",
    "#print(list1)\n",
    "\n",
    "for i in list1:\n",
    "    if list1.count(i)>1:\n",
    "        list1.remove(i)\n",
    "print(list1)\n",
    "    \n",
    "#list1\"=\n",
    "        "
   ]
  },
  {
   "cell_type": "code",
   "execution_count": 84,
   "id": "860f001f-1b0b-437b-813c-298eaa508e84",
   "metadata": {},
   "outputs": [
    {
     "name": "stdout",
     "output_type": "stream",
     "text": [
      "3 5 9 "
     ]
    }
   ],
   "source": [
    "# Answer 21 - Find the common elements between two lists.\n",
    "\n",
    "list1 = [1,2,3,4,3,5,7,9]\n",
    "list1_set = set(list1)\n",
    "list2 = [3,20,43,5,9]\n",
    "list2_set = set(list2)\n",
    "for i in list1_set:\n",
    "    for j in list2_set:\n",
    "        if i==j:\n",
    "            print(i,end=' ')"
   ]
  },
  {
   "cell_type": "code",
   "execution_count": 86,
   "id": "1631701e-0c4a-4c25-a200-7f93f7209c65",
   "metadata": {},
   "outputs": [
    {
     "name": "stdout",
     "output_type": "stream",
     "text": [
      "['b', 'z']\n"
     ]
    }
   ],
   "source": [
    "# Answer 21 - Find the difference between two lists.\n",
    "\n",
    "list1 = ['a','b','z']\n",
    "list2 = ['a','g','h']\n",
    "\n",
    "diff = list(set(list1).difference(list2))\n",
    "\n",
    "print(diff)\n"
   ]
  },
  {
   "cell_type": "code",
   "execution_count": 88,
   "id": "5276918a-e8c5-436a-8660-0516755bc3a5",
   "metadata": {},
   "outputs": [
    {
     "name": "stdout",
     "output_type": "stream",
     "text": [
      "['a', 'b', 'z', 'a', 'g', 'h']\n"
     ]
    }
   ],
   "source": [
    "# Answer 23 - Merge two lists.\n",
    "list1 = ['a','b','z']\n",
    "list2 = ['a','g','h']\n",
    "list_merged = list1 + list2\n",
    "print(list_merged)\n"
   ]
  },
  {
   "cell_type": "code",
   "execution_count": 91,
   "id": "b7595c37-cc29-4da1-8ca4-dfc0a8b0c066",
   "metadata": {},
   "outputs": [
    {
     "name": "stdout",
     "output_type": "stream",
     "text": [
      "2 4 6 "
     ]
    }
   ],
   "source": [
    "# Answer 24 - Multiply all elements in a list by 2.\n",
    "\n",
    "list1 = [1,2,3]\n",
    "\n",
    "for i in list1:\n",
    "    print(i*2,end=' ')\n",
    "\n"
   ]
  },
  {
   "cell_type": "code",
   "execution_count": 94,
   "id": "7a34d6fa-5193-4e1d-af63-8ee9549f50a0",
   "metadata": {},
   "outputs": [
    {
     "data": {
      "text/plain": [
       "[1, 3, 5, 7, 9]"
      ]
     },
     "execution_count": 94,
     "metadata": {},
     "output_type": "execute_result"
    }
   ],
   "source": [
    "# Answer 25 - Filter out all even numbers from a list.\n",
    "\n",
    "list1 = [1,2,3,4,5,6,7,8,9,10]\n",
    "\n",
    "for i in range(1, len(list1)+1):\n",
    "    \n",
    "    if i%2==0:\n",
    "        list1.remove(i)\n",
    "    \n",
    "list1"
   ]
  },
  {
   "cell_type": "code",
   "execution_count": 106,
   "id": "39eb163f-65f5-41a7-b3b2-4b394df895a9",
   "metadata": {},
   "outputs": [
    {
     "name": "stdin",
     "output_type": "stream",
     "text": [
      "Enter numbers with space 1 2 3\n"
     ]
    },
    {
     "name": "stdout",
     "output_type": "stream",
     "text": [
      "[1, 2, 3]\n"
     ]
    }
   ],
   "source": [
    "# Answer 26 - Convert a list of strings to a list of integers.\n",
    "\n",
    "list_of_numstr = input('Enter numbers with space')\n",
    "list_split = list_of_numstr.split()\n",
    "list_num = []\n",
    "for i in list_split:\n",
    "    list_num.append(int(i))\n",
    "    \n",
    "print(list_num)"
   ]
  },
  {
   "cell_type": "code",
   "execution_count": 109,
   "id": "30502894-4d25-40fa-ba50-198f3c21ac83",
   "metadata": {},
   "outputs": [
    {
     "name": "stdout",
     "output_type": "stream",
     "text": [
      "['1', '2', '3', '4']\n"
     ]
    }
   ],
   "source": [
    "# Answer 27 - Convert a list of integers to a list of strings.\n",
    "\n",
    "list1 = [1,2,3,4]\n",
    "list_char = []\n",
    "\n",
    "for i in list1:\n",
    "    list_char.append(str(i))\n",
    "    \n",
    "print(list_char)\n"
   ]
  },
  {
   "cell_type": "code",
   "execution_count": 16,
   "id": "6cd16c17-386b-4e0b-8a62-d4da70050340",
   "metadata": {},
   "outputs": [
    {
     "name": "stdout",
     "output_type": "stream",
     "text": [
      "[1, 2, 4, 5, 6]\n"
     ]
    }
   ],
   "source": [
    "# Answer 28 - Flatten a nested list. \n",
    "\n",
    "list_nest = [1,2,[4,5,6]]\n",
    "\n",
    "flat = []\n",
    "\n",
    "for i in list_nest:\n",
    "    \n",
    "    if type(i)!=list:\n",
    "        flat.append(i)\n",
    "    else:\n",
    "        for j in i:\n",
    "            flat.append(j)\n",
    "print(flat)"
   ]
  },
  {
   "cell_type": "code",
   "execution_count": 122,
   "id": "b03f123f-8554-45a8-b2a6-1d0938840361",
   "metadata": {},
   "outputs": [
    {
     "name": "stdout",
     "output_type": "stream",
     "text": [
      "[0, 1, 1, 2, 3, 5, 8, 13, 21, 34, 55, 89, 144]\n"
     ]
    }
   ],
   "source": [
    "# Answer 29 - Create a list of the first 10 Fibonacci numbers.\n",
    "\n",
    "number = 10\n",
    "list1 = range(0,number + 1)\n",
    "\n",
    "fib = [0,1]\n",
    "a = 0\n",
    "b = 1\n",
    "sum = 0\n",
    "for i in list1:\n",
    "    sum = a + b\n",
    "    a = b\n",
    "    b = sum    \n",
    "    \n",
    "    fib.append(sum)\n",
    "    \n",
    "print(fib)\n"
   ]
  },
  {
   "cell_type": "code",
   "execution_count": 124,
   "id": "6d479957-3dfe-48a8-9373-f52c8ce1201d",
   "metadata": {},
   "outputs": [
    {
     "name": "stdout",
     "output_type": "stream",
     "text": [
      "this list is sorted\n",
      "this list is not sorted\n"
     ]
    }
   ],
   "source": [
    "# Answer 30 - Check if a list is sorted.\n",
    "\n",
    "list1 = [1,2,3,4,5]\n",
    "list2 = [3,2,5,3,6]\n",
    "\n",
    "if list1 == sorted(list1):\n",
    "    print('this list is sorted')\n",
    "if list2 != sorted(list2):\n",
    "    print('this list is not sorted')"
   ]
  },
  {
   "cell_type": "code",
   "execution_count": 187,
   "id": "e3d47eef-271e-4957-817f-d16ed6cd48bd",
   "metadata": {},
   "outputs": [
    {
     "name": "stdout",
     "output_type": "stream",
     "text": [
      "[2, 3, 4, 5, 6, 1]\n"
     ]
    }
   ],
   "source": [
    "# Answer 31 - Rotate a list to the left by `n` positions.\n",
    "\n",
    "list1 = [1,2,3,4,5,6]\n",
    "shift_by_n = 1\n",
    "\n",
    "left_trim_list = list1[:shift_by_n]\n",
    "right_trim_list = list1[shift_by_n:]\n",
    "\n",
    "list_shifted = right_trim_list + left_trim_list\n",
    "print(list_shifted)"
   ]
  },
  {
   "cell_type": "code",
   "execution_count": 197,
   "id": "7fea17f4-5eca-4c42-b8e6-2de44dcaaebc",
   "metadata": {},
   "outputs": [
    {
     "name": "stdout",
     "output_type": "stream",
     "text": [
      "[6, 1, 2, 3, 4, 5]\n"
     ]
    }
   ],
   "source": [
    "# Answer 32 - Rotate a list to the right by `n` positions.\n",
    "\n",
    "list1 = [1,2,3,4,5,6]\n",
    "shift_by_n = 1\n",
    "\n",
    "right_trim_list = list1[-shift_by_n:]\n",
    "left_trim_list = list1[:len(list1)-shift_by_n]\n",
    "\n",
    "list_shifted = right_trim_list + left_trim_list\n",
    "print(list_shifted)"
   ]
  },
  {
   "cell_type": "code",
   "execution_count": 198,
   "id": "ebc8631a-340d-407f-be73-3b964aa9c463",
   "metadata": {},
   "outputs": [
    {
     "name": "stdout",
     "output_type": "stream",
     "text": [
      "The prime numbers below the given numbers are:  [2, 3, 5, 7, 11, 13, 17, 19, 23, 29, 31, 37, 41, 43, 47]\n"
     ]
    }
   ],
   "source": [
    "# Answer 33 - Create a list of prime numbers up to 50.\n",
    "\n",
    "number = 50\n",
    "number_list = list(range(1,number+1))\n",
    "#print(number_list)\n",
    "prime=[]\n",
    "\n",
    "for i in number_list:\n",
    "    temp_list = list(range(1,i+1))\n",
    "    count = []\n",
    "    #print(temp_list)\n",
    "    for j in temp_list:\n",
    "        var = i/j\n",
    "        #print(var)\n",
    "        \n",
    "        if (var.is_integer())==True:\n",
    "            count.append(j)\n",
    "    #print(i,count)\n",
    "                        \n",
    "    if len(count)==2:\n",
    "        prime.append(i)\n",
    "print('The prime numbers below the given numbers are: ',prime)"
   ]
  },
  {
   "cell_type": "code",
   "execution_count": 200,
   "id": "68d15767-6b0f-411b-ad95-6f1ef8e1b392",
   "metadata": {
    "tags": []
   },
   "outputs": [
    {
     "name": "stdout",
     "output_type": "stream",
     "text": [
      "3\n"
     ]
    }
   ],
   "source": [
    "# Answer 34 - Split a list into chunks of size `n` - Check\n",
    "\n",
    "list1 = [1,2,3,4,5,6,7,8,9,10]\n",
    "n = 3\n",
    "list_len = len(list1)\n",
    "group = list_len//3\n",
    "\n",
    "list2 = []\n",
    "\n",
    "for i in range(:\n",
    "    list2.append(list_1[0:group])\n",
    "    \n",
    "    "
   ]
  },
  {
   "cell_type": "code",
   "execution_count": 2,
   "id": "456ad1bf-f275-4685-ac3b-6110576384bb",
   "metadata": {},
   "outputs": [
    {
     "name": "stdout",
     "output_type": "stream",
     "text": [
      "5\n"
     ]
    }
   ],
   "source": [
    "# Answer 35 - Find the second largest number in a list.\n",
    "\n",
    "list1 = [1,2,3,4,5,6]\n",
    "\n",
    "max_list1 = max(list1)\n",
    "list1.remove(max_list1)\n",
    "print(max(list1))\n",
    "\n"
   ]
  },
  {
   "cell_type": "code",
   "execution_count": 18,
   "id": "9ba0b9ca-8032-4584-ab23-c69bf7d4d75d",
   "metadata": {},
   "outputs": [
    {
     "name": "stdout",
     "output_type": "stream",
     "text": [
      "[81, 4, 49, 16, 25, 36]\n"
     ]
    }
   ],
   "source": [
    "# Answer 36 - Replace every element in a list with its square.\n",
    "\n",
    "list1 = [9,2,7,4,5,6]\n",
    "\n",
    "for i in range(len(list1)):\n",
    "    \n",
    "    list1[i] = list1[i] * list1[i]\n",
    "print(list1)"
   ]
  },
  {
   "cell_type": "code",
   "execution_count": 26,
   "id": "cac168a7-b531-4e9e-a97e-24b6f0c7e3b8",
   "metadata": {},
   "outputs": [
    {
     "name": "stdout",
     "output_type": "stream",
     "text": [
      "{'a': 0, 'b': 1, 'c': 2, 'd': 3}\n"
     ]
    }
   ],
   "source": [
    "# Answer 37 - Convert a list to a dictionary where list elements become keys and their\n",
    "# indices become values.\n",
    "\n",
    "list1 = ['a','b','c','d']\n",
    "\n",
    "d = {}\n",
    "\n",
    "for j in list1:\n",
    "        \n",
    "        d[j] = list1.index(j)\n",
    "    \n",
    "print(d)"
   ]
  },
  {
   "cell_type": "code",
   "execution_count": 20,
   "id": "1577ed72-57f5-4c06-9d09-5b85371d108d",
   "metadata": {},
   "outputs": [
    {
     "name": "stdout",
     "output_type": "stream",
     "text": [
      "[7, 8, 1, 6, 5, 3, 4, 2]\n"
     ]
    }
   ],
   "source": [
    "# Answer 38 - Shuffle the elements of a list randomly.\n",
    "import random\n",
    "\n",
    "l = [1,2,3,4,5,6,7,8]\n",
    "\n",
    "random.shuffle(l)\n",
    "print(l)\n"
   ]
  },
  {
   "cell_type": "code",
   "execution_count": 29,
   "id": "8b7dc991-d3b9-47f3-8757-229d62407527",
   "metadata": {},
   "outputs": [
    {
     "name": "stdout",
     "output_type": "stream",
     "text": [
      "720\n"
     ]
    }
   ],
   "source": [
    "# Answer 39 - Create a list of the first 10 factorial numbers.\n",
    "\n",
    "n = 6\n",
    "\n",
    "fac = 1\n",
    "\n",
    "for i in range(1,n+1):\n",
    "    fac = fac * i\n",
    "    \n",
    "print(fac)"
   ]
  },
  {
   "cell_type": "code",
   "execution_count": 22,
   "id": "af632e6a-e195-4543-bb78-45ceaeb49829",
   "metadata": {},
   "outputs": [
    {
     "name": "stdout",
     "output_type": "stream",
     "text": [
      "there are atleast one element in common between the lists\n"
     ]
    }
   ],
   "source": [
    "# Answer 40 - Check if two lists have at least one element in common.\n",
    "\n",
    "l1 = [1,2,3,4]\n",
    "l2 = [4,5,6,7]\n",
    "\n",
    "count = 0\n",
    "\n",
    "for i in l1:\n",
    "    for j in l2:\n",
    "        \n",
    "        if i==j:\n",
    "            count = count + 1\n",
    "            \n",
    "if count>0:\n",
    "    print('there are atleast one element in common between the lists')\n",
    "    \n",
    "else:\n",
    "    print('there are no elements in common')\n",
    "        "
   ]
  },
  {
   "cell_type": "code",
   "execution_count": 38,
   "id": "02133a58-4ccd-4339-99f4-5b693cbfdae0",
   "metadata": {},
   "outputs": [
    {
     "name": "stdout",
     "output_type": "stream",
     "text": [
      "[]\n"
     ]
    }
   ],
   "source": [
    "# Answer 41 - Remove all elements from a list.\n",
    "\n",
    "list1 = [1,2,3,4,6]\n",
    "\n",
    "for i in range(len(list1)):\n",
    "    list1.pop()\n",
    "    \n",
    "print(list1)"
   ]
  },
  {
   "cell_type": "code",
   "execution_count": 43,
   "id": "44fc593a-13b4-4f66-82d6-09c6856d6b6b",
   "metadata": {},
   "outputs": [
    {
     "name": "stdout",
     "output_type": "stream",
     "text": [
      "[0, 0, 0, 2, 5, 0, 5]\n"
     ]
    }
   ],
   "source": [
    "# Answer 42 - Replace negative numbers in a list with 0.\n",
    "\n",
    "l = [-1,-2,-5,2,5,-7,5]\n",
    "\n",
    "for i in range(len(l)):\n",
    "    if l[i]<0:\n",
    "        l[i]=0\n",
    "print(l)"
   ]
  },
  {
   "cell_type": "code",
   "execution_count": 45,
   "id": "75e6ce1b-a477-46e7-b47e-a844b4274c4a",
   "metadata": {},
   "outputs": [
    {
     "name": "stdout",
     "output_type": "stream",
     "text": [
      "['I', 'am', 'learning', 'python', 'very', 'fast']\n"
     ]
    }
   ],
   "source": [
    "# Answer 43 - Convert a string into a list of words.\n",
    "\n",
    "l = 'I am learning python very fast'\n",
    "\n",
    "list_of_words = l.split()\n",
    "print(list_of_words)"
   ]
  },
  {
   "cell_type": "code",
   "execution_count": 47,
   "id": "450aed2f-3ca2-4ac2-898d-5410e752b2b0",
   "metadata": {},
   "outputs": [
    {
     "name": "stdout",
     "output_type": "stream",
     "text": [
      "I am learning python very fast\n"
     ]
    }
   ],
   "source": [
    "# Answer 44 - Convert a list of words into a string.\n",
    "\n",
    "l = ['I', 'am', 'learning', 'python', 'very', 'fast']\n",
    "print(' '.join(l))"
   ]
  },
  {
   "cell_type": "code",
   "execution_count": 48,
   "id": "cf473592-0e00-4d1a-81d7-115663bbfc76",
   "metadata": {},
   "outputs": [
    {
     "name": "stdout",
     "output_type": "stream",
     "text": [
      "2 4 8 16 32 "
     ]
    }
   ],
   "source": [
    "# Answer 45 - Create a list of the first `n` powers of 2.\n",
    "\n",
    "n = 5\n",
    "\n",
    "for i in range(1,n+1):\n",
    "    \n",
    "    print(2**i,end=' ')\n",
    "    "
   ]
  },
  {
   "cell_type": "code",
   "execution_count": 39,
   "id": "243074d8-129c-47cc-9a77-908670bdec9f",
   "metadata": {},
   "outputs": [
    {
     "name": "stdout",
     "output_type": "stream",
     "text": [
      "the longest word is pyaar\n"
     ]
    }
   ],
   "source": [
    "# Answer 46 - Find the longest string in a list of strings.\n",
    "\n",
    "l = ['i','love','you','pyaar']\n",
    "\n",
    "l1 = []\n",
    "\n",
    "for i in l:\n",
    "\n",
    "    l1.append(len(i))\n",
    "        \n",
    "\n",
    "i1 = l1.index(max(l1))\n",
    "\n",
    "print('the longest word is',l[i1])\n"
   ]
  },
  {
   "cell_type": "code",
   "execution_count": 40,
   "id": "65283285-b5ce-4b57-a8b0-e8eb31298f48",
   "metadata": {},
   "outputs": [
    {
     "name": "stdout",
     "output_type": "stream",
     "text": [
      "the longest word is i\n"
     ]
    }
   ],
   "source": [
    "# Answer 47 - Find the shortest string in a list of strings.\n",
    "\n",
    "l = ['i','love','you','pyaar']\n",
    "\n",
    "l1 = []\n",
    "\n",
    "for i in l:\n",
    "\n",
    "    l1.append(len(i))\n",
    "        \n",
    "\n",
    "i1 = l1.index(min(l1))\n",
    "\n",
    "print('the longest word is',l[i1])"
   ]
  },
  {
   "cell_type": "code",
   "execution_count": 42,
   "id": "9d7356fa-68b6-4d53-942c-ee5e9ce06b0a",
   "metadata": {},
   "outputs": [
    {
     "data": {
      "text/plain": [
       "[1, 3, 6, 10]"
      ]
     },
     "execution_count": 42,
     "metadata": {},
     "output_type": "execute_result"
    }
   ],
   "source": [
    "# Answer 48 - Create a list of the first `n` triangular numbers.\n",
    "\n",
    "n = 4\n",
    "\n",
    "[int(i*(i+1)/2) for i in range(1,n+1)]"
   ]
  },
  {
   "cell_type": "code",
   "execution_count": 44,
   "id": "e6e7ced0-50b4-4091-9574-580aa031aa01",
   "metadata": {},
   "outputs": [
    {
     "name": "stdout",
     "output_type": "stream",
     "text": [
      "the list does not contain another list\n"
     ]
    }
   ],
   "source": [
    "# Answer 49 - Check if a list contains another list as a subsequence.\n",
    "\n",
    "l = [1,2,3,[4,5]]\n",
    "\n",
    "for i in l:\n",
    "    \n",
    "    if type(i)==list:\n",
    "        print('the list contains another list')\n",
    "        break\n",
    "    else:\n",
    "        print('the list does not contain another list')\n",
    "        break"
   ]
  },
  {
   "cell_type": "code",
   "execution_count": 53,
   "id": "9fad959a-a7cf-4de2-9ab9-11fe153251aa",
   "metadata": {},
   "outputs": [
    {
     "name": "stdout",
     "output_type": "stream",
     "text": [
      "['f', 'a', 'd']\n"
     ]
    }
   ],
   "source": [
    "# Answer 50 - Swap two elements in a list by their indices.\n",
    "\n",
    "l = ['a','f','d']\n",
    "\n",
    "l[0],l[1]=l[1],l[0]\n",
    "\n",
    "print(l)"
   ]
  },
  {
   "cell_type": "code",
   "execution_count": 1,
   "id": "7deae6d9-8754-46a4-abda-5b6eaeebe218",
   "metadata": {},
   "outputs": [],
   "source": [
    "# Tuple based problems"
   ]
  },
  {
   "cell_type": "code",
   "execution_count": 6,
   "id": "de21e024-a7fc-4441-a44c-ab975dd4d06a",
   "metadata": {},
   "outputs": [
    {
     "name": "stdout",
     "output_type": "stream",
     "text": [
      "(1, 2, 3, 4, 5)\n"
     ]
    }
   ],
   "source": [
    "# answer 1 - Create a tuple with integers from 1 to 5.\n",
    "\n",
    "l = list(range(1,6))\n",
    "t = tuple(l)\n",
    "print(t)"
   ]
  },
  {
   "cell_type": "code",
   "execution_count": 7,
   "id": "e4159305-ed47-47f1-8eb5-c48a99664b30",
   "metadata": {},
   "outputs": [
    {
     "name": "stdout",
     "output_type": "stream",
     "text": [
      "3\n"
     ]
    }
   ],
   "source": [
    "# answer - 2 - Access the third element of a tuple.\n",
    "\n",
    "l = list(range(1,6))\n",
    "t = tuple(l)\n",
    "print(t[2])"
   ]
  },
  {
   "cell_type": "code",
   "execution_count": 9,
   "id": "bcf1d762-a01a-4e70-aa92-da079aa84098",
   "metadata": {},
   "outputs": [
    {
     "name": "stdout",
     "output_type": "stream",
     "text": [
      "the length of the tuple: 5\n"
     ]
    }
   ],
   "source": [
    "# Answer  -3- Find the length of a tuple without using the `len()` function.\n",
    "\n",
    "t= (1,2,3,4,5)\n",
    "count = 0\n",
    "\n",
    "for i in t:\n",
    "    count += 1\n",
    "    \n",
    "print('the length of the tuple:',count)\n",
    "    "
   ]
  },
  {
   "cell_type": "code",
   "execution_count": 11,
   "id": "df840b54-e7e1-4aa6-b18f-c4a0c00a82bc",
   "metadata": {},
   "outputs": [
    {
     "name": "stdout",
     "output_type": "stream",
     "text": [
      "the number of occurances of element 'o in tthe tuple is: 3\n"
     ]
    }
   ],
   "source": [
    "# Answer 4 - Count the occurrences of an element in a tuple.\n",
    "\n",
    "t= (1,2,1,4,1)\n",
    "o = 1\n",
    "count = 0\n",
    "\n",
    "for i in t:\n",
    "    \n",
    "    if o==i:\n",
    "        count +=1\n",
    "\n",
    "print('the number of occurances of element \\'o in tthe tuple is:',count)\n",
    "    \n"
   ]
  },
  {
   "cell_type": "code",
   "execution_count": 15,
   "id": "e366c178-2a21-4bd7-bbcc-8b3e226902e4",
   "metadata": {},
   "outputs": [
    {
     "name": "stdout",
     "output_type": "stream",
     "text": [
      "1\n"
     ]
    }
   ],
   "source": [
    "# Answer 5 - Find the index of the first occurrence of an element in a tuple.\n",
    "\n",
    "t = ('z','a','b','a','c')\n",
    "o = 'a'\n",
    "\n",
    "for i in t:\n",
    "    \n",
    "    if i==o:\n",
    "        print(t.index(i))\n",
    "        break\n"
   ]
  },
  {
   "cell_type": "code",
   "execution_count": 17,
   "id": "61fd8360-331f-4496-9c9f-68ae38e75634",
   "metadata": {},
   "outputs": [
    {
     "name": "stdout",
     "output_type": "stream",
     "text": [
      "The given element is present inside the tuple\n"
     ]
    }
   ],
   "source": [
    "# Answer 6 - Check if an element exists in a tuple.\n",
    "\n",
    "t = ('z','a','b','a','c')\n",
    "e = 'a'\n",
    "\n",
    "for i in t:\n",
    "    if i==e:\n",
    "        print('The given element is present inside the tuple')\n",
    "        break"
   ]
  },
  {
   "cell_type": "code",
   "execution_count": 18,
   "id": "440b888c-0271-4fee-a953-f8e397b527f1",
   "metadata": {},
   "outputs": [
    {
     "name": "stdout",
     "output_type": "stream",
     "text": [
      "['z', 'a', 'b', 'a', 'c']\n"
     ]
    }
   ],
   "source": [
    "# Answer 7 - Convert a tuple to a list.\n",
    "\n",
    "t = ('z','a','b','a','c')\n",
    "l = list(t)\n",
    "print(l)\n"
   ]
  },
  {
   "cell_type": "code",
   "execution_count": 19,
   "id": "cef2931d-011c-44b1-94ea-6c578c2022b6",
   "metadata": {},
   "outputs": [
    {
     "name": "stdout",
     "output_type": "stream",
     "text": [
      "('z', 'a', 'b', 'a', 'c')\n"
     ]
    }
   ],
   "source": [
    "# Answer 8 - Convert a list to a tuple.\n",
    "\n",
    "l = ['z', 'a', 'b', 'a', 'c']\n",
    "\n",
    "t = tuple(l)\n",
    "\n",
    "print(t)"
   ]
  },
  {
   "cell_type": "code",
   "execution_count": 47,
   "id": "f4ab1eee-b22c-44ac-a51f-f7ad2bc270a1",
   "metadata": {},
   "outputs": [
    {
     "name": "stdout",
     "output_type": "stream",
     "text": [
      "1\n",
      "2\n"
     ]
    }
   ],
   "source": [
    "# Answer 9 - Unpack the elements of a tuple into variables.\n",
    "\n",
    "t = (1,2)\n",
    "\n",
    "a,b = t\n",
    "print(a)\n",
    "print(b)"
   ]
  },
  {
   "cell_type": "code",
   "execution_count": 24,
   "id": "0228d2e3-d3b7-4525-93a1-fc1f72f09ff6",
   "metadata": {},
   "outputs": [
    {
     "name": "stdout",
     "output_type": "stream",
     "text": [
      "(2, 4, 6, 8, 10)\n"
     ]
    }
   ],
   "source": [
    "# Answer 10 - Create a tuple of even numbers from 1 to 10.\n",
    "\n",
    "l = list(range(2,11,2))\n",
    "t = tuple(l)\n",
    "\n",
    "print(t)\n"
   ]
  },
  {
   "cell_type": "code",
   "execution_count": 25,
   "id": "44e06ed5-84dd-45c0-8635-836997380629",
   "metadata": {},
   "outputs": [
    {
     "name": "stdout",
     "output_type": "stream",
     "text": [
      "(1, 3, 5, 7, 9)\n"
     ]
    }
   ],
   "source": [
    "# Answer 11 - Create a tuple of odd numbers from 1 to 10.\n",
    "\n",
    "l = list(range(1,10,2))\n",
    "t = tuple(l)\n",
    "\n",
    "print(t)"
   ]
  },
  {
   "cell_type": "code",
   "execution_count": 26,
   "id": "56806c0c-adff-4de3-8f95-2214553a4f32",
   "metadata": {},
   "outputs": [
    {
     "name": "stdout",
     "output_type": "stream",
     "text": [
      "(1, 2, 3, 4, 5, 6)\n"
     ]
    }
   ],
   "source": [
    "# Answer 12 - Concatenate two tuples.\n",
    "\n",
    "t1 = (1,2,3)\n",
    "t2 = (4,5,6)\n",
    "t = t1+t2\n",
    "print(t)"
   ]
  },
  {
   "cell_type": "code",
   "execution_count": 76,
   "id": "a9557c7e-1818-4dd6-b637-d6b011ed34c6",
   "metadata": {},
   "outputs": [
    {
     "name": "stdout",
     "output_type": "stream",
     "text": [
      "(1, 2, 3) (1, 2, 3) (1, 2, 3)\n"
     ]
    }
   ],
   "source": [
    "# Answer 13 -  Repeat a tuple three times.\n",
    "\n",
    "t1 = (1,2,3)\n",
    "t = 3*t1\n",
    "\n",
    "print(t1,t1,t1)"
   ]
  },
  {
   "cell_type": "code",
   "execution_count": 32,
   "id": "555e17e4-4a4f-4eb8-b6b0-9ae732428494",
   "metadata": {},
   "outputs": [
    {
     "name": "stdout",
     "output_type": "stream",
     "text": [
      "the tuple is not empty\n"
     ]
    }
   ],
   "source": [
    "# Answer 14 - Check if a tuple is empty.\n",
    "\n",
    "t1 = (1,2)\n",
    "t0 = ()\n",
    "\n",
    "\n",
    "if t1==t0:\n",
    "    print('The tuple is empty')\n",
    "    \n",
    "else:\n",
    "    print('the tuple is not empty')\n"
   ]
  },
  {
   "cell_type": "code",
   "execution_count": 33,
   "id": "0c20f35a-b688-4fe5-9930-82958350666c",
   "metadata": {},
   "outputs": [
    {
     "name": "stdout",
     "output_type": "stream",
     "text": [
      "((1, 2), (3, 4))\n"
     ]
    }
   ],
   "source": [
    "# Answer 15 - Create a nested tuple\n",
    "\n",
    "t = ((1,2),(3,4))\n",
    "print(t)"
   ]
  },
  {
   "cell_type": "code",
   "execution_count": 35,
   "id": "2dca3be4-f1e7-4bd0-8f56-08fc361a890f",
   "metadata": {},
   "outputs": [
    {
     "name": "stdout",
     "output_type": "stream",
     "text": [
      "1\n"
     ]
    }
   ],
   "source": [
    "# Answer 16 - Access the first element of a nested tuple.\n",
    "\n",
    "t = ((1,2),(3,4))\n",
    "print(t[0][0])\n"
   ]
  },
  {
   "cell_type": "code",
   "execution_count": 36,
   "id": "2f5209f0-3254-45fb-964c-dd80087d4b57",
   "metadata": {},
   "outputs": [
    {
     "name": "stdout",
     "output_type": "stream",
     "text": [
      "1\n"
     ]
    }
   ],
   "source": [
    "# Answer 17 - Create a tuple with a single element.\n",
    "\n",
    "t = (1)\n",
    "\n",
    "print(t)"
   ]
  },
  {
   "cell_type": "code",
   "execution_count": 50,
   "id": "58191283-d7f1-47eb-a947-36eab6af9c86",
   "metadata": {},
   "outputs": [
    {
     "name": "stdout",
     "output_type": "stream",
     "text": [
      "both t1 and t2 are equal\n",
      "both t1 and t3 are not equal\n"
     ]
    }
   ],
   "source": [
    "# Answer 18 - Compare two tuples.\n",
    "\n",
    "t1 = (1,2)\n",
    "t2 = (1,2)\n",
    "t3 = (2,3)\n",
    "\n",
    "if t1==t2:\n",
    "    print('both t1 and t2 are equal')\n",
    "if t1==t3:\n",
    "    print('both t1 and t3 are equal')\n",
    "else:\n",
    "    print('both t1 and t3 are not equal')\n",
    "    "
   ]
  },
  {
   "cell_type": "code",
   "execution_count": 38,
   "id": "05ae1d69-738a-46f1-a6c7-3ba2e176c70c",
   "metadata": {},
   "outputs": [
    {
     "name": "stdout",
     "output_type": "stream",
     "text": [
      "(1, 2)\n"
     ]
    },
    {
     "ename": "NameError",
     "evalue": "name 't' is not defined",
     "output_type": "error",
     "traceback": [
      "\u001b[0;31m---------------------------------------------------------------------------\u001b[0m",
      "\u001b[0;31mNameError\u001b[0m                                 Traceback (most recent call last)",
      "Cell \u001b[0;32mIn[38], line 6\u001b[0m\n\u001b[1;32m      4\u001b[0m \u001b[38;5;28mprint\u001b[39m(t)\n\u001b[1;32m      5\u001b[0m \u001b[38;5;28;01mdel\u001b[39;00m t\n\u001b[0;32m----> 6\u001b[0m \u001b[38;5;28mprint\u001b[39m(\u001b[43mt\u001b[49m)\n",
      "\u001b[0;31mNameError\u001b[0m: name 't' is not defined"
     ]
    }
   ],
   "source": [
    "# Answer 19 - Delete a tuple.\n",
    "\n",
    "t = (1,2)\n",
    "print(t)\n",
    "del t\n",
    "print(t)"
   ]
  },
  {
   "cell_type": "code",
   "execution_count": 39,
   "id": "8865f698-0032-4082-8d4f-13a1fc3a98d2",
   "metadata": {},
   "outputs": [
    {
     "data": {
      "text/plain": [
       "(2,)"
      ]
     },
     "execution_count": 39,
     "metadata": {},
     "output_type": "execute_result"
    }
   ],
   "source": [
    "# Answer 20 -Slice a tuple.\n",
    "\n",
    "t = (1,2,3,4,5)\n",
    "t[1:2]"
   ]
  },
  {
   "cell_type": "code",
   "execution_count": 40,
   "id": "aee307f7-88ec-4787-9a09-7742ef2cfe6a",
   "metadata": {},
   "outputs": [
    {
     "name": "stdout",
     "output_type": "stream",
     "text": [
      "5\n"
     ]
    }
   ],
   "source": [
    "# Answer 21 - Find the maximum value in a tuple.\n",
    "\n",
    "t = (1,2,3,4,5)\n",
    "print(max(t))"
   ]
  },
  {
   "cell_type": "code",
   "execution_count": 41,
   "id": "0e179395-8b62-484b-9cee-1990c5092a75",
   "metadata": {},
   "outputs": [
    {
     "name": "stdout",
     "output_type": "stream",
     "text": [
      "1\n"
     ]
    }
   ],
   "source": [
    "# Answer 22 - Find the minimum value in a tuple.\n",
    "\n",
    "t = (1,2,3,4,5)\n",
    "print(min(t))"
   ]
  },
  {
   "cell_type": "code",
   "execution_count": 42,
   "id": "b89abc1b-454a-4d7f-a6d6-127b450f3604",
   "metadata": {},
   "outputs": [
    {
     "name": "stdout",
     "output_type": "stream",
     "text": [
      "('p', 'y', 't', 'h', 'o', 'n', ' ', 'i', 's', ' ', 'a', 'n', ' ', 'e', 'a', 's', 'y', ' ', 'p', 'r', 'o', 'g', 'r', 'a', 'm')\n"
     ]
    }
   ],
   "source": [
    "# Answer 23 - Convert a string to a tuple of characters.\n",
    "\n",
    "s = 'python is an easy program'\n",
    "list_char = []\n",
    "for i in s:\n",
    "    list_char.append(i)\n",
    "t = tuple(list_char)\n",
    "print(t)\n",
    "    \n"
   ]
  },
  {
   "cell_type": "code",
   "execution_count": 44,
   "id": "535285db-299c-47e0-a8aa-8f821263fa75",
   "metadata": {},
   "outputs": [
    {
     "name": "stdout",
     "output_type": "stream",
     "text": [
      "(1, 'a', [1, 2], {'a': 5, 'b': 6})\n"
     ]
    }
   ],
   "source": [
    "# Answer 25 - Create a tuple from multiple data types.\n",
    "\n",
    "t = (1,'a',[1,2],{'a':5,'b':6})\n",
    "print(t)"
   ]
  },
  {
   "cell_type": "code",
   "execution_count": 45,
   "id": "3e901eda-3913-4856-89c9-8b8caaabfed7",
   "metadata": {},
   "outputs": [
    {
     "name": "stdout",
     "output_type": "stream",
     "text": [
      "Both t1 and t2 tuples are identical\n",
      "Both t1 and t3 tuples are not identical\n"
     ]
    }
   ],
   "source": [
    "# Answer 26 - Check if two tuples are identical.\n",
    "\n",
    "t1 = (1,2,3)\n",
    "t2 = (1,2,3)\n",
    "t3 = (3,2,1)\n",
    "\n",
    "if t1==t2:\n",
    "    print('Both t1 and t2 tuples are identical')\n",
    "\n",
    "if t1==t3:\n",
    "    print('Both t1 and t3 tuples are identical')\n",
    "    \n",
    "else:\n",
    "    print('Both t1 and t3 tuples are not identical')"
   ]
  },
  {
   "cell_type": "code",
   "execution_count": 49,
   "id": "db55ad26-bdb3-4a00-a837-9550ba8b6a17",
   "metadata": {},
   "outputs": [
    {
     "name": "stdout",
     "output_type": "stream",
     "text": [
      "(1, 2, 2, 4, 5, 5, 8, 9)\n"
     ]
    }
   ],
   "source": [
    "# Answer 27 -Sort the elements of a tuple.\n",
    "\n",
    "t = (5,4,2,1,8,9,2,5)\n",
    "\n",
    "print(tuple(sorted(t)))"
   ]
  },
  {
   "cell_type": "code",
   "execution_count": 52,
   "id": "84eb28a3-9470-4a9e-8c6b-9d654cfba960",
   "metadata": {},
   "outputs": [
    {
     "name": "stdout",
     "output_type": "stream",
     "text": [
      "[1, 2, 3, 4, 4]\n",
      "['1', '2', '3', '4', '4']\n"
     ]
    }
   ],
   "source": [
    "# Answer 28 - Convert a tuple of integers to a tuple of strings.\n",
    "\n",
    "t = (1,2,3,4,4)\n",
    "l1 = list(t)\n",
    "l2 = []\n",
    "for i in t:\n",
    "    \n",
    "    a = str(i)\n",
    "    \n",
    "    l2.append(a)\n",
    "print(l1) \n",
    "print(l2)"
   ]
  },
  {
   "cell_type": "code",
   "execution_count": 75,
   "id": "f63cda26-cca4-49ed-aa75-336dc8bc21df",
   "metadata": {},
   "outputs": [
    {
     "name": "stdout",
     "output_type": "stream",
     "text": [
      "(1, 2, 3)\n"
     ]
    }
   ],
   "source": [
    "# Answer 29 - Convert a tuple of strings to a tuple of integers.\n",
    "\n",
    "t = ('1','2','3')\n",
    "\n",
    "l = []\n",
    "\n",
    "for i in t:\n",
    "    a = int(i)\n",
    "    l.append(a)\n",
    "\n",
    "t1 = tuple(l)\n",
    "print(t1)"
   ]
  },
  {
   "cell_type": "code",
   "execution_count": 78,
   "id": "2972d0a4-0520-4a5d-8d8c-7fd6d91ba9da",
   "metadata": {},
   "outputs": [
    {
     "name": "stdout",
     "output_type": "stream",
     "text": [
      "(1, 2, 3, 4, 5, 6)\n"
     ]
    }
   ],
   "source": [
    "# Answer 30 - Merge 2 tuples\n",
    "\n",
    "t1 = (1,2,3)\n",
    "t2 = (4,5,6)\n",
    "\n",
    "print(t1+t2)"
   ]
  },
  {
   "cell_type": "code",
   "execution_count": 55,
   "id": "0346e4f4-ba64-4ec7-81dd-bf05c56afdfa",
   "metadata": {},
   "outputs": [
    {
     "name": "stdout",
     "output_type": "stream",
     "text": [
      "(1, 2, 3, 4)\n"
     ]
    }
   ],
   "source": [
    "# Answer 31 - Flatten a nested tuple.\n",
    "\n",
    "t = ((1,2),(3,4))\n",
    "\n",
    "l = list(t)\n",
    "\n",
    "l1 = [j for i in l for j in i]\n",
    "\n",
    "t1 = tuple(l1)\n",
    "\n",
    "print(t1)"
   ]
  },
  {
   "cell_type": "code",
   "execution_count": 82,
   "id": "5c527a32-dbab-4471-8d79-d2f6677faf65",
   "metadata": {},
   "outputs": [
    {
     "name": "stdout",
     "output_type": "stream",
     "text": [
      "(2, 3, 5, 7, 11, 13)\n"
     ]
    }
   ],
   "source": [
    "# Answer 32 - Create a tuple of the first 5 prime numbers.\n",
    "\n",
    "number = 13\n",
    "number_list = list(range(1,number+1))\n",
    "#print(number_list)\n",
    "prime=[]\n",
    "\n",
    "for i in number_list:\n",
    "    temp_list = list(range(1,i+1))\n",
    "    count = []\n",
    "    #print(temp_list)\n",
    "    for j in temp_list:\n",
    "        var = i/j\n",
    "        #print(var)\n",
    "        \n",
    "        if (var.is_integer())==True:\n",
    "            count.append(j)\n",
    "    #print(i,count)\n",
    "                        \n",
    "    if len(count)==2:\n",
    "        prime.append(i)\n",
    "        \n",
    "t = tuple(prime)\n",
    "\n",
    "print(t)\n",
    "    \n"
   ]
  },
  {
   "cell_type": "code",
   "execution_count": 3,
   "id": "ea172b9e-2d1c-40fb-94e3-89ab3f2b6850",
   "metadata": {},
   "outputs": [
    {
     "name": "stdout",
     "output_type": "stream",
     "text": [
      "the given tuple is a palindrome\n"
     ]
    }
   ],
   "source": [
    "# Answer 33 - Check if a tuple is a palindrome.\n",
    "\n",
    "t = (1,2,3,3,2,1)\n",
    "\n",
    "t_rev = t[::-1]\n",
    "\n",
    "if t==t_rev:\n",
    "    print('the given tuple is a palindrome')\n",
    "else:\n",
    "    print('the given tuple is not a palindrome')\n",
    "    \n"
   ]
  },
  {
   "cell_type": "code",
   "execution_count": 6,
   "id": "b030215a-0f59-4ac7-af4e-813ba3fcb6da",
   "metadata": {},
   "outputs": [
    {
     "name": "stdout",
     "output_type": "stream",
     "text": [
      "(1, 4, 9, 16, 25)\n"
     ]
    }
   ],
   "source": [
    "# Answer 34 - Create a tuple of squares of numbers from 1 to 5.\n",
    "\n",
    "l = list(range(1,6))\n",
    "\n",
    "for i in l:\n",
    "    l[i-1] = l[i-1]*l[i-1]\n",
    "    \n",
    "tup = tuple(l)\n",
    "print(tup)"
   ]
  },
  {
   "cell_type": "code",
   "execution_count": 10,
   "id": "970a29fb-01af-477b-a919-3623bfc61284",
   "metadata": {},
   "outputs": [
    {
     "name": "stdout",
     "output_type": "stream",
     "text": [
      "(2, 4, 6)\n"
     ]
    }
   ],
   "source": [
    "# Answer 35 - Filter out all even numbers from a tuple.\n",
    "\n",
    "t = (1,2,3,4,5,6)\n",
    "\n",
    "l = list(t)\n",
    "l1 = []\n",
    "\n",
    "for i in l:\n",
    "    if i%2==0:\n",
    "        l1.append(i)\n",
    "        \n",
    "tup = tuple(l1)\n",
    "print(tup)"
   ]
  },
  {
   "cell_type": "code",
   "execution_count": 13,
   "id": "6d3c89c6-73d2-4aab-99c9-3ebd1e461923",
   "metadata": {},
   "outputs": [
    {
     "name": "stdout",
     "output_type": "stream",
     "text": [
      "(2, 4, 6)\n"
     ]
    }
   ],
   "source": [
    "# Answer 36 - Multiply all elements in a tuple by 2.\n",
    "\n",
    "t = (1,2,3)\n",
    "l = list(t)\n",
    "l1 = []\n",
    "for i in l:\n",
    "    l1.append(2*i)\n",
    "    \n",
    "tup = tuple(l1)\n",
    "print(tup)\n"
   ]
  },
  {
   "cell_type": "code",
   "execution_count": 57,
   "id": "0c943c82-ca0f-45c1-bcc3-2130d59c67ca",
   "metadata": {},
   "outputs": [
    {
     "name": "stdout",
     "output_type": "stream",
     "text": [
      "(18, 12, 7, 10, 3, 17, 7, 4, 5, 13)\n"
     ]
    }
   ],
   "source": [
    "# Answer 37 - Create a tuple of random numbers.\n",
    "\n",
    "import random\n",
    "\n",
    "l = []\n",
    "\n",
    "for i in range(1,11):\n",
    "    l.append(random.randint(1,20))\n",
    "    \n",
    "t = tuple(l)\n",
    "print(t)"
   ]
  },
  {
   "cell_type": "code",
   "execution_count": 18,
   "id": "b6946d7f-dcd8-44a8-9c91-c215e6be5038",
   "metadata": {},
   "outputs": [
    {
     "name": "stdout",
     "output_type": "stream",
     "text": [
      "Given tuple is sorted\n"
     ]
    }
   ],
   "source": [
    "# Answer 38 - Check if a tuple is sorted.\n",
    "\n",
    "t = (1,2,3,4)\n",
    "\n",
    "tup = tuple(sorted(list(t)))\n",
    "\n",
    "if t==tup:\n",
    "    print('Given tuple is sorted')\n",
    "else:\n",
    "    print('Given tuple is not sorted')\n"
   ]
  },
  {
   "cell_type": "code",
   "execution_count": 11,
   "id": "9748a765-f70c-4137-929f-85247e1fcb4b",
   "metadata": {},
   "outputs": [
    {
     "name": "stdout",
     "output_type": "stream",
     "text": [
      "(3, 4, 5, 6, 7, 8, 9, 1, 2)\n"
     ]
    }
   ],
   "source": [
    "# Answer 39 - Rotate a tuple to the left by `n` positions.\n",
    "\n",
    "t = (1,2,3,4,5,6,7,8,9)\n",
    "n_move_left_by = 2\n",
    "\n",
    "l = list(t)\n",
    "l_left = l[:n_move_left_by]\n",
    "l_right = l[n_move_left_by:]\n",
    "\n",
    "l_new = l_right + l_left\n",
    "\n",
    "\n",
    "t_new = tuple(l_new)\n",
    "print(t_new)"
   ]
  },
  {
   "cell_type": "code",
   "execution_count": 14,
   "id": "c46f7334-16c3-488a-89a1-3867df46e8f2",
   "metadata": {},
   "outputs": [
    {
     "name": "stdout",
     "output_type": "stream",
     "text": [
      "[8, 9, 1, 2, 3, 4, 5, 6, 7]\n"
     ]
    }
   ],
   "source": [
    "# Answer 40 - Rotate a tuple to the right by `n` positions.\n",
    "\n",
    "\n",
    "t = (1,2,3,4,5,6,7,8,9)\n",
    "n_move_right_by = 2\n",
    "\n",
    "l = list(t)\n",
    "l_left = l[-n_move_right_by:]\n",
    "l_right = l[:-n_move_right_by]\n",
    "\n",
    "l_new = l_left + l_right\n",
    "\n",
    "\n",
    "t_new = tuple(l_new)\n",
    "print(l_new)\n"
   ]
  },
  {
   "cell_type": "code",
   "execution_count": 23,
   "id": "1cb01f29-9f11-4a3f-963c-45ba17ad6e30",
   "metadata": {},
   "outputs": [
    {
     "name": "stdout",
     "output_type": "stream",
     "text": [
      "(0, 1, 1, 2, 3, 5)\n"
     ]
    }
   ],
   "source": [
    "# Answer 41 - Create a tuple of the first 5 Fibonacci numbers.\n",
    "\n",
    "n = 5\n",
    "\n",
    "a = 0\n",
    "b = 1\n",
    "sum = 0\n",
    "l = [a]\n",
    "\n",
    "for i in range(1,n+1):\n",
    "    a = b\n",
    "    b = sum\n",
    "    sum = a + b\n",
    "    l.append(sum)\n",
    "t = tuple(l)\n",
    "print(t)\n"
   ]
  },
  {
   "cell_type": "code",
   "execution_count": 30,
   "id": "9316d48b-3586-4b0d-ba53-347f76d5bec5",
   "metadata": {},
   "outputs": [
    {
     "name": "stdin",
     "output_type": "stream",
     "text": [
      "Enter the length of tuple 4\n",
      "Enter a number 1\n",
      "Enter a number 2\n",
      "Enter a number 8\n",
      "Enter a number 9\n"
     ]
    },
    {
     "name": "stdout",
     "output_type": "stream",
     "text": [
      "(1, 2, 8, 9)\n"
     ]
    }
   ],
   "source": [
    "# Answer 42 - Create a tuple from user input.\n",
    "\n",
    "l = []\n",
    "\n",
    "n = int(input('Enter the length of tuple'))\n",
    "\n",
    "for i in range(1,n+1):\n",
    "    \n",
    "    a = int(input('Enter a number'))\n",
    "    l.append(a)\n",
    "\n",
    "t = tuple(l)\n",
    "print(t)\n",
    "    \n",
    "   "
   ]
  },
  {
   "cell_type": "code",
   "execution_count": 32,
   "id": "bcf08f9f-72fa-43c2-bcbf-cdd4b6c85044",
   "metadata": {},
   "outputs": [
    {
     "name": "stdout",
     "output_type": "stream",
     "text": [
      "(9, 4)\n"
     ]
    }
   ],
   "source": [
    "# Answer 43 - Swap two elements in a tuple.\n",
    "\n",
    "t = (4,9)\n",
    "\n",
    "l = list(t)\n",
    "l1 = l[::-1]\n",
    "t1 = tuple(l1)\n",
    "\n",
    "print(t1)"
   ]
  },
  {
   "cell_type": "code",
   "execution_count": 33,
   "id": "2b780307-ed08-4e6f-97bd-77e1680cf7dc",
   "metadata": {},
   "outputs": [
    {
     "name": "stdout",
     "output_type": "stream",
     "text": [
      "(4, 6, 8, 9, 2, 4, 8, 5)\n"
     ]
    }
   ],
   "source": [
    "# Answer 44 - Reverse the elements of a tuple.\n",
    "\n",
    "t = (5,8,4,2,9,8,6,4)\n",
    "\n",
    "l = list(tuple(t))\n",
    "\n",
    "l1 = l[::-1]\n",
    "\n",
    "t1 = tuple(l1)\n",
    "\n",
    "print(t1)"
   ]
  },
  {
   "cell_type": "code",
   "execution_count": 35,
   "id": "a0cb49e7-c39b-4bf4-95d8-24977e7187e6",
   "metadata": {},
   "outputs": [
    {
     "name": "stdin",
     "output_type": "stream",
     "text": [
      "enter number below 10 5\n"
     ]
    },
    {
     "name": "stdout",
     "output_type": "stream",
     "text": [
      "(2, 4, 8, 16, 32)\n"
     ]
    }
   ],
   "source": [
    "# Answer 45 - Create a tuple of the first `n` powers of 2.\n",
    "\n",
    "n = int(input('enter number below 10'))\n",
    "\n",
    "l = []\n",
    "\n",
    "for i in range(1,n+1):\n",
    "    l.append(2**i)\n",
    "    \n",
    "t = tuple(l)\n",
    "print(t)\n"
   ]
  },
  {
   "cell_type": "code",
   "execution_count": 63,
   "id": "02cf86ae-24e9-41d3-bc01-b7e60fc71b66",
   "metadata": {},
   "outputs": [
    {
     "name": "stdout",
     "output_type": "stream",
     "text": [
      "pwskills\n"
     ]
    }
   ],
   "source": [
    "# Answer 46 - Find the longest string in a tuple of strings.\n",
    "\n",
    "t = ('a','abc','pwskills','python','ab')\n",
    "\n",
    "l = list(t)\n",
    "\n",
    "s = ''\n",
    "max = 0\n",
    "for i in l:\n",
    "\n",
    "    \n",
    "    if len(i)>max:\n",
    "        max = len(i)\n",
    "        s = i\n",
    "\n",
    "print(s)"
   ]
  },
  {
   "cell_type": "code",
   "execution_count": 65,
   "id": "a760dcc3-ddb8-4f2d-86c6-b19d28c5e7f0",
   "metadata": {},
   "outputs": [
    {
     "name": "stdout",
     "output_type": "stream",
     "text": [
      "a\n"
     ]
    }
   ],
   "source": [
    "# Ans 47 - Find the shortest string in a tuple of strings\n",
    "\n",
    "t = ('a','abc','pwskills','python','ab')\n",
    "\n",
    "l = list(t)\n",
    "\n",
    "s = ''\n",
    "min = 100\n",
    "for i in l:\n",
    "\n",
    "    \n",
    "    if len(i)<min:\n",
    "        min = len(i)\n",
    "        s = i\n",
    "\n",
    "print(s)"
   ]
  },
  {
   "cell_type": "code",
   "execution_count": 44,
   "id": "fc14fe53-6fe6-4a74-9e11-171f1fd92d07",
   "metadata": {},
   "outputs": [
    {
     "name": "stdin",
     "output_type": "stream",
     "text": [
      "Enter a number 5\n"
     ]
    },
    {
     "name": "stdout",
     "output_type": "stream",
     "text": [
      "(1, 3, 6, 10, 15)\n"
     ]
    }
   ],
   "source": [
    "# Answer 48 - Create a tuple of the first `n` triangular numbers.\n",
    "\n",
    "n = int(input('Enter a number'))\n",
    "l = []\n",
    "\n",
    "for i in range(1,n+1):\n",
    "    \n",
    "    a = int(i*(i+1)/2)\n",
    "    l.append(a)\n",
    "\n",
    "t = tuple(l)\n",
    "print(t)    "
   ]
  },
  {
   "cell_type": "code",
   "execution_count": 35,
   "id": "55dd0d37-3610-46ff-ab0a-7ffdbc131eb3",
   "metadata": {},
   "outputs": [
    {
     "name": "stdout",
     "output_type": "stream",
     "text": [
      "there is a tuple sub sequence in the main tuple\n"
     ]
    }
   ],
   "source": [
    "# Answer 49 - Check if a tuple contains another tuple as a subsequence.\n",
    "\n",
    "t = (4,5,6,7,8,9,15)\n",
    "sub = (9,15)\n",
    "s1 = len(sub)\n",
    "\n",
    "l1 = list(t)\n",
    "l2 = list(sub)\n",
    "l3 = len(l1)\n",
    "\n",
    "for i in range(1,l3+1):\n",
    "    if (l1[:s1]==l2):\n",
    "        print('there is a tuple sub sequence in the main tuple')\n",
    "        break\n",
    "    else:\n",
    "        l1.remove(l1[0])\n",
    "        if len(l1)<s1:\n",
    "            print('there is no tuple sub sequence in the main tuple')\n",
    "            break\n",
    "        \n",
    "\n",
    "\n",
    "\n"
   ]
  },
  {
   "cell_type": "code",
   "execution_count": 53,
   "id": "09888949-2c23-441d-8187-3ff3ef955f85",
   "metadata": {},
   "outputs": [
    {
     "name": "stdin",
     "output_type": "stream",
     "text": [
      "enter a number 7\n"
     ]
    },
    {
     "name": "stdout",
     "output_type": "stream",
     "text": [
      "(0, 1, 0, 1, 0, 1, 0)\n"
     ]
    }
   ],
   "source": [
    "# Answer 50 -Create a tuple of alternating 1s and 0s of length `n`.\n",
    "\n",
    "n = int(input('enter a number'))\n",
    "\n",
    "t = (0,1)\n",
    "\n",
    "if n%2==0:\n",
    "    \n",
    "    t_new = t * int(n/2)\n",
    "    print(t_new)\n",
    "\n",
    "else:\n",
    "    \n",
    "    l = list(t)\n",
    "    l_new = l * int((n-1)/2)\n",
    "    l_new.append(0)\n",
    "    print(tuple(l_new))\n",
    "          \n",
    " "
   ]
  },
  {
   "cell_type": "code",
   "execution_count": 54,
   "id": "5df4d47c-013e-43bb-b69b-cee51252bb33",
   "metadata": {},
   "outputs": [],
   "source": [
    "# Set based practice problems"
   ]
  },
  {
   "cell_type": "code",
   "execution_count": 2,
   "id": "879cda80-bb2e-41d7-bbe1-3b0c2fa99175",
   "metadata": {},
   "outputs": [],
   "source": [
    "# Ans 1 - Create a set with integers from 1 to 5.\n",
    "\n",
    "s = {1,2,3,4,5}\n",
    "\n"
   ]
  },
  {
   "cell_type": "code",
   "execution_count": 3,
   "id": "88f33b22-dbcf-43b7-9abd-35cb2d9137ea",
   "metadata": {},
   "outputs": [
    {
     "name": "stdout",
     "output_type": "stream",
     "text": [
      "{1, 2, 3, 4, 5, 6}\n"
     ]
    }
   ],
   "source": [
    "# Ans 2 - Add an element to a set\n",
    "\n",
    "s = {1,2,3,4,5}\n",
    "\n",
    "s.add(6)\n",
    "print(s)"
   ]
  },
  {
   "cell_type": "code",
   "execution_count": 5,
   "id": "6e6386d5-9b67-4a08-9f15-11066b6090ed",
   "metadata": {},
   "outputs": [
    {
     "name": "stdout",
     "output_type": "stream",
     "text": [
      "{2, 3, 4, 5}\n"
     ]
    }
   ],
   "source": [
    "# Ans 3 - Remove an element from a set.\n",
    "\n",
    "s = {1,2,3,4,5}\n",
    "\n",
    "s.remove(1)\n",
    "\n",
    "print(s)\n"
   ]
  },
  {
   "cell_type": "code",
   "execution_count": 6,
   "id": "37885f86-093d-40bc-bf99-60ca5c67b589",
   "metadata": {},
   "outputs": [
    {
     "data": {
      "text/plain": [
       "True"
      ]
     },
     "execution_count": 6,
     "metadata": {},
     "output_type": "execute_result"
    }
   ],
   "source": [
    "# Ans 4 -  Check if an element exists in a set\n",
    "\n",
    "s = {'a','e','i'}\n",
    "\n",
    "'a' in s\n"
   ]
  },
  {
   "cell_type": "code",
   "execution_count": 7,
   "id": "1ae74933-d15d-4b31-90dc-adbc00af2946",
   "metadata": {},
   "outputs": [
    {
     "name": "stdout",
     "output_type": "stream",
     "text": [
      "the length of the set is 6\n"
     ]
    }
   ],
   "source": [
    "# Ans 5 -  Find the length of a set without using the `len()` function.\n",
    "\n",
    "s = {1,2,3,4,5,6}\n",
    "l = 0\n",
    "\n",
    "for i in s:\n",
    "    l = l+1\n",
    "\n",
    "print('the length of the set is',l)\n",
    "    "
   ]
  },
  {
   "cell_type": "code",
   "execution_count": 10,
   "id": "f3954743-c715-4914-b0c5-64d6bac407f9",
   "metadata": {},
   "outputs": [
    {
     "name": "stdout",
     "output_type": "stream",
     "text": [
      "set()\n"
     ]
    }
   ],
   "source": [
    "# Ans 6 - Clear all elements from a set.\n",
    "\n",
    "s = {1,2,3,4}\n",
    "\n",
    "s.clear()\n",
    "\n",
    "print(s)"
   ]
  },
  {
   "cell_type": "code",
   "execution_count": 15,
   "id": "6451aec6-dceb-4517-8a82-7310e94306dc",
   "metadata": {},
   "outputs": [
    {
     "name": "stdout",
     "output_type": "stream",
     "text": [
      "{2, 4, 6, 8, 10}\n"
     ]
    }
   ],
   "source": [
    "# Ans 7 -  Create a set of even numbers from 1 to 10.\n",
    "\n",
    "l = [i for i in range(1,11) if i%2==0]\n",
    "\n",
    "\n",
    "s = set(l)\n",
    "\n",
    "print(s)"
   ]
  },
  {
   "cell_type": "code",
   "execution_count": 16,
   "id": "39da9ccb-bdcb-4051-a71c-459989f6c2ee",
   "metadata": {},
   "outputs": [
    {
     "name": "stdout",
     "output_type": "stream",
     "text": [
      "{1, 3, 5, 7, 9}\n"
     ]
    }
   ],
   "source": [
    "# Ans 8 - Create a set of odd numbers from 1 to 10.\n",
    "\n",
    "l = [i for i in range(1,11) if i%2!=0]\n",
    "\n",
    "\n",
    "s = set(l)\n",
    "\n",
    "print(s)"
   ]
  },
  {
   "cell_type": "code",
   "execution_count": 18,
   "id": "a276d175-62dc-4c51-ab3a-e9910948a11e",
   "metadata": {},
   "outputs": [
    {
     "name": "stdout",
     "output_type": "stream",
     "text": [
      "{1, 2, 3, 4, 5, 6}\n"
     ]
    }
   ],
   "source": [
    "# Ans 9 -  Find the union of two sets.\n",
    "\n",
    "s1 = {1,2,3}\n",
    "s2 = {4,5,6}\n",
    "\n",
    "s = s1.union(s2)\n",
    "print(s)"
   ]
  },
  {
   "cell_type": "code",
   "execution_count": 19,
   "id": "35d75049-c237-4777-8a39-76723093eec0",
   "metadata": {},
   "outputs": [
    {
     "name": "stdout",
     "output_type": "stream",
     "text": [
      "{4, 5}\n"
     ]
    }
   ],
   "source": [
    "# Ans 10 - Find the intersection of two sets.\n",
    "\n",
    "s1 = {1,2,3,4,5}\n",
    "s2 = {4,5,6,7}\n",
    "\n",
    "s = s1.intersection(s2)\n",
    "print(s)"
   ]
  },
  {
   "cell_type": "code",
   "execution_count": 21,
   "id": "908f27f2-cc01-409b-9ad3-d19f311eb5d1",
   "metadata": {},
   "outputs": [
    {
     "name": "stdout",
     "output_type": "stream",
     "text": [
      "{1, 2, 3}\n"
     ]
    }
   ],
   "source": [
    "# Ans 11 -  Find the difference between two sets.\n",
    "\n",
    "s1 = {1,2,3,4,5}\n",
    "s2 = {4,5,6,7}\n",
    "\n",
    "s =s1 - s2\n",
    "\n",
    "print(s)"
   ]
  },
  {
   "cell_type": "code",
   "execution_count": 24,
   "id": "496014f9-be8c-4adf-99c0-8cb8c52d20b2",
   "metadata": {},
   "outputs": [
    {
     "data": {
      "text/plain": [
       "True"
      ]
     },
     "execution_count": 24,
     "metadata": {},
     "output_type": "execute_result"
    }
   ],
   "source": [
    "# Ans 12 - Check if a set is a subset of another set.\n",
    "\n",
    "s1 = {1,2}\n",
    "s2 = {1,2,3,4,5}\n",
    "\n",
    "s1.issubset(s2)"
   ]
  },
  {
   "cell_type": "code",
   "execution_count": 26,
   "id": "5686dd09-e3d6-41d1-899e-fd65799863b8",
   "metadata": {},
   "outputs": [
    {
     "data": {
      "text/plain": [
       "True"
      ]
     },
     "execution_count": 26,
     "metadata": {},
     "output_type": "execute_result"
    }
   ],
   "source": [
    "# Ans 13 - Check if a set is a superset of another set\n",
    "\n",
    "s1 = {1,2}\n",
    "s2 = {1,2,3,4,5}\n",
    "\n",
    "s2.issuperset(s1)\n"
   ]
  },
  {
   "cell_type": "code",
   "execution_count": 27,
   "id": "90e51a01-37fb-496d-b1a6-542c19c8cf47",
   "metadata": {},
   "outputs": [
    {
     "name": "stdout",
     "output_type": "stream",
     "text": [
      "{1, 2, 3, 4}\n"
     ]
    }
   ],
   "source": [
    "# Ans 14 - Create a set from a list.\n",
    "\n",
    "l = [1,2,3,4]\n",
    "\n",
    "s = set(l)\n",
    "\n",
    "print(s)"
   ]
  },
  {
   "cell_type": "code",
   "execution_count": 28,
   "id": "c626b1f4-ada0-4210-b619-4dc837575bb2",
   "metadata": {},
   "outputs": [
    {
     "name": "stdout",
     "output_type": "stream",
     "text": [
      "[1, 2, 3, 4]\n"
     ]
    }
   ],
   "source": [
    "# Ans 15 - Convert a set to a list.\n",
    "\n",
    "s = {1,2,3,4}\n",
    "\n",
    "l = list(s)\n",
    "\n",
    "print(l)"
   ]
  },
  {
   "cell_type": "code",
   "execution_count": 34,
   "id": "af95e574-1f21-40b0-baab-b81e4df201e0",
   "metadata": {},
   "outputs": [
    {
     "name": "stdout",
     "output_type": "stream",
     "text": [
      "{2, 3, 4}\n"
     ]
    }
   ],
   "source": [
    "# Ans 16 - Remove a random element from a set.\n",
    "import random\n",
    "s = {1,2,3,4}\n",
    "\n",
    "s.pop()\n",
    "print(s)"
   ]
  },
  {
   "cell_type": "code",
   "execution_count": 30,
   "id": "b3b453b3-c1d9-48bc-9664-cd318d48bed5",
   "metadata": {},
   "outputs": [
    {
     "name": "stdout",
     "output_type": "stream",
     "text": [
      "{2, 3, 4}\n"
     ]
    }
   ],
   "source": [
    "# Ans 17 - Pop an element from a set.\n",
    "\n",
    "s = {1,2,3,4}\n",
    "\n",
    "s.pop()\n",
    "\n",
    "print(s)"
   ]
  },
  {
   "cell_type": "code",
   "execution_count": 42,
   "id": "6c3f98fd-9029-4711-af89-f2e47765390d",
   "metadata": {},
   "outputs": [
    {
     "name": "stdout",
     "output_type": "stream",
     "text": [
      "there are no common elements in the 2 sets\n"
     ]
    }
   ],
   "source": [
    "# Ans 18 - Check if two sets have no elements in common\n",
    "\n",
    "s1 = {1,2,3}\n",
    "s2 = {4,5,6}\n",
    "\n",
    "if s1-s2==s1:\n",
    "    print('there are no common elements in the 2 sets')\n",
    "\n",
    "        \n",
    "           "
   ]
  },
  {
   "cell_type": "code",
   "execution_count": 52,
   "id": "be638f06-1126-4bf9-a5b4-29287d3116b9",
   "metadata": {},
   "outputs": [
    {
     "data": {
      "text/plain": [
       "{1, 2, 3, 4, 6, 7, 8, 9}"
      ]
     },
     "execution_count": 52,
     "metadata": {},
     "output_type": "execute_result"
    }
   ],
   "source": [
    "# Ans 19 -  Find the symmetric difference between two sets.\n",
    "\n",
    "s1 = {1,2,3,4,5}\n",
    "s2 = {5,6,7,8,9}\n",
    "s1.symmetric_difference(s2)"
   ]
  },
  {
   "cell_type": "code",
   "execution_count": 51,
   "id": "ba7605c9-e3ef-490e-9f82-a134276420ec",
   "metadata": {},
   "outputs": [
    {
     "name": "stdout",
     "output_type": "stream",
     "text": [
      "{1, 2, 3, 4, 5, 6}\n"
     ]
    }
   ],
   "source": [
    "# Ans 20 -Update a set with elements from another set.\n",
    "\n",
    "s1 = {1,2,3}\n",
    "s2 = {4,5,6}\n",
    "\n",
    "s1.update(s2)\n",
    "\n",
    "print(s1)"
   ]
  },
  {
   "cell_type": "code",
   "execution_count": 66,
   "id": "48d0e239-f461-481c-a9cc-75f967826561",
   "metadata": {},
   "outputs": [
    {
     "name": "stdout",
     "output_type": "stream",
     "text": [
      "{2, 3, 5, 7, 11}\n"
     ]
    }
   ],
   "source": [
    "# Ans 21 -  Create a set of the first 5 prime numbers.\n",
    "\n",
    "import sympy as ss\n",
    "\n",
    "s = set()\n",
    "count = 0\n",
    "for i in range(2,100):\n",
    "    \n",
    "    if ss.isprime(i)==True:\n",
    "        s.add(i)\n",
    "        count = count + 1\n",
    "    if count==5:\n",
    "        break\n",
    "print(s)"
   ]
  },
  {
   "cell_type": "code",
   "execution_count": 67,
   "id": "4d55439e-214e-4b3e-9f21-f3a3953a1edb",
   "metadata": {},
   "outputs": [
    {
     "data": {
      "text/plain": [
       "True"
      ]
     },
     "execution_count": 67,
     "metadata": {},
     "output_type": "execute_result"
    }
   ],
   "source": [
    "# Ans 22 - Check if two sets are identical.\n",
    "\n",
    "s1 = {1,2,3}\n",
    "s2 = {2,3,1}\n",
    "\n",
    "s1==s2"
   ]
  },
  {
   "cell_type": "code",
   "execution_count": 70,
   "id": "56419235-5427-4056-b8cb-2b51d0647706",
   "metadata": {},
   "outputs": [
    {
     "name": "stdout",
     "output_type": "stream",
     "text": [
      "frozenset({1, 2, 3})\n"
     ]
    }
   ],
   "source": [
    "# Ans 23 -  Create a frozen set.\n",
    "\n",
    "s = {1,2,3}\n",
    "\n",
    "s1 = frozenset(s)\n",
    "\n",
    "print(s1)\n"
   ]
  },
  {
   "cell_type": "code",
   "execution_count": 73,
   "id": "4bda14ce-d088-4dfc-a19a-7d308e660d17",
   "metadata": {},
   "outputs": [
    {
     "name": "stdout",
     "output_type": "stream",
     "text": [
      "True\n",
      "False\n"
     ]
    }
   ],
   "source": [
    "# Ans 24 -  Check if a set is disjoint with another set\n",
    "\n",
    "s1 = {1,2,3}\n",
    "s2 = {4,5,6}\n",
    "s3 = {3,4,5}\n",
    "\n",
    "print(s1.isdisjoint(s2))\n",
    "print(s1.isdisjoint(s3))"
   ]
  },
  {
   "cell_type": "code",
   "execution_count": 75,
   "id": "db4df369-0d07-4f28-9c81-64fd66089e21",
   "metadata": {},
   "outputs": [
    {
     "name": "stdout",
     "output_type": "stream",
     "text": [
      "{16, 1, 4, 9}\n"
     ]
    }
   ],
   "source": [
    "# Ans 25 - Create a set of squares of numbers from 1 to 5.\n",
    "\n",
    "l = [i*i for i in range(1,5)]\n",
    "\n",
    "s = set(l)\n",
    "print(s)"
   ]
  },
  {
   "cell_type": "code",
   "execution_count": 78,
   "id": "f0befb1e-b240-4fe6-8c7a-945ac1862cc7",
   "metadata": {},
   "outputs": [
    {
     "name": "stdout",
     "output_type": "stream",
     "text": [
      "{2, 4, 6, 8, 10}\n"
     ]
    }
   ],
   "source": [
    "# Ans 26 -  Filter out all even numbers from a set.\n",
    "\n",
    "s = {i for i in range(1,11) if i%2==0}\n",
    "\n",
    "print(s)"
   ]
  },
  {
   "cell_type": "code",
   "execution_count": 82,
   "id": "4550f713-f3fb-4c8b-a98c-d060e315ca40",
   "metadata": {},
   "outputs": [
    {
     "name": "stdout",
     "output_type": "stream",
     "text": [
      "{1, 2, 3, 4, 5, 6, 7, 8, 9, 10}\n",
      "{2, 4, 6, 8, 10, 12, 14, 16, 18, 20}\n"
     ]
    }
   ],
   "source": [
    "# Ans 27 - Multiply all elements in a set by 2.\n",
    "\n",
    "s = {i for i in range(1,11)}\n",
    "s1 = {2*i for i in s}\n",
    "\n",
    "print(s)\n",
    "print(s1)"
   ]
  },
  {
   "cell_type": "code",
   "execution_count": 90,
   "id": "98bb7e19-b62c-4057-94a4-83f5117dd850",
   "metadata": {},
   "outputs": [
    {
     "name": "stdout",
     "output_type": "stream",
     "text": [
      "{2, 4, 7, 9, 10}\n"
     ]
    }
   ],
   "source": [
    "# Ans 28 - Create a set of random numbers.\n",
    "\n",
    "import random\n",
    "\n",
    "s = {random.randint(2,10) for i in range(2,10)}\n",
    "\n",
    "print(s)"
   ]
  },
  {
   "cell_type": "code",
   "execution_count": 93,
   "id": "d04b188f-f117-4b8d-9dd6-f1913b3b39cb",
   "metadata": {},
   "outputs": [
    {
     "name": "stdout",
     "output_type": "stream",
     "text": [
      "the set s1 is not empty\n"
     ]
    }
   ],
   "source": [
    "# Ans 29 -  Check if a set is empty.\n",
    "\n",
    "s = set()\n",
    "s1 = {1,2,3}\n",
    "\n",
    "if s1==s:\n",
    "    print('the sets s1 is empty')\n",
    "else:\n",
    "    print('the set s1 is not empty')\n",
    "\n",
    "    "
   ]
  },
  {
   "cell_type": "code",
   "execution_count": 103,
   "id": "282f0346-fd40-4390-bc27-c86f22fe12ae",
   "metadata": {},
   "outputs": [
    {
     "name": "stdout",
     "output_type": "stream",
     "text": [
      "{frozenset({1, 2, 3}), frozenset({4, 5, 6})}\n"
     ]
    }
   ],
   "source": [
    "# Ans 30 -   Create a nested set \n",
    "\n",
    "s1 = frozenset([1,2,3])\n",
    "s2 = frozenset([4,5,6])\n",
    "\n",
    "s = {s1,s2}\n",
    "print(s)\n"
   ]
  },
  {
   "cell_type": "code",
   "execution_count": 104,
   "id": "e9eb671c-e1f7-4012-8b20-3c708439e1f7",
   "metadata": {},
   "outputs": [
    {
     "name": "stdout",
     "output_type": "stream",
     "text": [
      "{2, 3, 4, 5}\n"
     ]
    }
   ],
   "source": [
    "# Ans 31 -  Remove an element from a set using the discard method.\n",
    "\n",
    "s = {1,2,3,4,5}\n",
    "s.discard(1)\n",
    "print(s)"
   ]
  },
  {
   "cell_type": "code",
   "execution_count": 105,
   "id": "12c8d2c8-5cff-441a-80bc-5128e3748b35",
   "metadata": {},
   "outputs": [
    {
     "name": "stdout",
     "output_type": "stream",
     "text": [
      "True\n",
      "False\n"
     ]
    }
   ],
   "source": [
    "# Ans 32 -  Compare two sets.\n",
    "\n",
    "s1 = {1,2,3}\n",
    "s2 = {1,2,3}\n",
    "s3 = {4,5,6}\n",
    "\n",
    "print(s1==s2)\n",
    "print(s1==s3)"
   ]
  },
  {
   "cell_type": "code",
   "execution_count": 106,
   "id": "a9af4b30-2f70-4266-bb12-505eb9f407e9",
   "metadata": {},
   "outputs": [
    {
     "name": "stdout",
     "output_type": "stream",
     "text": [
      "{' ', 'w', 's', 'k', 'i', 'l', 'v', 'o', 'e', 'p'}\n"
     ]
    }
   ],
   "source": [
    "# Ans 33 - Create a set from a string.\n",
    "\n",
    "st = 'i love pwskils'\n",
    "\n",
    "s = set(st)\n",
    "\n",
    "print(s)"
   ]
  },
  {
   "cell_type": "code",
   "execution_count": 109,
   "id": "bddaedd8-967a-4646-8d51-6894306d26b0",
   "metadata": {},
   "outputs": [
    {
     "name": "stdout",
     "output_type": "stream",
     "text": [
      "{1, 2, 3, 4}\n"
     ]
    }
   ],
   "source": [
    "# ans 34 -  Convert a set of strings to a set of integers\n",
    "\n",
    "s1 = {'1','2','3','4'}\n",
    "s2 = set()\n",
    "\n",
    "for i in s1:\n",
    "    s2.add(int(i))\n",
    "print(s2)\n",
    "    "
   ]
  },
  {
   "cell_type": "code",
   "execution_count": 111,
   "id": "995815b0-25bb-43f5-a58c-5038d3111c3e",
   "metadata": {},
   "outputs": [
    {
     "name": "stdout",
     "output_type": "stream",
     "text": [
      "{'4', '1', '2', '3', '5'}\n"
     ]
    }
   ],
   "source": [
    "# Ans 35 -  Convert a set of integers to a set of strings\n",
    "\n",
    "s1 = {1,2,3,4,5}\n",
    "s2= set()\n",
    "for i in s1:\n",
    "    s2.add(str(i))\n",
    "print(s2)"
   ]
  },
  {
   "cell_type": "code",
   "execution_count": 112,
   "id": "51800538-2b3b-4ba6-b5f5-f2f265126d40",
   "metadata": {},
   "outputs": [
    {
     "name": "stdout",
     "output_type": "stream",
     "text": [
      "{1, 2, 3, 4}\n"
     ]
    }
   ],
   "source": [
    "# Ans 36 -  Create a set from a tuple.\n",
    "\n",
    "t = (1,2,3,4)\n",
    "\n",
    "s = set(t)\n",
    "\n",
    "print(s)"
   ]
  },
  {
   "cell_type": "code",
   "execution_count": 113,
   "id": "e9942b8d-6903-445f-855a-bc6b1abc1b96",
   "metadata": {},
   "outputs": [
    {
     "name": "stdout",
     "output_type": "stream",
     "text": [
      "(1, 2, 3, 4)\n"
     ]
    }
   ],
   "source": [
    "# Ans 37 - . Convert a set to a tuple.\n",
    "\n",
    "s = {1,2,3,4}\n",
    "\n",
    "t = tuple(s)\n",
    "\n",
    "print(t)"
   ]
  },
  {
   "cell_type": "code",
   "execution_count": 114,
   "id": "7872cd9b-9ed5-4521-b4d8-9283f328fb88",
   "metadata": {},
   "outputs": [
    {
     "name": "stdout",
     "output_type": "stream",
     "text": [
      "87\n"
     ]
    }
   ],
   "source": [
    "# Ans 38 -  Find the maximum value in a set\n",
    "\n",
    "s = {4,10,15,87}\n",
    "\n",
    "print(max(s))"
   ]
  },
  {
   "cell_type": "code",
   "execution_count": 115,
   "id": "63131cde-5782-47d4-9d35-75ea1c4725f3",
   "metadata": {},
   "outputs": [
    {
     "name": "stdout",
     "output_type": "stream",
     "text": [
      "4\n"
     ]
    }
   ],
   "source": [
    "# Ans 39 Find the minimum value in a set.\n",
    "\n",
    "s = {4,10,15,87}\n",
    "\n",
    "print(min(s))"
   ]
  },
  {
   "cell_type": "code",
   "execution_count": 116,
   "id": "92fbe278-a1c3-499a-96a8-3a14eace232b",
   "metadata": {},
   "outputs": [
    {
     "name": "stdin",
     "output_type": "stream",
     "text": [
      "enter an alphabet a\n"
     ]
    },
    {
     "name": "stdout",
     "output_type": "stream",
     "text": [
      "{'a'}\n"
     ]
    }
   ],
   "source": [
    "# Ans 40 -  Create a set from user input.\n",
    "\n",
    "a = input('enter an alphabet')\n",
    "\n",
    "s = set()\n",
    "\n",
    "s.add(a)\n",
    "\n",
    "print(s)"
   ]
  },
  {
   "cell_type": "code",
   "execution_count": 121,
   "id": "5c283af7-125d-4645-8c3f-901e4a7c9488",
   "metadata": {},
   "outputs": [
    {
     "name": "stdout",
     "output_type": "stream",
     "text": [
      "intersection of two sets is empty\n"
     ]
    }
   ],
   "source": [
    "# Ans 41 - Check if the intersection of two sets is empty\n",
    "\n",
    "s1 = {1,2,3}\n",
    "s2 = {4,5,6}\n",
    "\n",
    "if s1.isdisjoint(s2)==True:\n",
    "    print('intersection of two sets is empty')\n"
   ]
  },
  {
   "cell_type": "code",
   "execution_count": 124,
   "id": "cf7dacb7-5b7b-43c1-91f3-97aadd98b525",
   "metadata": {},
   "outputs": [
    {
     "name": "stdout",
     "output_type": "stream",
     "text": [
      "{0, 1, 2, 3, 5, 8}\n"
     ]
    }
   ],
   "source": [
    "# Ans 42 - . Create a set of the first 5 Fibonacci numbers.\n",
    "\n",
    "a = 0\n",
    "b = 1\n",
    "l = [a,b]\n",
    "for i in range(1,6):\n",
    "    sum = a+b\n",
    "    l.append(sum)\n",
    "    a = b\n",
    "    b = sum\n",
    "\n",
    "s = set(l)\n",
    "print(s)\n",
    "    \n",
    "    "
   ]
  },
  {
   "cell_type": "code",
   "execution_count": 128,
   "id": "875947de-6260-4f50-8f2b-687c7d9c4cd8",
   "metadata": {},
   "outputs": [
    {
     "name": "stdout",
     "output_type": "stream",
     "text": [
      "{1, 2, 3, 4, 5, 6}\n"
     ]
    }
   ],
   "source": [
    "# Ans 43 - Remove duplicates from a list using sets\n",
    "\n",
    "l = [1,2,3,2,4,1,3,5,6]\n",
    "\n",
    "s = set(l)\n",
    "   \n",
    "print(s)\n",
    "\n"
   ]
  },
  {
   "cell_type": "code",
   "execution_count": 129,
   "id": "baab57a6-f3a8-4baa-ab86-aeceb7477015",
   "metadata": {},
   "outputs": [
    {
     "data": {
      "text/plain": [
       "True"
      ]
     },
     "execution_count": 129,
     "metadata": {},
     "output_type": "execute_result"
    }
   ],
   "source": [
    "# Ans 44 - Check if two sets have the same elements, regardless of their count.\n",
    "\n",
    "s1 = {1,2,3}\n",
    "s2 = {2,1,3}\n",
    "\n",
    "s1==s2"
   ]
  },
  {
   "cell_type": "code",
   "execution_count": 132,
   "id": "0a322553-9e30-4285-bf30-1d2f440062be",
   "metadata": {},
   "outputs": [
    {
     "name": "stdout",
     "output_type": "stream",
     "text": [
      "{32, 2, 4, 8, 16}\n"
     ]
    }
   ],
   "source": [
    "# Ans 45 - . Create a set of the first `n` powers of 2.\n",
    "\n",
    "l = []\n",
    "\n",
    "n = 5\n",
    "\n",
    "for i in range(1,n+1):\n",
    "    l.append(2**i)\n",
    "s = set(l)\n",
    "print(s)"
   ]
  },
  {
   "cell_type": "code",
   "execution_count": 134,
   "id": "0c5e84f7-d77e-4151-ace9-7cf957d31b39",
   "metadata": {},
   "outputs": [
    {
     "data": {
      "text/plain": [
       "{4, 5}"
      ]
     },
     "execution_count": 134,
     "metadata": {},
     "output_type": "execute_result"
    }
   ],
   "source": [
    "# Ans 46 -  Find the common elements between a set and a list.\n",
    "\n",
    "s = {1,2,3,4,5}\n",
    "\n",
    "l = [4,5,6,7,8,9]\n",
    "\n",
    "s1 = set(l)\n",
    "\n",
    "s.intersection(s1)"
   ]
  },
  {
   "cell_type": "code",
   "execution_count": 139,
   "id": "5d528235-2fde-4c6c-821b-35fbe9dafe99",
   "metadata": {},
   "outputs": [
    {
     "name": "stdout",
     "output_type": "stream",
     "text": [
      "{1, 3, 6, 10, 15}\n"
     ]
    }
   ],
   "source": [
    "# Ans 47 - . Create a set of the first `n` triangular numbers.\n",
    "\n",
    "n = 5\n",
    "\n",
    "\n",
    "s = {int(i*(i+1)/2) for i in range(1,n+1)}\n",
    "\n",
    "print(s)"
   ]
  },
  {
   "cell_type": "code",
   "execution_count": 140,
   "id": "21747ff8-84c5-4f2c-92bc-0c0b25df9342",
   "metadata": {},
   "outputs": [
    {
     "data": {
      "text/plain": [
       "True"
      ]
     },
     "execution_count": 140,
     "metadata": {},
     "output_type": "execute_result"
    }
   ],
   "source": [
    "# Ans 48 - . Check if a set contains another set as a subset\n",
    "\n",
    "s1 = {1,2}\n",
    "s2 = {1,2,3,4}\n",
    "\n",
    "s1.issubset(s2)"
   ]
  },
  {
   "cell_type": "code",
   "execution_count": 145,
   "id": "ceda534d-4f4f-47bc-8b91-7c6d928ddf5c",
   "metadata": {},
   "outputs": [
    {
     "name": "stdout",
     "output_type": "stream",
     "text": [
      "{0, 1}\n"
     ]
    }
   ],
   "source": [
    "# Ans 49 -  Create a set of alternating 1s and 0s of length `n`.\n",
    "\n",
    "n = 6\n",
    "l = [1,0]\n",
    "\n",
    "if n%2!=0:\n",
    "    l1 = l*int((n-1)/2)\n",
    "    l1.append(1)\n",
    "else:\n",
    "    l1 = l*int(n/2)\n",
    "\n",
    "s = set(l1)\n",
    "\n",
    "print(s)\n"
   ]
  },
  {
   "cell_type": "code",
   "execution_count": 146,
   "id": "69df33ff-0522-4e42-a5c4-b61cd06302a0",
   "metadata": {},
   "outputs": [
    {
     "name": "stdout",
     "output_type": "stream",
     "text": [
      "{1, 2, 3, 4, 5, 6}\n"
     ]
    }
   ],
   "source": [
    "# Ans 50 -  Merge multiple sets into one.\n",
    "\n",
    "s1 = {1,2,3}\n",
    "s2 = {3,4,5,6}\n",
    "\n",
    "print(s1.union(s2))\n"
   ]
  }
 ],
 "metadata": {
  "kernelspec": {
   "display_name": "Python 3 (ipykernel)",
   "language": "python",
   "name": "python3"
  },
  "language_info": {
   "codemirror_mode": {
    "name": "ipython",
    "version": 3
   },
   "file_extension": ".py",
   "mimetype": "text/x-python",
   "name": "python",
   "nbconvert_exporter": "python",
   "pygments_lexer": "ipython3",
   "version": "3.10.8"
  }
 },
 "nbformat": 4,
 "nbformat_minor": 5
}
