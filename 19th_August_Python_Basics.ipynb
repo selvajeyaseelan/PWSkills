{
 "cells": [
  {
   "cell_type": "code",
   "execution_count": 6,
   "id": "b82af902-7864-47e6-b938-fa54ca831a05",
   "metadata": {},
   "outputs": [],
   "source": [
    "# Python Basic Variables\n"
   ]
  },
  {
   "cell_type": "code",
   "execution_count": 10,
   "id": "ad6c7592-51bd-40ed-84ee-681139569823",
   "metadata": {},
   "outputs": [
    {
     "name": "stdout",
     "output_type": "stream",
     "text": [
      "2\n",
      "1\n"
     ]
    }
   ],
   "source": [
    "#Answer 1\n",
    "\n",
    "x,y = 1,2\n",
    "y,x = x,y\n",
    "\n",
    "print(x)\n",
    "print(y)"
   ]
  },
  {
   "cell_type": "code",
   "execution_count": 11,
   "id": "21fb5f25-f912-4014-9535-526ddd18b2ab",
   "metadata": {},
   "outputs": [
    {
     "name": "stdin",
     "output_type": "stream",
     "text": [
      " 5\n",
      " 6\n"
     ]
    },
    {
     "name": "stdout",
     "output_type": "stream",
     "text": [
      "Area of the rectangle is: 30\n"
     ]
    }
   ],
   "source": [
    "# Answer 2\n",
    "\n",
    "leng = int(input())\n",
    "wid = int(input())\n",
    "\n",
    "print('Area of the rectangle is:',leng*wid)"
   ]
  },
  {
   "cell_type": "code",
   "execution_count": 18,
   "id": "8225db07-5418-49da-b530-e0e90cb3ee41",
   "metadata": {},
   "outputs": [
    {
     "name": "stdin",
     "output_type": "stream",
     "text": [
      "Enter temperature in degree Celcius 45\n"
     ]
    },
    {
     "name": "stdout",
     "output_type": "stream",
     "text": [
      "Temperature in degree Fahrenheit is:  113\n"
     ]
    }
   ],
   "source": [
    "# Answer 3\n",
    "\n",
    "c = int(input('Enter temperature in degree Celcius'))\n",
    "\n",
    "f = ( c * (9/5) ) + 32\n",
    "\n",
    "print('Temperature in degree Fahrenheit is: ',int(f))"
   ]
  },
  {
   "cell_type": "code",
   "execution_count": 19,
   "id": "c1c8a5ba-024b-4cd3-a14d-77d15254fef4",
   "metadata": {},
   "outputs": [],
   "source": [
    "# String Based Questions"
   ]
  },
  {
   "cell_type": "code",
   "execution_count": 20,
   "id": "f60cd63f-9d80-46ab-a3ad-31482c69732d",
   "metadata": {},
   "outputs": [
    {
     "name": "stdin",
     "output_type": "stream",
     "text": [
      "Enter a string teachers at pwskills are very good\n"
     ]
    },
    {
     "name": "stdout",
     "output_type": "stream",
     "text": [
      "34\n"
     ]
    }
   ],
   "source": [
    "# Answer 1\n",
    "\n",
    "s = input('Enter a string')\n",
    "\n",
    "print(len(s))"
   ]
  },
  {
   "cell_type": "code",
   "execution_count": 40,
   "id": "0d53fc06-7d83-4a18-abda-dc7990ac3528",
   "metadata": {},
   "outputs": [
    {
     "name": "stdin",
     "output_type": "stream",
     "text": [
      "Enter a string aeiou are the only vowels in the english language\n"
     ]
    },
    {
     "name": "stdout",
     "output_type": "stream",
     "text": [
      "The number of a,e,i,o,u in the input text is 4 7 3 3 2\n"
     ]
    }
   ],
   "source": [
    "# Answer 2\n",
    "\n",
    "s = input('Enter a string').lower()\n",
    "\n",
    "count_a = s.count('a')\n",
    "count_e = s.count('e')\n",
    "count_i = s.count('i')\n",
    "count_o = s.count('o')\n",
    "count_u = s.count('u')\n",
    "\n",
    "print('The number of a,e,i,o,u in the input text is',count_a,count_e,count_i,count_o,count_u)\n"
   ]
  },
  {
   "cell_type": "code",
   "execution_count": 41,
   "id": "3ada8d4b-25cd-460e-96cc-2d2fc80fd4c9",
   "metadata": {},
   "outputs": [
    {
     "name": "stdin",
     "output_type": "stream",
     "text": [
      "Enter a string I am a hero\n"
     ]
    },
    {
     "name": "stdout",
     "output_type": "stream",
     "text": [
      "oreh a ma I\n"
     ]
    }
   ],
   "source": [
    "#Answer 3\n",
    "\n",
    "string = input('Enter a string')\n",
    "string_reverse = string[::-1]\n",
    "print(string_reverse)"
   ]
  },
  {
   "cell_type": "code",
   "execution_count": 44,
   "id": "f0e397f0-9474-4059-8edc-a65675f837fc",
   "metadata": {},
   "outputs": [
    {
     "name": "stdin",
     "output_type": "stream",
     "text": [
      "Enter a string malayalam\n"
     ]
    },
    {
     "name": "stdout",
     "output_type": "stream",
     "text": [
      "input string is a palindrome\n"
     ]
    }
   ],
   "source": [
    "# Answer 4\n",
    "\n",
    "string = input('Enter a string')\n",
    "string_reverse = string[::-1]\n",
    "\n",
    "if string == string_reverse:\n",
    "    print('input string is a palindrome')\n",
    "    \n",
    "else:\n",
    "    print('input string is not a palindrome')\n",
    "\n"
   ]
  },
  {
   "cell_type": "code",
   "execution_count": 48,
   "id": "99a839a3-2ab9-4e81-b4ca-76a31d1267c8",
   "metadata": {},
   "outputs": [
    {
     "name": "stdin",
     "output_type": "stream",
     "text": [
      "Enter a string     I love space   \n"
     ]
    },
    {
     "name": "stdout",
     "output_type": "stream",
     "text": [
      "Ilovespace\n"
     ]
    }
   ],
   "source": [
    "# Answer 5\n",
    "\n",
    "string = input('Enter a string')\n",
    "\n",
    "string_strip = string.replace(\" \",\"\")\n",
    "\n",
    "print(string_strip)\n"
   ]
  },
  {
   "cell_type": "code",
   "execution_count": null,
   "id": "ab5c6ebc-c110-4264-b489-9ada3baa1612",
   "metadata": {},
   "outputs": [],
   "source": []
  }
 ],
 "metadata": {
  "kernelspec": {
   "display_name": "Python 3 (ipykernel)",
   "language": "python",
   "name": "python3"
  },
  "language_info": {
   "codemirror_mode": {
    "name": "ipython",
    "version": 3
   },
   "file_extension": ".py",
   "mimetype": "text/x-python",
   "name": "python",
   "nbconvert_exporter": "python",
   "pygments_lexer": "ipython3",
   "version": "3.10.8"
  }
 },
 "nbformat": 4,
 "nbformat_minor": 5
}
