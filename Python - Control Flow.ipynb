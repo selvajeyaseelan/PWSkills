{
 "cells": [
  {
   "cell_type": "code",
   "execution_count": 1,
   "id": "4a8e6bc0-9255-481b-bf0a-8840a617f861",
   "metadata": {},
   "outputs": [],
   "source": [
    "# Control Flow"
   ]
  },
  {
   "cell_type": "code",
   "execution_count": 4,
   "id": "e98914cb-6307-439c-96ca-5d396612f16a",
   "metadata": {},
   "outputs": [
    {
     "name": "stdin",
     "output_type": "stream",
     "text": [
      "Enter a number -5\n"
     ]
    },
    {
     "name": "stdout",
     "output_type": "stream",
     "text": [
      "the number is negative\n"
     ]
    }
   ],
   "source": [
    "# Ans 1 - Write a Python program to check if a given number is positive or negative.\n",
    "\n",
    "n = int(input('Enter a number'))\n",
    "\n",
    "if n<0:\n",
    "    print('the number is negative')\n",
    "\n",
    "elif n==0:\n",
    "    print('the number is zero')\n",
    "\n",
    "else:\n",
    "    print('the number is positive')"
   ]
  },
  {
   "cell_type": "code",
   "execution_count": 5,
   "id": "97e11b7c-c382-4782-b63f-5b923da5ccf7",
   "metadata": {},
   "outputs": [
    {
     "name": "stdin",
     "output_type": "stream",
     "text": [
      "Enter your age in years 17\n"
     ]
    },
    {
     "name": "stdout",
     "output_type": "stream",
     "text": [
      "you are not eligible to vote\n"
     ]
    }
   ],
   "source": [
    "# Ans 2 - Create a program that determines if a person is eligible to vote based on their age.\n",
    "\n",
    "\n",
    "age = int(input('Enter your age in years'))\n",
    "\n",
    "if age>=18:\n",
    "    print('you are eligible to vote')\n",
    "\n",
    "else:\n",
    "    print('you are not eligible to vote')"
   ]
  },
  {
   "cell_type": "code",
   "execution_count": 7,
   "id": "4a13c3cc-ac3b-42ac-8b8c-6af7365766c0",
   "metadata": {},
   "outputs": [
    {
     "name": "stdin",
     "output_type": "stream",
     "text": [
      "Enter first number 5\n",
      "Enter second number 6\n"
     ]
    },
    {
     "name": "stdout",
     "output_type": "stream",
     "text": [
      "number  6 is greater than  5\n"
     ]
    }
   ],
   "source": [
    "# Ans 3 - Develop a program to find the maximum of two numbers using if-else statements.\n",
    "\n",
    "a = int(input('Enter first number'))\n",
    "b = int(input('Enter second number'))\n",
    "\n",
    "if a>b:\n",
    "    print('number ',a,'is greater than ',b)\n",
    "else:\n",
    "    print('number ',b,'is greater than ',a)"
   ]
  },
  {
   "cell_type": "code",
   "execution_count": 8,
   "id": "ee959515-c616-49fa-8593-a0c4faa40594",
   "metadata": {},
   "outputs": [
    {
     "name": "stdin",
     "output_type": "stream",
     "text": [
      "Enter the year 2002\n"
     ]
    },
    {
     "name": "stdout",
     "output_type": "stream",
     "text": [
      "the entered year is not a leap year\n"
     ]
    }
   ],
   "source": [
    "# Ans 4 - Write a Python script to classify a given year as a leap year or not.\n",
    "\n",
    "\n",
    "year = int(input('Enter the year'))\n",
    "\n",
    "if year%4==0:\n",
    "    print('the entered year is a leap year')\n",
    "    \n",
    "else:\n",
    "    print('the entered year is not a leap year')\n"
   ]
  },
  {
   "cell_type": "code",
   "execution_count": 11,
   "id": "0bea6266-cd2e-4f44-9268-218b65f9705e",
   "metadata": {},
   "outputs": [
    {
     "name": "stdin",
     "output_type": "stream",
     "text": [
      "enter a character z\n"
     ]
    },
    {
     "name": "stdout",
     "output_type": "stream",
     "text": [
      "the character is a consonent\n"
     ]
    }
   ],
   "source": [
    "# Ans 5 - Create a program that checks whether a character is a vowel or a consonant.\n",
    "\n",
    "v = ['a','e','i','o','u']\n",
    "\n",
    "a = input('enter a character')\n",
    "\n",
    "if a in v:\n",
    "    print('the character is a vowel')\n",
    "else:\n",
    "    print('the character is a consonent')"
   ]
  },
  {
   "cell_type": "code",
   "execution_count": 12,
   "id": "338aa01d-9a49-4264-9f7d-5d238dc8f0ef",
   "metadata": {},
   "outputs": [
    {
     "name": "stdin",
     "output_type": "stream",
     "text": [
      "Enter a number 2\n"
     ]
    },
    {
     "name": "stdout",
     "output_type": "stream",
     "text": [
      "even\n"
     ]
    }
   ],
   "source": [
    "# Ans 6 - Implement a program to determine whether a given number is even or odd.\n",
    "\n",
    "a = int(input('Enter a number'))\n",
    "\n",
    "if a%2==0:\n",
    "    print('even')\n",
    "else:\n",
    "    print('odd')"
   ]
  },
  {
   "cell_type": "code",
   "execution_count": 16,
   "id": "b8936207-46d2-4b67-9aea-eac8b0c396de",
   "metadata": {},
   "outputs": [
    {
     "name": "stdin",
     "output_type": "stream",
     "text": [
      "Enter a number -6\n"
     ]
    },
    {
     "name": "stdout",
     "output_type": "stream",
     "text": [
      "6\n"
     ]
    }
   ],
   "source": [
    "# Ans 7 - Write a Python function to calculate the absolute value\n",
    "# of a number without using the `abs()` function.\n",
    "\n",
    "\n",
    "a = int(input('Enter a number'))\n",
    "\n",
    "if a<0:\n",
    "    print(-a)\n",
    "    \n",
    "else:\n",
    "    print(a)\n",
    "\n"
   ]
  },
  {
   "cell_type": "code",
   "execution_count": 17,
   "id": "6b837158-e7ac-4791-a073-bfcc185f6c00",
   "metadata": {},
   "outputs": [
    {
     "name": "stdin",
     "output_type": "stream",
     "text": [
      "Enter first number 5\n",
      "Enter second number 8\n",
      "Enter third number 3\n"
     ]
    },
    {
     "name": "stdout",
     "output_type": "stream",
     "text": [
      "8 is the greatest number\n"
     ]
    }
   ],
   "source": [
    "# Ans 8 - Develop a program that determines the largest of three given numbers using if-else statements.\n",
    "\n",
    "a = int(input('Enter first number'))\n",
    "b = int(input('Enter second number'))\n",
    "c = int(input('Enter third number'))\n",
    "\n",
    "if a>b and a>c:\n",
    "    print(a,'is the greatest number')\n",
    "elif b>a and b>c:\n",
    "    print(b,'is the greatest number')\n",
    "else:\n",
    "    print(c,'is the greates number')\n",
    "    \n"
   ]
  },
  {
   "cell_type": "code",
   "execution_count": 20,
   "id": "fc528f97-edd4-4766-b29b-ab5a185ba1c5",
   "metadata": {},
   "outputs": [
    {
     "name": "stdin",
     "output_type": "stream",
     "text": [
      "enter a string liril\n"
     ]
    },
    {
     "name": "stdout",
     "output_type": "stream",
     "text": [
      "the string is a palindrome\n"
     ]
    }
   ],
   "source": [
    "# Ans 9 - Create a program that checks if a given string is a palindrome.\n",
    "\n",
    "l = input('enter a string')\n",
    "\n",
    "l_rev = l[::-1]\n",
    "\n",
    "\n",
    "    \n",
    "if l == l_rev:\n",
    "    print('the string is a palindrome')\n",
    "else:\n",
    "    print('the string is not a palindrome')"
   ]
  },
  {
   "cell_type": "code",
   "execution_count": 1,
   "id": "4ed95f9e-11de-4f36-bc51-74a7d63b772b",
   "metadata": {},
   "outputs": [
    {
     "name": "stdin",
     "output_type": "stream",
     "text": [
      "Enter the score 72\n"
     ]
    },
    {
     "name": "stdout",
     "output_type": "stream",
     "text": [
      "You have achieved grade B\n"
     ]
    }
   ],
   "source": [
    "# Ans 10 - Write a Python program to calculate the grade based on a student's score\n",
    "\n",
    "score = int(input('Enter the score'))\n",
    " \n",
    "if 80 <= score <= 100:\n",
    "    print('You have achieved grade A')\n",
    "if 70 <= score <80:\n",
    "    print('You have achieved grade B')\n",
    "    \n",
    "if 60<= score <70:\n",
    "    print('you have achieved grade C')"
   ]
  },
  {
   "cell_type": "code",
   "execution_count": 1,
   "id": "44c53175-ba2c-4058-a6ae-1e6d97642009",
   "metadata": {},
   "outputs": [],
   "source": [
    "# If Else problems"
   ]
  },
  {
   "cell_type": "code",
   "execution_count": 24,
   "id": "e160cc7b-ad55-4176-95eb-0e4ed044281c",
   "metadata": {},
   "outputs": [
    {
     "name": "stdin",
     "output_type": "stream",
     "text": [
      "Enter first number 3\n",
      "Enter second number 5\n",
      "Enter third number 4\n"
     ]
    },
    {
     "name": "stdout",
     "output_type": "stream",
     "text": [
      "5 is the greatest number\n"
     ]
    }
   ],
   "source": [
    "# Ans 11 - Write a program to find the largest among three numbers using nested if-else statements.\n",
    "\n",
    "a = int(input('Enter first number'))\n",
    "b = int(input('Enter second number'))\n",
    "c = int(input('Enter third number'))\n",
    "\n",
    "\n",
    "if a>b:\n",
    "    \n",
    "    if a>c:        \n",
    "        print(a,'is the greatest number')\n",
    "if b>c:\n",
    "    if b>a:\n",
    "        print(b,'is the greatest number')\n",
    "    \n",
    "if c>a:\n",
    "    if c>b:\n",
    "        print(c,'is the greatest number')\n",
    "\n"
   ]
  },
  {
   "cell_type": "code",
   "execution_count": 3,
   "id": "c2d35c47-86da-44b3-a329-c462b8662a78",
   "metadata": {},
   "outputs": [
    {
     "name": "stdin",
     "output_type": "stream",
     "text": [
      "enter the first side of triangle 2\n",
      "enter the second side of triangle 2\n",
      "enter the thrid side of triangle 6\n"
     ]
    },
    {
     "name": "stdout",
     "output_type": "stream",
     "text": [
      "2 sides of the triangle are equal, therefore they form an isosceles triangle\n"
     ]
    }
   ],
   "source": [
    "# Ans - 12 -  Implement a program to determine if a triangle is equilateral, isosceles, or scalene.\n",
    "\n",
    "a = int(input('enter the first side of triangle'))\n",
    "b = int(input('enter the second side of triangle'))\n",
    "c = int(input('enter the thrid side of triangle'))\n",
    "\n",
    "if a==b and a==c:\n",
    "    print('the 3 sides form an equilaterial triangle')\n",
    "elif a==b or a==c:\n",
    "    print('2 sides of the triangle are equal, therefore they form an isosceles triangle')\n",
    "else:\n",
    "    print('the 3 sides of the triangle are unequal, so they form a scalene triangle')"
   ]
  },
  {
   "cell_type": "code",
   "execution_count": 4,
   "id": "ab0f7aee-5ff9-46b3-8f66-9868826bbcab",
   "metadata": {},
   "outputs": [
    {
     "name": "stdout",
     "output_type": "stream",
     "text": [
      "the year is a century year\n",
      "the year is a leap year\n"
     ]
    }
   ],
   "source": [
    "# Ans - 13 :Develop a program that checks if a year is a leap year and also if it is a century year.\n",
    "\n",
    "year1 = 2000\n",
    "year2 = 2024\n",
    "\n",
    "if year1%100==0:\n",
    "    print('the year is a century year')\n",
    "    \n",
    "if year2%4==0:\n",
    "    print('the year is a leap year')\n",
    "\n",
    "\n"
   ]
  },
  {
   "cell_type": "code",
   "execution_count": 5,
   "id": "316cbdbf-0240-45c5-a04b-ec381ed32620",
   "metadata": {},
   "outputs": [
    {
     "name": "stdout",
     "output_type": "stream",
     "text": [
      "the given number is positive\n"
     ]
    }
   ],
   "source": [
    "# Ans 14 - Write a Python script to determine if a number is positive, negative, or zero.\n",
    "\n",
    "n = 4\n",
    "\n",
    "if n<0:\n",
    "    print('the given number is negative')\n",
    "elif n==0:\n",
    "    print('the given number is zero')\n",
    "else:\n",
    "    print('the given number is positive')"
   ]
  },
  {
   "cell_type": "code",
   "execution_count": 6,
   "id": "5a4163fd-c19c-40d3-a171-a3574cfdfad5",
   "metadata": {},
   "outputs": [
    {
     "name": "stdout",
     "output_type": "stream",
     "text": [
      "you are a teenager\n"
     ]
    }
   ],
   "source": [
    "# Ans 15 -  Create a program to check if a person is a teenager (between 13 and 19 years old).\n",
    "\n",
    "age = 19\n",
    "\n",
    "if 13<= age<=19:\n",
    "    print('you are a teenager')\n",
    "else:\n",
    "    print('you are not a teenager')"
   ]
  },
  {
   "cell_type": "code",
   "execution_count": 7,
   "id": "8a6c7b69-ac34-479b-9126-529c5a94fac0",
   "metadata": {},
   "outputs": [
    {
     "name": "stdout",
     "output_type": "stream",
     "text": [
      "the angle is acute angle\n"
     ]
    }
   ],
   "source": [
    "# Ans 16 - Develop a program that determines the type of angle based on its measure  (acute, obtuse, or right).\n",
    "\n",
    "angle = 45\n",
    "\n",
    "if angle<90:\n",
    "    print('the angle is acute angle')\n",
    "elif angle>90:\n",
    "    print('the angel is obtuse angle')\n",
    "else:\n",
    "    print('the angle is right angle')"
   ]
  },
  {
   "cell_type": "code",
   "execution_count": 1,
   "id": "ef3029bf-50eb-4b35-814a-65bf9811c48d",
   "metadata": {},
   "outputs": [
    {
     "name": "stdin",
     "output_type": "stream",
     "text": [
      "enter the coefficient \"a\" for the quadratic eq: ax2+bx+c=0 2\n",
      "enter the coefficient \"b\" for the quadratic eq: ax2+bx+c=0 -5\n",
      "enter the coefficient \"c\" for the quadratic eq: ax2+bx+c=0 6\n"
     ]
    },
    {
     "name": "stdout",
     "output_type": "stream",
     "text": [
      "the roots of the quadratic eq are (5+1.1989578808281798j) (5-1.1989578808281798j)\n"
     ]
    }
   ],
   "source": [
    "# Ans 17 -Write a Python program to calculate the roots of a quadratic equation.\n",
    "\n",
    "a = int(input('enter the coefficient \"a\" for the quadratic eq: ax2+bx+c=0'))\n",
    "b = int(input('enter the coefficient \"b\" for the quadratic eq: ax2+bx+c=0'))\n",
    "c = int(input('enter the coefficient \"c\" for the quadratic eq: ax2+bx+c=0'))\n",
    "\n",
    "root1 = -b+(b*b-4*a*c)**0.5/(2*a)\n",
    "root2 = -b-(b*b-4*a*c)**0.5/(2*a)\n",
    "\n",
    "print('the roots of the quadratic eq are',root1,root2)"
   ]
  },
  {
   "cell_type": "code",
   "execution_count": 5,
   "id": "1d1dd55d-a736-49bf-87c5-d0adcfd479d0",
   "metadata": {},
   "outputs": [
    {
     "name": "stdin",
     "output_type": "stream",
     "text": [
      "Enter the day of the week 5\n"
     ]
    },
    {
     "name": "stdout",
     "output_type": "stream",
     "text": [
      "the day of the week is: Fri\n"
     ]
    }
   ],
   "source": [
    "# Ans 18 - mplement a program to determine the day of the week based on a user-provided number (1 for Monday, 2 \n",
    "# for Tuesday, etc.).\n",
    "\n",
    "d = {'Mon':1,'Tue':2,'Wed':3,'Thu':4,'Fri':5,'Sat':6,'Sun':7}\n",
    "\n",
    "a = int(input('Enter the day of the week'))\n",
    "\n",
    "for x,y in d.items():\n",
    "    if a==y:\n",
    "        print('the day of the week is:',x)\n"
   ]
  },
  {
   "cell_type": "code",
   "execution_count": 6,
   "id": "920d5fb6-b3d9-471e-8fd3-9f3704127cda",
   "metadata": {},
   "outputs": [
    {
     "name": "stdout",
     "output_type": "stream",
     "text": [
      "the year is a leap year and is evenly divisible by 400\n"
     ]
    }
   ],
   "source": [
    "# Ans 19 -  Create a program that determines if a year is a leap year and also if it is evenly divisible by 400\n",
    "\n",
    "year = 2000\n",
    "\n",
    "if year%400==0 and year%4==0:\n",
    "    print('the year is a leap year and is evenly divisible by 400')"
   ]
  },
  {
   "cell_type": "code",
   "execution_count": 19,
   "id": "58cc4bfd-6420-40bd-9f6b-7764b2ce602a",
   "metadata": {},
   "outputs": [
    {
     "name": "stdout",
     "output_type": "stream",
     "text": [
      "the number is not a prime number\n"
     ]
    }
   ],
   "source": [
    "# Ans 20 -Develop a program that checks if a given number is prime or not using nested if-else statements.\n",
    "\n",
    "n=48\n",
    "\n",
    "l = list(range(1,n+1))\n",
    "count = 0\n",
    "\n",
    "for i in l:\n",
    "    \n",
    "    if n%i==0:\n",
    "        count = count + 1\n",
    "if count==2:\n",
    "    print('the number is a prime number')\n",
    "        \n",
    "else:\n",
    "    print('the number is not a prime number')\n",
    "        \n"
   ]
  },
  {
   "cell_type": "code",
   "execution_count": 21,
   "id": "56479d35-ebed-471d-9403-8860f742ff10",
   "metadata": {},
   "outputs": [
    {
     "name": "stdin",
     "output_type": "stream",
     "text": [
      "enter the score 60\n"
     ]
    },
    {
     "name": "stdout",
     "output_type": "stream",
     "text": [
      "you are in grade D\n"
     ]
    }
   ],
   "source": [
    "# Ans 21 - Write a Python program to assign grades based on different ranges of scores using elif statements\n",
    "\n",
    "score = int(input('enter the score'))\n",
    "\n",
    "if score>90:\n",
    "    print('you are in grade A')\n",
    "elif 80<=score<=90:\n",
    "    print('you are in grade B')\n",
    "elif 70<=score<80:\n",
    "    print('you are in grade C')\n",
    "else:\n",
    "    print('you are in grade D')"
   ]
  },
  {
   "cell_type": "code",
   "execution_count": 23,
   "id": "b078faeb-2448-4507-8b41-29e4ee475698",
   "metadata": {},
   "outputs": [
    {
     "name": "stdout",
     "output_type": "stream",
     "text": [
      "the triangle is an actue angle triangle\n"
     ]
    }
   ],
   "source": [
    "# Ans 22 - Implement a program to determine the type of a triangle based on its angles\n",
    "\n",
    "a = 40\n",
    "b = 60\n",
    "c = 80\n",
    "\n",
    "if a==90 or b==90 or c==90:\n",
    "    print('the triangle is a right angle triangle')\n",
    "elif a>90 or b>90 or c>90:\n",
    "    print('the triangle is an obtuse angle triangle')\n",
    "else:\n",
    "    print('the triangle is an actue angle triangle')"
   ]
  },
  {
   "cell_type": "code",
   "execution_count": 24,
   "id": "4c5cd4e9-9301-4390-b88c-d8a35b24e4e2",
   "metadata": {},
   "outputs": [
    {
     "name": "stdout",
     "output_type": "stream",
     "text": [
      "you have the correct weight\n"
     ]
    }
   ],
   "source": [
    "# Ans 23 - Develop a program to categorize a given person's BMI into underweight, normal, overweight, or obese using \n",
    "# elif statements\n",
    "\n",
    "bmi = 24\n",
    "\n",
    "if bmi<18:\n",
    "    print('you are underweight')\n",
    "elif 18<=bmi<=24:\n",
    "    print('you have the correct weight')\n",
    "else:\n",
    "    print('you are overweight')"
   ]
  },
  {
   "cell_type": "code",
   "execution_count": 25,
   "id": "e9c42a75-c28e-4081-9e41-8f4d22e277aa",
   "metadata": {},
   "outputs": [
    {
     "name": "stdin",
     "output_type": "stream",
     "text": [
      "enter a number 25\n"
     ]
    },
    {
     "name": "stdout",
     "output_type": "stream",
     "text": [
      "entered number is positive\n"
     ]
    }
   ],
   "source": [
    "# Ans 24 - Create a program that determines whether a given number is positive, negative, or zero using elif\n",
    "\n",
    "a = int(input('enter a number'))\n",
    "\n",
    "if a<0:\n",
    "    print('entered number is negative')\n",
    "elif a>0:\n",
    "    print('entered number is positive')\n",
    "else:\n",
    "    print('entered number is zero')"
   ]
  },
  {
   "cell_type": "code",
   "execution_count": 29,
   "id": "f9a3e578-60b4-445e-9af4-84dbbe1d90b5",
   "metadata": {},
   "outputs": [
    {
     "name": "stdout",
     "output_type": "stream",
     "text": [
      "the given character is in lower case\n"
     ]
    }
   ],
   "source": [
    "# Ans 25 - Write a Python script to determine the type of a character (uppercase, lowercase, or special) using elif \n",
    "# statements.\n",
    "\n",
    "char = 'p'\n",
    "\n",
    "if char.isupper()==True:\n",
    "    print('the given character is in upper case')\n",
    "elif char.islower()==True:\n",
    "    print('the given character is in lower case')\n",
    "else:\n",
    "    print('the given character is a special character')"
   ]
  },
  {
   "cell_type": "code",
   "execution_count": 30,
   "id": "10305c94-1bdc-4ca4-8afd-f7387e3c1d2e",
   "metadata": {},
   "outputs": [
    {
     "name": "stdout",
     "output_type": "stream",
     "text": [
      "you have a discount of 10%. Pls pay 990.0\n"
     ]
    }
   ],
   "source": [
    "# Ans 26 -  Implement a program to calculate the discounted price based on different purchase amounts using elif statements.\n",
    "\n",
    "amt = 1100\n",
    "\n",
    "if amt>1000:\n",
    "    print('you have a discount of 10%. Pls pay',amt*0.9)\n",
    "elif 700<=amt<=1000:\n",
    "    print('you have a discount of 5%. Pls pay',amt*0.95)\n",
    "else:\n",
    "    print('you have no discout. Pls pay',amt)"
   ]
  },
  {
   "cell_type": "code",
   "execution_count": 31,
   "id": "d2525c7c-f49c-419a-ad1d-37927c2692aa",
   "metadata": {},
   "outputs": [
    {
     "name": "stdout",
     "output_type": "stream",
     "text": [
      "Pls pay 350\n"
     ]
    }
   ],
   "source": [
    "# Ans 27 -  Develop a program to calculate the electricity bill based on different consumption slabs using elif statements\n",
    "\n",
    "# consumed units<100, rate Rs 2 per unit\n",
    "# consumed units between 100 and 200, rate is Rs 3 per unit\n",
    "# consumed ucnits>300, rate is Rs4 per unit\n",
    "\n",
    "unit = 150\n",
    "\n",
    "if unit<100:\n",
    "    print('pls pay',unit*2)\n",
    "elif 100<=unit<=200:\n",
    "    print('Pls pay',200+(unit-100)*3)\n",
    "else:\n",
    "    print('Pls pay',200+300+(unit-200)*4)"
   ]
  },
  {
   "cell_type": "code",
   "execution_count": 32,
   "id": "9e57478e-d462-4531-a29e-27f5c3a85f3e",
   "metadata": {},
   "outputs": [
    {
     "name": "stdout",
     "output_type": "stream",
     "text": [
      "this quadrilateral is a rectangle\n"
     ]
    }
   ],
   "source": [
    "# Ans 28  - Create a program to determine the type of quadrilateral based on its angles and sides using elif statements.\n",
    "\n",
    "s1 = 5\n",
    "s2 = 5\n",
    "s3 = 6\n",
    "s4 = 6\n",
    "\n",
    "a1 = 90\n",
    "a2 = 90\n",
    "a3 = 90\n",
    "a4 = 90\n",
    "\n",
    "if a1==a2 and a1==a3:\n",
    "    \n",
    "    if s1==s2 and s1==s3:\n",
    "        print('this quadrilateral is a square')\n",
    "    elif s1==s2 or s1==s3 or s1==s4:\n",
    "        print('this quadrilateral is a rectangle')\n",
    "        \n",
    "if a1==a2 or a1==a3 or a1==a4:\n",
    "    if s1==s2 and s1==s3:\n",
    "        print('this quadrilateral is a rhombus')\n",
    "        "
   ]
  },
  {
   "cell_type": "code",
   "execution_count": 36,
   "id": "f291521b-e06d-4faf-a66d-9442ff6716e3",
   "metadata": {},
   "outputs": [
    {
     "name": "stdin",
     "output_type": "stream",
     "text": [
      "enter a month of the year Mar\n"
     ]
    },
    {
     "name": "stdout",
     "output_type": "stream",
     "text": [
      "This is summer season\n"
     ]
    }
   ],
   "source": [
    "# Ans 29 - Write a Python script to determine the season based on a user-provided month using elif statements\n",
    "\n",
    "month = input('enter a month of the year')\n",
    "\n",
    "if month=='Mar' or month=='Apr' or month=='May':\n",
    "    print('This is summer season')\n",
    "elif month=='Jun' or month=='July':\n",
    "    print('This is rainy season')\n",
    "    \n",
    "elif month=='Aug' or month=='Sep':\n",
    "    print('this is Autumn season')\n",
    "else:\n",
    "    print('this is winter season')"
   ]
  },
  {
   "cell_type": "code",
   "execution_count": 37,
   "id": "153d5360-fecf-4140-bf68-94459b80b00c",
   "metadata": {},
   "outputs": [
    {
     "name": "stdout",
     "output_type": "stream",
     "text": [
      "this is a leap year\n",
      "Apr,Jun,Sep,Nov months have 30 days\n"
     ]
    }
   ],
   "source": [
    "# Ans 30 - Implement a program to determine the type of a year (leap or common) and month (30 or 31 days) using elif statements.\n",
    "\n",
    "year = 2024\n",
    "month_days = 30\n",
    "\n",
    "if year%4==0:\n",
    "    print('this is a leap year')\n",
    "else:\n",
    "    print('this is not a leap year')\n",
    "\n",
    "if month_days==30:\n",
    "    print('Apr,Jun,Sep,Nov months have 30 days')\n",
    "else:\n",
    "    print('Jan,Mar,May,Jul,Aug,Oct,Dec months have 31 days')\n"
   ]
  },
  {
   "cell_type": "code",
   "execution_count": 38,
   "id": "965bbb35-e800-4341-a885-4e35cec8708a",
   "metadata": {},
   "outputs": [],
   "source": [
    "# Assignments Questions"
   ]
  },
  {
   "cell_type": "code",
   "execution_count": 1,
   "id": "d3da1375-8a67-428c-acec-42ffbd926c69",
   "metadata": {},
   "outputs": [
    {
     "name": "stdout",
     "output_type": "stream",
     "text": [
      "the given number is positive\n"
     ]
    }
   ],
   "source": [
    "# Ans 1 - Write a Python program to check if a given number is positive or negative\n",
    "\n",
    "n = 4\n",
    "\n",
    "if n<0:\n",
    "    print('the given number is negative')\n",
    "elif n==0:\n",
    "    print('the given number is zero')\n",
    "else:\n",
    "    print('the given number is positive')"
   ]
  },
  {
   "cell_type": "code",
   "execution_count": 3,
   "id": "be72ccd5-5633-4aa0-8c2a-acfc69687fea",
   "metadata": {},
   "outputs": [
    {
     "name": "stdin",
     "output_type": "stream",
     "text": [
      "Enter your age in years 17\n"
     ]
    },
    {
     "name": "stdout",
     "output_type": "stream",
     "text": [
      "you are not eligible to vote\n"
     ]
    }
   ],
   "source": [
    "# Ans 2 - Create a program to determine if a person is eligible to vote based on their age.\n",
    "\n",
    "age = int(input('Enter your age in years'))\n",
    "\n",
    "if age>=18:\n",
    "    print('you are eligible to vote')\n",
    "\n",
    "else:\n",
    "    print('you are not eligible to vote')"
   ]
  },
  {
   "cell_type": "code",
   "execution_count": 4,
   "id": "62333831-a8cc-4427-a9b3-2890a4a8be6e",
   "metadata": {},
   "outputs": [
    {
     "name": "stdin",
     "output_type": "stream",
     "text": [
      "Enter first number 5\n",
      "Enter second number 9\n"
     ]
    },
    {
     "name": "stdout",
     "output_type": "stream",
     "text": [
      "number  9 is greater than  5\n"
     ]
    }
   ],
   "source": [
    "# Ans 3- Write a program to find the maximum of two given numbers using conditional statements\n",
    "\n",
    "a = int(input('Enter first number'))\n",
    "b = int(input('Enter second number'))\n",
    "\n",
    "if a>b:\n",
    "    print('number ',a,'is greater than ',b)\n",
    "else:\n",
    "    print('number ',b,'is greater than ',a)\n"
   ]
  },
  {
   "cell_type": "code",
   "execution_count": 6,
   "id": "5bf69a65-b1bc-4cc0-af32-0d2add994612",
   "metadata": {},
   "outputs": [
    {
     "name": "stdin",
     "output_type": "stream",
     "text": [
      "enter the score 45\n"
     ]
    },
    {
     "name": "stdout",
     "output_type": "stream",
     "text": [
      "you are in grade D\n"
     ]
    }
   ],
   "source": [
    "# Ans 4 - Develop a program that calculates the grade of a student based on their exam score.\n",
    "\n",
    "score = int(input('enter the score'))\n",
    "\n",
    "if score>90:\n",
    "    print('you are in grade A')\n",
    "elif 80<=score<=90:\n",
    "    print('you are in grade B')\n",
    "elif 70<=score<80:\n",
    "    print('you are in grade C')\n",
    "else:\n",
    "    print('you are in grade D')"
   ]
  },
  {
   "cell_type": "code",
   "execution_count": 7,
   "id": "7e3bd196-388b-418e-925f-2ffb24c73067",
   "metadata": {},
   "outputs": [
    {
     "name": "stdin",
     "output_type": "stream",
     "text": [
      "Enter the year 2004\n"
     ]
    },
    {
     "name": "stdout",
     "output_type": "stream",
     "text": [
      "the entered year is a leap year\n"
     ]
    }
   ],
   "source": [
    "#Ans 5 -  Create a program that checks if a year is a leap year or not.\n",
    "year = int(input('Enter the year'))\n",
    "\n",
    "if year%4==0:\n",
    "    print('the entered year is a leap year')\n",
    "    \n",
    "else:\n",
    "    print('the entered year is not a leap year')"
   ]
  },
  {
   "cell_type": "code",
   "execution_count": 8,
   "id": "a174ae21-d0b5-4570-88e2-1fe9d66e259c",
   "metadata": {},
   "outputs": [
    {
     "name": "stdin",
     "output_type": "stream",
     "text": [
      "enter the first side of triangle 5\n",
      "enter the second side of triangle 6\n",
      "enter the thrid side of triangle 7\n"
     ]
    },
    {
     "name": "stdout",
     "output_type": "stream",
     "text": [
      "the 3 sides of the triangle are unequal, so they form a scalene triangle\n"
     ]
    }
   ],
   "source": [
    "# ans 6 -  Write a program to classify a triangle based on its sides' lengths.\n",
    "\n",
    "a = int(input('enter the first side of triangle'))\n",
    "b = int(input('enter the second side of triangle'))\n",
    "c = int(input('enter the thrid side of triangle'))\n",
    "\n",
    "if a==b and a==c:\n",
    "    print('the 3 sides form an equilaterial triangle')\n",
    "elif a==b or a==c:\n",
    "    print('2 sides of the triangle are equal, therefore they form an isosceles triangle')\n",
    "else:\n",
    "    print('the 3 sides of the triangle are unequal, so they form a scalene triangle')"
   ]
  },
  {
   "cell_type": "code",
   "execution_count": 9,
   "id": "85106bb4-642d-436a-b28b-7697ad09ef14",
   "metadata": {},
   "outputs": [
    {
     "name": "stdin",
     "output_type": "stream",
     "text": [
      "Enter first number 5\n",
      "Enter second number 8\n",
      "Enter third number 10\n"
     ]
    },
    {
     "name": "stdout",
     "output_type": "stream",
     "text": [
      "10 is the greatest number\n"
     ]
    }
   ],
   "source": [
    "# Ans 7 -Build a program that determines the largest of three given numbers\n",
    "\n",
    "a = int(input('Enter first number'))\n",
    "b = int(input('Enter second number'))\n",
    "c = int(input('Enter third number'))\n",
    "\n",
    "\n",
    "if a>b:\n",
    "    \n",
    "    if a>c:        \n",
    "        print(a,'is the greatest number')\n",
    "if b>c:\n",
    "    if b>a:\n",
    "        print(b,'is the greatest number')\n",
    "    \n",
    "if c>a:\n",
    "    if c>b:\n",
    "        print(c,'is the greatest number')"
   ]
  },
  {
   "cell_type": "code",
   "execution_count": 10,
   "id": "644c86d8-e2d3-4f13-b775-d042f553f575",
   "metadata": {},
   "outputs": [
    {
     "name": "stdin",
     "output_type": "stream",
     "text": [
      "enter a character b\n"
     ]
    },
    {
     "name": "stdout",
     "output_type": "stream",
     "text": [
      "the character is a consonent\n"
     ]
    }
   ],
   "source": [
    "# Ans 8 - Develop a program that checks whether a character is a vowel or a consonant.\n",
    "\n",
    "v = ['a','e','i','o','u']\n",
    "\n",
    "a = input('enter a character')\n",
    "\n",
    "if a in v:\n",
    "    print('the character is a vowel')\n",
    "else:\n",
    "    print('the character is a consonent')"
   ]
  },
  {
   "cell_type": "code",
   "execution_count": 11,
   "id": "a313bf5f-3b7d-4081-b598-f93868ff749e",
   "metadata": {},
   "outputs": [
    {
     "name": "stdout",
     "output_type": "stream",
     "text": [
      "you have a discount of 5%. Pls pay 807.5\n"
     ]
    }
   ],
   "source": [
    "# Ans - 9-Create a program to calculate the total cost of a shopping cart based on discounts\n",
    "\n",
    "\n",
    "amt = 850\n",
    "\n",
    "if amt>1000:\n",
    "    print('you have a discount of 10%. Pls pay',amt*0.9)\n",
    "elif 700<=amt<=1000:\n",
    "    print('you have a discount of 5%. Pls pay',amt*0.95)\n",
    "else:\n",
    "    print('you have no discout. Pls pay',amt)"
   ]
  },
  {
   "cell_type": "code",
   "execution_count": 12,
   "id": "7740954c-a40d-48ba-89a8-7985cf97d0d9",
   "metadata": {},
   "outputs": [
    {
     "name": "stdin",
     "output_type": "stream",
     "text": [
      "Enter a number 25\n"
     ]
    },
    {
     "name": "stdout",
     "output_type": "stream",
     "text": [
      "odd\n"
     ]
    }
   ],
   "source": [
    "# Ans10 - Write a program that checks if a given number is even or odd\n",
    "\n",
    "a = int(input('Enter a number'))\n",
    "\n",
    "if a%2==0:\n",
    "    print('even')\n",
    "else:\n",
    "    print('odd')"
   ]
  },
  {
   "cell_type": "code",
   "execution_count": 13,
   "id": "2d3b9373-e8fd-4beb-ab25-b61302da05e8",
   "metadata": {},
   "outputs": [],
   "source": [
    "# Intermediate"
   ]
  },
  {
   "cell_type": "code",
   "execution_count": 14,
   "id": "2e2542d2-9e43-4df6-a229-a08a789599f3",
   "metadata": {},
   "outputs": [
    {
     "name": "stdin",
     "output_type": "stream",
     "text": [
      "enter the coefficient \"a\" for the quadratic eq: ax2+bx+c=0 5\n",
      "enter the coefficient \"b\" for the quadratic eq: ax2+bx+c=0 -8\n",
      "enter the coefficient \"c\" for the quadratic eq: ax2+bx+c=0 16\n"
     ]
    },
    {
     "name": "stdout",
     "output_type": "stream",
     "text": [
      "the roots of the quadratic eq are (8+1.6j) (8-1.6j)\n"
     ]
    }
   ],
   "source": [
    "#Ans 11 - Write a program that calculates the roots of a quadratic equation \n",
    "\n",
    "a = int(input('enter the coefficient \"a\" for the quadratic eq: ax2+bx+c=0'))\n",
    "b = int(input('enter the coefficient \"b\" for the quadratic eq: ax2+bx+c=0'))\n",
    "c = int(input('enter the coefficient \"c\" for the quadratic eq: ax2+bx+c=0'))\n",
    "\n",
    "root1 = -b+(b*b-4*a*c)**0.5/(2*a)\n",
    "root2 = -b-(b*b-4*a*c)**0.5/(2*a)\n",
    "\n",
    "print('the roots of the quadratic eq are',root1,root2)"
   ]
  },
  {
   "cell_type": "code",
   "execution_count": 15,
   "id": "f3601676-2ac1-4c96-ab93-4329fd51cdd2",
   "metadata": {},
   "outputs": [
    {
     "name": "stdin",
     "output_type": "stream",
     "text": [
      "Enter the day of the week 3\n"
     ]
    },
    {
     "name": "stdout",
     "output_type": "stream",
     "text": [
      "the day of the week is: Wed\n"
     ]
    }
   ],
   "source": [
    "# Ans 12-  Create a program that determines the day of the week based on the day number (1-7).\n",
    "\n",
    "d = {'Mon':1,'Tue':2,'Wed':3,'Thu':4,'Fri':5,'Sat':6,'Sun':7}\n",
    "\n",
    "a = int(input('Enter the day of the week'))\n",
    "\n",
    "for x,y in d.items():\n",
    "    if a==y:\n",
    "        print('the day of the week is:',x)\n"
   ]
  },
  {
   "cell_type": "code",
   "execution_count": 16,
   "id": "e84604f9-b379-4091-97a5-7a95b4b03cb7",
   "metadata": {},
   "outputs": [
    {
     "data": {
      "text/plain": [
       "120"
      ]
     },
     "execution_count": 16,
     "metadata": {},
     "output_type": "execute_result"
    }
   ],
   "source": [
    "# Ans 13 -  Develop a program that calculates the factorial of a given number using recursion\n",
    "\n",
    "\n",
    "n = 5\n",
    "\n",
    "def fact(n):\n",
    "    \n",
    "    if n==1:\n",
    "        return 1\n",
    "    else:\n",
    "        return n*fact(n-1)\n",
    "\n",
    "fact(n)\n",
    "    "
   ]
  },
  {
   "cell_type": "code",
   "execution_count": 17,
   "id": "395a55a8-7172-4c4e-bd3c-5e1c94f902ba",
   "metadata": {},
   "outputs": [
    {
     "name": "stdin",
     "output_type": "stream",
     "text": [
      "Enter first number 4\n",
      "Enter second number 9\n",
      "Enter third number 2\n"
     ]
    },
    {
     "name": "stdout",
     "output_type": "stream",
     "text": [
      "9 is the greatest number\n"
     ]
    }
   ],
   "source": [
    "# Ans 14 - Write a program to find the largest among three numbers without using the `max()` function\n",
    "\n",
    "a = int(input('Enter first number'))\n",
    "b = int(input('Enter second number'))\n",
    "c = int(input('Enter third number'))\n",
    "\n",
    "\n",
    "if a>b:\n",
    "    \n",
    "    if a>c:        \n",
    "        print(a,'is the greatest number')\n",
    "if b>c:\n",
    "    if b>a:\n",
    "        print(b,'is the greatest number')\n",
    "    \n",
    "if c>a:\n",
    "    if c>b:\n",
    "        print(c,'is the greatest number')"
   ]
  },
  {
   "cell_type": "code",
   "execution_count": 18,
   "id": "7b8dede2-add7-42d4-9972-5daab5d50d37",
   "metadata": {},
   "outputs": [
    {
     "name": "stdin",
     "output_type": "stream",
     "text": [
      "Welcome, Pls insert the card and enter the pin 1234\n",
      "Enter the withdrawal amount 5000\n"
     ]
    },
    {
     "name": "stdout",
     "output_type": "stream",
     "text": [
      "Please collect the cash! thank you for trasacting!\n"
     ]
    }
   ],
   "source": [
    "# Ans 15 - . Create a program that simulates a basic ATM transaction menu\n",
    "\n",
    "pin = 1234\n",
    "\n",
    "p = int(input('Welcome, Pls insert the card and enter the pin'))\n",
    "\n",
    "\n",
    "if pin!=p:\n",
    "    print('you have entered incorrect pin. Pls enter the correct pin')\n",
    "else:\n",
    "    b = int(input('Enter the withdrawal amount'))\n",
    "    \n",
    "    print('Please collect the cash! thank you for trasacting!')\n",
    "          \n"
   ]
  },
  {
   "cell_type": "code",
   "execution_count": 19,
   "id": "75462150-32c7-46c6-99c2-c0635eb86a01",
   "metadata": {},
   "outputs": [
    {
     "name": "stdin",
     "output_type": "stream",
     "text": [
      "enter a string liril\n"
     ]
    },
    {
     "name": "stdout",
     "output_type": "stream",
     "text": [
      "the string is a palindrome\n"
     ]
    }
   ],
   "source": [
    "# Ans 16 - Build a program that checks if a given string is a palindrome or not.\n",
    "\n",
    "l = input('enter a string')\n",
    "\n",
    "l_rev = l[::-1]\n",
    "\n",
    "\n",
    "    \n",
    "if l == l_rev:\n",
    "    print('the string is a palindrome')\n",
    "else:\n",
    "    print('the string is not a palindrome')"
   ]
  },
  {
   "cell_type": "code",
   "execution_count": 26,
   "id": "a6034878-fc91-49d9-bdc7-3e87eb275fbc",
   "metadata": {},
   "outputs": [
    {
     "name": "stdout",
     "output_type": "stream",
     "text": [
      "Average of list excluding the max and min numbers is 44.625\n"
     ]
    }
   ],
   "source": [
    "# Ans 17 - Write a program that calculates the average of a list of numbers, excluding the smallest and largest values\n",
    "\n",
    "l = [25,45,21,56,45,22,87,98,23,54]\n",
    "\n",
    "l_min = min(l)\n",
    "l_max = max(l)\n",
    "l.remove(l_min)\n",
    "l.remove(l_max)\n",
    "\n",
    "a = sum(l)/len(l)\n",
    "print('Average of list excluding the max and min numbers is',a)\n",
    "\n"
   ]
  },
  {
   "cell_type": "code",
   "execution_count": 27,
   "id": "9b9e01ca-c814-4ea6-9ee0-e303e34b2556",
   "metadata": {},
   "outputs": [
    {
     "name": "stdout",
     "output_type": "stream",
     "text": [
      "temp in degree fahrenheit is 77.0\n"
     ]
    }
   ],
   "source": [
    "# Ans 18 Develop a program that converts a given temperature from Celsius to Fahrenheit.\n",
    "\n",
    "c  = 25\n",
    "\n",
    "f = c*9/5+32\n",
    "\n",
    "print('temp in degree fahrenheit is',f)\n"
   ]
  },
  {
   "cell_type": "code",
   "execution_count": 31,
   "id": "fcc6ba35-c845-452b-9cb1-3779c180e761",
   "metadata": {},
   "outputs": [
    {
     "name": "stdout",
     "output_type": "stream",
     "text": [
      "14\n",
      "2\n",
      "140\n",
      "4.166666666666667\n"
     ]
    }
   ],
   "source": [
    "# Ans 19 - Create a program that simulates a basic calculator for addition, subtraction, multiplication, and division.\n",
    "\n",
    "    \n",
    "def add(a,b):\n",
    "    return a+b\n",
    "def sub(a,b):\n",
    "    return a-b\n",
    "def mul(a,b):\n",
    "    return a*b\n",
    "def div(a,b):\n",
    "    return a/b\n",
    "\n",
    "print(add(9,5))\n",
    "print(sub(8,6))\n",
    "print(mul(7,20))\n",
    "print(div(25,6))\n"
   ]
  },
  {
   "cell_type": "code",
   "execution_count": 32,
   "id": "a38ab0ad-0077-41ee-8639-890aabad8228",
   "metadata": {},
   "outputs": [],
   "source": [
    "# Ans 20 - . Write a program that determines the roots of a cubic equation using the Cardano formula."
   ]
  },
  {
   "cell_type": "code",
   "execution_count": 33,
   "id": "97b91cd7-0782-4108-a72b-db3b6dabb085",
   "metadata": {},
   "outputs": [],
   "source": [
    "# Advanced Level:\n"
   ]
  },
  {
   "cell_type": "code",
   "execution_count": 36,
   "id": "b63eb091-960f-422a-8ff9-fa327ee0b99f",
   "metadata": {},
   "outputs": [
    {
     "name": "stdout",
     "output_type": "stream",
     "text": [
      "income tax is  47500.0\n"
     ]
    }
   ],
   "source": [
    "# Ans 21 - Create a program that calculates the income tax based on the user's income and tax brackets\n",
    "\n",
    "\n",
    "income = 600000\n",
    "\n",
    "if income<=250000:\n",
    "    print('income tax is ',0)\n",
    "elif 250000<income<=500000:\n",
    "    print('income tax is ',0.05*income)\n",
    "else:\n",
    "    print('income tax is ',0.05*250000+0.1*(income-250000))"
   ]
  },
  {
   "cell_type": "code",
   "execution_count": 37,
   "id": "8b0941c7-1b63-4842-977e-10611cce6045",
   "metadata": {},
   "outputs": [],
   "source": [
    "# Ans 22 - Write a program that simulates a rock-paper-scissors game against the computer."
   ]
  },
  {
   "cell_type": "code",
   "execution_count": 38,
   "id": "6fc06e73-d990-4cf3-a42a-8062a8b5c075",
   "metadata": {},
   "outputs": [],
   "source": [
    "# Ans 23 -  Develop a program that generates a random password based on user preferences (length, complexity)."
   ]
  },
  {
   "cell_type": "code",
   "execution_count": 39,
   "id": "c57b1287-aa0a-4810-aadd-df99490fef87",
   "metadata": {},
   "outputs": [],
   "source": [
    "# Ans 24 -Create a program that implements a simple text-based adventure game with branching scenarios."
   ]
  },
  {
   "cell_type": "code",
   "execution_count": 40,
   "id": "3f2f900e-de47-433b-93d5-f5166e3f58b3",
   "metadata": {},
   "outputs": [],
   "source": [
    "# Ans 25 -Build a program that solves a linear equation  for x, considering different cases.\n",
    "\n"
   ]
  },
  {
   "cell_type": "code",
   "execution_count": 41,
   "id": "c28b15b7-f12b-47f8-8181-42ebcad750fc",
   "metadata": {},
   "outputs": [],
   "source": [
    "# Ans 26 - Write a program that simulates a basic quiz game with multiple-choice questions and scoring."
   ]
  },
  {
   "cell_type": "code",
   "execution_count": 45,
   "id": "7179646b-67d8-43f1-bfdd-7d2e45921acd",
   "metadata": {},
   "outputs": [
    {
     "name": "stdout",
     "output_type": "stream",
     "text": [
      "the given year is not a prime number\n"
     ]
    }
   ],
   "source": [
    "# Ans 27  -Develop a program that determines whether a given year is a prime number or not.\n",
    "import sympy as s\n",
    "n = 2023\n",
    "\n",
    "\n",
    "if s.isprime(n)==True:\n",
    "    print('the given year is a prime number')\n",
    "else:\n",
    "    print('the given year is not a prime number')\n",
    "\n"
   ]
  },
  {
   "cell_type": "code",
   "execution_count": 53,
   "id": "9a5a08f6-3c1a-4d55-a5ac-e75348aea4dd",
   "metadata": {},
   "outputs": [
    {
     "name": "stdout",
     "output_type": "stream",
     "text": [
      "the ascending order is  10 20 30\n"
     ]
    }
   ],
   "source": [
    "# Ans 28  - Create a program that sorts three numbers in ascending order using conditional statements.\n",
    "\n",
    "a = 10\n",
    "b = 20\n",
    "c = 30\n",
    "\n",
    "l = []\n",
    "\n",
    "if a<b<c:\n",
    "    print('the ascending order is ',a,b,c)\n",
    "elif a<c<b:\n",
    "    print('the ascending order is',a,c,b)\n",
    "elif b<a<c:\n",
    "    print('the ascending order is',b,c,a)\n",
    "elif b<c<a:\n",
    "    print('the ascending order is',b,c,a)\n",
    "elif c<a<b:\n",
    "    print('the ascending order is',c,a,b)\n",
    "else:\n",
    "    print('the ascending order is',c,b,a)\n"
   ]
  },
  {
   "cell_type": "code",
   "execution_count": 54,
   "id": "99a1664a-5915-409d-a32f-f61e084408bd",
   "metadata": {},
   "outputs": [],
   "source": [
    "# Ans 29 - Build a program that determines the roots of a quartic equation using numerical methods"
   ]
  },
  {
   "cell_type": "code",
   "execution_count": 56,
   "id": "5a7fb88b-9f3e-41db-8e02-8f86b87745c3",
   "metadata": {},
   "outputs": [
    {
     "name": "stdout",
     "output_type": "stream",
     "text": [
      "you have the correct weight\n"
     ]
    }
   ],
   "source": [
    "# Ans 30 - Write a program that calculates the BMI (Body Mass Index) and provides health recommendations based on the user's input.\n",
    "\n",
    "bmi = 19\n",
    "\n",
    "if bmi<18:\n",
    "    print('you are underweight')\n",
    "elif 18<=bmi<=24:\n",
    "    print('you have the correct weight')\n",
    "else:\n",
    "    print('you are overweight')"
   ]
  },
  {
   "cell_type": "code",
   "execution_count": 57,
   "id": "682e2da3-864c-45b1-ba4d-9e41ae33b82e",
   "metadata": {},
   "outputs": [],
   "source": [
    "# Challenge Level\n"
   ]
  },
  {
   "cell_type": "code",
   "execution_count": 66,
   "id": "b2d30180-4d99-4a9c-b582-d894de1999fa",
   "metadata": {},
   "outputs": [
    {
     "name": "stdin",
     "output_type": "stream",
     "text": [
      "enter the password to check the password strength Abcd1245$25\n"
     ]
    },
    {
     "name": "stdout",
     "output_type": "stream",
     "text": [
      "your password is strong\n"
     ]
    }
   ],
   "source": [
    "# An 31 - Create a program that validates a password based on complexity rules (length, characters, etc.)\n",
    "\n",
    "password = input('enter the password to check the password strength')\n",
    "\n",
    "if (8<len(password)<20):\n",
    "    if '@' or '%' or '$' in password:\n",
    "        for i in password:\n",
    "            if i.isupper()==True or i.islower()==True or i.isnumeric()==True:\n",
    "                print('your password is strong')\n",
    "                break\n",
    "else:\n",
    "    print('your password is weak')"
   ]
  },
  {
   "cell_type": "code",
   "execution_count": 67,
   "id": "224c5094-c64a-41e0-8c43-d73d90e9dd86",
   "metadata": {},
   "outputs": [],
   "source": [
    "# Ans 32 - Develop a program that performs matrix addition and subtraction based on user input"
   ]
  },
  {
   "cell_type": "code",
   "execution_count": 75,
   "id": "56c15d3a-431a-4c57-a80d-0fce00eccccd",
   "metadata": {},
   "outputs": [
    {
     "name": "stdout",
     "output_type": "stream",
     "text": [
      "the greates common factor is 5\n"
     ]
    }
   ],
   "source": [
    "# Ans 33 - Write a program that calculates the greatest common divisor (GCD) of two numbers using the Euclidean algorithm.\n",
    "\n",
    "a = 15\n",
    "\n",
    "b = 40\n",
    "\n",
    "a_factors = [i for i in range(1,a+1) if a%i==0]\n",
    "b_factors = [i for i in range(1,b+1) if b%i==0]\n",
    "\n",
    "common_factors = []\n",
    "\n",
    "for i in a_factors:\n",
    "    for j in b_factors:\n",
    "        if i==j:\n",
    "            common_factors.append(i)\n",
    "print('the greates common factor is',max(common_factors))\n",
    "\n",
    "\n"
   ]
  },
  {
   "cell_type": "code",
   "execution_count": 76,
   "id": "95936acc-d1c2-41eb-ac12-3fbd646888e0",
   "metadata": {},
   "outputs": [],
   "source": [
    "# Ans 34 - Build a program that performs matrix multiplication using nested loops and conditional statements"
   ]
  },
  {
   "cell_type": "code",
   "execution_count": 77,
   "id": "a3c0858b-152d-4b98-86de-7e913dc27b05",
   "metadata": {},
   "outputs": [],
   "source": [
    "# Ans 35 - Create a program that simulates a basic text-based tic-tac-toe game against the computer."
   ]
  },
  {
   "cell_type": "code",
   "execution_count": 78,
   "id": "a9a44115-000b-46d2-a875-00ab694f756d",
   "metadata": {},
   "outputs": [
    {
     "name": "stdout",
     "output_type": "stream",
     "text": [
      "[0, 1, 1, 2, 3, 5, 8, 13, 21, 34, 55, 89]\n"
     ]
    }
   ],
   "source": [
    "# Ans 36 - Write a program that generates Fibonacci numbers up to a specified term using iterative methods\n",
    "n=10\n",
    "a= 0\n",
    "b=1\n",
    "l = [a,b]\n",
    "\n",
    "for i in range(1,n+1):\n",
    "    sum = a+b\n",
    "    a = b\n",
    "    b=sum\n",
    "    l.append(sum)\n",
    "    \n",
    "print(l)\n",
    "\n",
    "\n"
   ]
  },
  {
   "cell_type": "code",
   "execution_count": 80,
   "id": "83b73331-803e-4f84-848a-21bf49e79617",
   "metadata": {},
   "outputs": [
    {
     "name": "stdout",
     "output_type": "stream",
     "text": [
      "34\n"
     ]
    }
   ],
   "source": [
    "# Ans 37 - Develop a program that calculates the nth term of the Fibonacci sequence using memoization\n",
    "\n",
    "n=10\n",
    "a= 0\n",
    "b=1\n",
    "\n",
    "\n",
    "for i in range(1,n-1):\n",
    "    sum = a+b\n",
    "    a = b\n",
    "    b=sum\n",
    "   \n",
    "    \n",
    "print(sum)\n",
    "\n"
   ]
  },
  {
   "cell_type": "code",
   "execution_count": 81,
   "id": "e5808023-f069-4c6b-8932-618d85eaebc6",
   "metadata": {},
   "outputs": [],
   "source": [
    "# Ans 38 - Create a program that generates a calendar for a given month and year using conditional statements"
   ]
  },
  {
   "cell_type": "code",
   "execution_count": 82,
   "id": "48a15d99-2ad4-41a4-9c2d-957bcbfab710",
   "metadata": {},
   "outputs": [],
   "source": [
    "# Ans 39 -Build a program that simulates a basic text-based blackjack game against the computer"
   ]
  },
  {
   "cell_type": "code",
   "execution_count": 85,
   "id": "e25abef2-15ad-4b88-aea2-71f7cdb6b4af",
   "metadata": {},
   "outputs": [
    {
     "name": "stdout",
     "output_type": "stream",
     "text": [
      "[2, 5]\n"
     ]
    }
   ],
   "source": [
    "# Ans 40 -Write a program that generates the prime factors of a given number using trial division\n",
    "import sympy as s\n",
    "n = 40\n",
    "\n",
    "l = []\n",
    "\n",
    "count = 0\n",
    "\n",
    "for i in range(1,n+1):\n",
    "    \n",
    "    if 40%i==0 and s.isprime(i)==True:\n",
    "        l.append(i)\n",
    "print(l)\n",
    "\n",
    "        \n"
   ]
  },
  {
   "cell_type": "code",
   "execution_count": null,
   "id": "fc516dd1-d3f2-4bd8-9c6a-f109cba48465",
   "metadata": {},
   "outputs": [],
   "source": []
  }
 ],
 "metadata": {
  "kernelspec": {
   "display_name": "Python 3 (ipykernel)",
   "language": "python",
   "name": "python3"
  },
  "language_info": {
   "codemirror_mode": {
    "name": "ipython",
    "version": 3
   },
   "file_extension": ".py",
   "mimetype": "text/x-python",
   "name": "python",
   "nbconvert_exporter": "python",
   "pygments_lexer": "ipython3",
   "version": "3.10.8"
  }
 },
 "nbformat": 4,
 "nbformat_minor": 5
}
