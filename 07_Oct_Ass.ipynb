{
 "cells": [
  {
   "cell_type": "code",
   "execution_count": 30,
   "id": "93be2187-99c4-469d-b9e4-46ffbb48fc1a",
   "metadata": {},
   "outputs": [],
   "source": [
    "# Problem 1: Bank Account Create a class\n",
    "# representing a bank account with attributes like account number,\n",
    "# account holder name, and balance. Implement methods to deposit\n",
    "# and withdraw money from the account.\n",
    "\n",
    "class bank:\n",
    "    \n",
    "    def __init__(self,name1,accNo1):\n",
    "        self.name = name1\n",
    "        self.accNo = accNo1\n",
    "        self.deposit = 0\n",
    "        self.withdraw = 0\n",
    "                \n",
    "        \n",
    "    def bank_deposit(self):\n",
    "        self.deposit = int(input('enter deposit amt'))\n",
    "        print('the deposited amount is:',self.deposit)\n",
    "        \n",
    "    def bank_withdraw(self):\n",
    "        self.withdraw = int(input('enter the withdrawal amount'))\n",
    "        print('the account balance now is',self.deposit-self.withdraw)"
   ]
  },
  {
   "cell_type": "code",
   "execution_count": 31,
   "id": "017fa30c-5318-4a23-a1ad-d663c7a3f882",
   "metadata": {},
   "outputs": [],
   "source": [
    "obj_bank = bank('selva',4801506773)"
   ]
  },
  {
   "cell_type": "code",
   "execution_count": 32,
   "id": "879f4f60-b0fa-4420-99f2-71cf1b43dff7",
   "metadata": {},
   "outputs": [
    {
     "name": "stdin",
     "output_type": "stream",
     "text": [
      "enter deposit amt 1000\n"
     ]
    },
    {
     "name": "stdout",
     "output_type": "stream",
     "text": [
      "the deposited amount is: 1000\n"
     ]
    }
   ],
   "source": [
    "obj_bank.bank_deposit()"
   ]
  },
  {
   "cell_type": "code",
   "execution_count": 33,
   "id": "591f9d13-d54b-4fd8-8849-40d13711a2e2",
   "metadata": {},
   "outputs": [
    {
     "name": "stdin",
     "output_type": "stream",
     "text": [
      "enter the withdrawal amount 300\n"
     ]
    },
    {
     "name": "stdout",
     "output_type": "stream",
     "text": [
      "the account balance now is 700\n"
     ]
    }
   ],
   "source": [
    "obj_bank.bank_withdraw()"
   ]
  },
  {
   "cell_type": "code",
   "execution_count": 34,
   "id": "71bcb282-2048-4e28-97b9-38e743ca4cf1",
   "metadata": {},
   "outputs": [],
   "source": [
    "'''\n",
    "Problem 2: Employee Management Create a class representing an employee\n",
    "with attributes like employee ID, name, and salary.\n",
    "Implement methods to calculate the yearly bonus and display employee details.\n",
    "\n",
    "'''\n",
    "class employee:\n",
    "    \n",
    "    def __init__(self,name1,empID1,salary1):\n",
    "        self.name = name1\n",
    "        self.empID = empID1\n",
    "        self.salary = salary1\n",
    "        \n",
    "    def emp_details(self):\n",
    "        print('Employee Name is:',self.name)\n",
    "        print('Employee ID is:',self.empID)\n",
    "        print('Employee Salary is:',self.salary)\n",
    "    def emp_bonus(self):\n",
    "        print('Emplyee bonus is',self.salary*0.1)"
   ]
  },
  {
   "cell_type": "code",
   "execution_count": 35,
   "id": "1665e2c7-100c-4ad1-bf81-5a9b87e51fa3",
   "metadata": {},
   "outputs": [],
   "source": [
    "selva_emp = employee('Selva',1804370,1500000)"
   ]
  },
  {
   "cell_type": "code",
   "execution_count": 36,
   "id": "37eadd79-d381-4c7e-815e-1cd7ced95c75",
   "metadata": {},
   "outputs": [
    {
     "name": "stdout",
     "output_type": "stream",
     "text": [
      "Employee Name is: Selva\n",
      "Employee ID is: 1804370\n",
      "Employee Salary is: 1500000\n"
     ]
    }
   ],
   "source": [
    "selva_emp.emp_details()"
   ]
  },
  {
   "cell_type": "code",
   "execution_count": 14,
   "id": "e8aad0e1-79c3-452d-a8ff-20e7123909ba",
   "metadata": {},
   "outputs": [],
   "source": [
    "'''\n",
    "Problem 3: Vehicle Rental Create a class representing a vehicle rental system.\n",
    "Implement methods to rent a vehicle, return a vehicle, and display available vehicles.\n",
    "'''\n",
    "\n",
    "class veh_rental:\n",
    "    \n",
    "    def __init__(self):\n",
    "        self.maruti_alto = 5\n",
    "        self.tata_nexon = 10\n",
    "        self.hyundai_i10 = 20\n",
    "        \n",
    "    def veh_available(self):\n",
    "        print('Vehicle available are','Maruti Alto',self.maruti_alto)\n",
    "        print('Vehicle available are','Tata Nexon',self.tata_nexon)\n",
    "        print('Vehicle available are','Hyundai i10',self.hyundai_i10)\n",
    "        \n",
    "    def veh_price(self):\n",
    "        self.alto_price = 800\n",
    "        self.nexon_price = 1200\n",
    "        self.i10_price = 1000\n",
    "        print('Price per day for','Maruti Alto',self.alto_price)\n",
    "        print('Price per day for','Tata Nexon',self.nexon_price)\n",
    "        print('Price per day for','Hyundai i10',self.i10_price)"
   ]
  },
  {
   "cell_type": "code",
   "execution_count": 15,
   "id": "73947b21-9e97-4925-a728-ae0b53ef796f",
   "metadata": {},
   "outputs": [],
   "source": [
    "veh = veh_rental()"
   ]
  },
  {
   "cell_type": "code",
   "execution_count": 16,
   "id": "ca86398b-358e-4277-a667-cc8282cb3055",
   "metadata": {},
   "outputs": [
    {
     "name": "stdout",
     "output_type": "stream",
     "text": [
      "Vehicle available are Maruti Alto 5\n",
      "Vehicle available are Tata Nexon 10\n",
      "Vehicle available are Hyundai i10 20\n"
     ]
    }
   ],
   "source": [
    "veh.veh_available()"
   ]
  },
  {
   "cell_type": "code",
   "execution_count": 17,
   "id": "f29ab483-5bc1-4557-bf49-8fdfe5d16746",
   "metadata": {},
   "outputs": [
    {
     "name": "stdout",
     "output_type": "stream",
     "text": [
      "Price per day for Maruti Alto 800\n",
      "Price per day for Tata Nexon 1200\n",
      "Price per day for Hyundai i10 1000\n"
     ]
    }
   ],
   "source": [
    "veh.veh_price()"
   ]
  },
  {
   "cell_type": "code",
   "execution_count": 4,
   "id": "607dea4f-be6f-48bf-ab9d-13011334ae78",
   "metadata": {},
   "outputs": [],
   "source": [
    "'''\n",
    "Problem 4: Library Catalog Create classes representing a library and a book.\n",
    "Implement methods to add books to the library, borrow books,\n",
    "and display available books.\n",
    "\n",
    "'''\n",
    "\n",
    "class lib:\n",
    "    \n",
    "    def __init__(self):\n",
    "        self.booksList = ['Harry Potter','White Tiger','The Gita']\n",
    "    \n",
    "    def lib_detail(self):\n",
    "        print('the books in the library are',self.booksList)\n",
    "        "
   ]
  },
  {
   "cell_type": "code",
   "execution_count": 5,
   "id": "74c5561b-597a-4925-b038-e65b13bd56de",
   "metadata": {},
   "outputs": [],
   "source": [
    "library = lib()"
   ]
  },
  {
   "cell_type": "code",
   "execution_count": 6,
   "id": "b3778e19-31e7-4e98-b9ed-414217c83442",
   "metadata": {},
   "outputs": [
    {
     "name": "stdout",
     "output_type": "stream",
     "text": [
      "the books in the library are ['Harry Potter', 'White Tiger', 'The Gita']\n"
     ]
    }
   ],
   "source": [
    "library.lib_detail()"
   ]
  },
  {
   "cell_type": "code",
   "execution_count": 1,
   "id": "a49112e5-f86f-496a-b5db-bd27f48ca873",
   "metadata": {},
   "outputs": [
    {
     "data": {
      "text/plain": [
       "'\\nProblem 5: Product Inventory Create classes representing a product\\nand an inventory system. Implement methods to add products to the inventory,\\nupdate product quantity, and display available products.\\n\\n'"
      ]
     },
     "execution_count": 1,
     "metadata": {},
     "output_type": "execute_result"
    }
   ],
   "source": [
    "'''\n",
    "Problem 5: Product Inventory Create classes representing a product\n",
    "and an inventory system. Implement methods to add products to the inventory,\n",
    "update product quantity, and display available products.\n",
    "\n",
    "'''"
   ]
  },
  {
   "cell_type": "code",
   "execution_count": 13,
   "id": "9ed1a6e9-a55c-43e4-91b3-26c8cfdd7837",
   "metadata": {},
   "outputs": [],
   "source": [
    "class inventory:\n",
    "    \n",
    "    def __init__(self):\n",
    "        self.items = {'pencils':5,'ball pen':10,'ruler':7,'eraser':8}\n",
    "        \n",
    "    def stocks_add(self,item1,qty1):\n",
    "        self.item = item1\n",
    "        self.qty = qty1\n",
    "        self.items[self.item] = self.qty\n",
    "        print('the new stock is',self.items)\n",
    "        \n",
    "    def stocks_display(self):\n",
    "        print('the items in stock')\n",
    "        "
   ]
  },
  {
   "cell_type": "code",
   "execution_count": 16,
   "id": "691540a6-e761-4578-9c53-11f696168afb",
   "metadata": {},
   "outputs": [],
   "source": [
    "stationery = inventory()\n"
   ]
  },
  {
   "cell_type": "code",
   "execution_count": 17,
   "id": "4139951f-f8c8-4642-8555-d9a5744cf0e4",
   "metadata": {},
   "outputs": [
    {
     "name": "stdout",
     "output_type": "stream",
     "text": [
      "the new stock is {'pencils': 5, 'ball pen': 10, 'ruler': 7, 'eraser': 8, 'sharpner': 6}\n"
     ]
    }
   ],
   "source": [
    "stationery.stocks_add('sharpner',6)"
   ]
  },
  {
   "cell_type": "code",
   "execution_count": 18,
   "id": "45cbbae5-e1e2-4c8c-a60f-bb870f7cef29",
   "metadata": {},
   "outputs": [
    {
     "data": {
      "text/plain": [
       "'\\nProblem 6: Shape Calculation Create a class representing a shape\\nwith attributes like length, width, and height.\\nImplement methods to calculate the area and perimeter of the shape.\\n'"
      ]
     },
     "execution_count": 18,
     "metadata": {},
     "output_type": "execute_result"
    }
   ],
   "source": [
    "'''\n",
    "Problem 6: Shape Calculation Create a class representing a shape\n",
    "with attributes like length, width, and height.\n",
    "Implement methods to calculate the area and perimeter of the shape.\n",
    "'''"
   ]
  },
  {
   "cell_type": "code",
   "execution_count": 26,
   "id": "39f0cab7-83f0-4956-b987-ce5815b9a0dc",
   "metadata": {},
   "outputs": [],
   "source": [
    "class shape:\n",
    "    \n",
    "    def __init__(self,length1,width1):\n",
    "        \n",
    "        self.length = length1\n",
    "        self.width = width1\n",
    "                \n",
    "    def area(self):\n",
    "        self.area = self.length * self.width\n",
    "        print('area of the shape is',self.area)\n",
    "        \n",
    "    def peri(self):\n",
    "        self.peri = 2*(self.length + self.width)\n",
    "        print('perimeter of the shape is',self.peri)\n",
    "        \n",
    "        "
   ]
  },
  {
   "cell_type": "code",
   "execution_count": 27,
   "id": "a04a0216-9fc1-4356-ae2c-4123c982e579",
   "metadata": {},
   "outputs": [],
   "source": [
    "obj_shape = shape(5,6)"
   ]
  },
  {
   "cell_type": "code",
   "execution_count": 28,
   "id": "712d617b-1a0d-41c3-b07f-f84f511cd1db",
   "metadata": {},
   "outputs": [
    {
     "name": "stdout",
     "output_type": "stream",
     "text": [
      "area of the shape is 30\n"
     ]
    }
   ],
   "source": [
    "obj_shape.area()"
   ]
  },
  {
   "cell_type": "code",
   "execution_count": 29,
   "id": "38c1fe30-bc49-469a-812b-fe24a82a3350",
   "metadata": {},
   "outputs": [
    {
     "name": "stdout",
     "output_type": "stream",
     "text": [
      "perimeter of the shape is 22\n"
     ]
    }
   ],
   "source": [
    "obj_shape.peri()"
   ]
  },
  {
   "cell_type": "code",
   "execution_count": 49,
   "id": "8ae7b5a3-ee4a-486d-aac2-45ca4e6d9e38",
   "metadata": {},
   "outputs": [],
   "source": [
    "'''\n",
    "Problem 7: Student Management Create a class representing a student\n",
    "with attributes like student ID, name, and grades.\n",
    "Implement methods to calculate the average grade and display student details.\n",
    "'''\n",
    "\n",
    "class student:\n",
    "    def __init__(self):\n",
    "        self.student_info = {'Amar':{'id':1804370,'grade':75},\n",
    "                             'Akbar':{'id':1804371,'grade':90},\n",
    "                             'Antony':{'id':1804372,'grade':65}}\n",
    "        \n",
    "    def avg_grade(self):\n",
    "        \n",
    "        sum = 0\n",
    "        count = 0\n",
    "        for i in self.student_info.values():\n",
    "            sum = sum + i['grade']\n",
    "            count = count + 1\n",
    "        print('the average grade is',sum/count)\n",
    "        \n",
    "    def student_details(self):\n",
    "        print('the student details are',self.student_info)\n",
    "        "
   ]
  },
  {
   "cell_type": "code",
   "execution_count": 50,
   "id": "47e4009d-91b7-4347-9d38-8f3d679bdc4d",
   "metadata": {},
   "outputs": [],
   "source": [
    "s = student()"
   ]
  },
  {
   "cell_type": "code",
   "execution_count": 51,
   "id": "d80cfcb0-55bd-4264-9f41-216690c0fe11",
   "metadata": {},
   "outputs": [
    {
     "name": "stdout",
     "output_type": "stream",
     "text": [
      "the average grade is 76.66666666666667\n"
     ]
    }
   ],
   "source": [
    "s.avg_grade()"
   ]
  },
  {
   "cell_type": "code",
   "execution_count": 52,
   "id": "b5895cd5-155e-4b96-b94a-33f2db441b20",
   "metadata": {},
   "outputs": [
    {
     "name": "stdout",
     "output_type": "stream",
     "text": [
      "the student details are {'Amar': {'id': 1804370, 'grade': 75}, 'Akbar': {'id': 1804371, 'grade': 90}, 'Antony': {'id': 1804372, 'grade': 65}}\n"
     ]
    }
   ],
   "source": [
    "s.student_details()"
   ]
  },
  {
   "cell_type": "code",
   "execution_count": 60,
   "id": "15bb7f44-97a1-4650-9460-f579095811a0",
   "metadata": {},
   "outputs": [],
   "source": [
    "'''\n",
    "Problem 8: Email Management Create a class representing an email with attributes\n",
    "like sender, recipient, and subject.\n",
    "Implement methods to send an email and display email details.\n",
    "'''\n",
    "\n",
    "class email:\n",
    "    \n",
    "    def __init__(self,sender1,recepient1,subject1):\n",
    "        self.sender = sender1\n",
    "        self.recepient = recepient1\n",
    "        self.subject = subject1\n",
    "        \n",
    "    def sendEmail(self):\n",
    "        print('Dear:',self.sender)\n",
    "        print('Subject:',self.subject)\n",
    "        print('Sent from:',self.recepient)\n",
    "        \n",
    "        "
   ]
  },
  {
   "cell_type": "code",
   "execution_count": 63,
   "id": "c7c41e0f-2211-4173-bac4-7d698a0a304f",
   "metadata": {},
   "outputs": [],
   "source": [
    "email_trial = email('Sudhanshu','Krish','PW Skills Fee reduction for merit students')\n"
   ]
  },
  {
   "cell_type": "code",
   "execution_count": 64,
   "id": "153e7543-f957-43e6-8c01-31ba6873bd97",
   "metadata": {},
   "outputs": [
    {
     "name": "stdout",
     "output_type": "stream",
     "text": [
      "Dear: Sudhanshu\n",
      "Subject: PW Skills Fee reduction for merit students\n",
      "Sent from: Krish\n"
     ]
    }
   ],
   "source": [
    "email_trial.sendEmail()"
   ]
  },
  {
   "cell_type": "code",
   "execution_count": null,
   "id": "5b85b456-9c99-46fd-a237-e05752358f1e",
   "metadata": {},
   "outputs": [],
   "source": []
  },
  {
   "cell_type": "code",
   "execution_count": 124,
   "id": "d04aa2ed-37e7-44c5-be66-8b7e86c5639f",
   "metadata": {},
   "outputs": [],
   "source": [
    "'''\n",
    "Problem 9: Social Media Profile Create a class representing\n",
    "a social media profile with attributes like username and posts.\n",
    "Implement methods to add posts, display posts, and search for posts by keyword.\n",
    "'''\n",
    "\n",
    "class socialMedia:\n",
    "    \n",
    "    def __init__(self,username1,post1):\n",
    "        self.username = username1\n",
    "        self.post = post1\n",
    "        self.l = []\n",
    "        self.d  = {}\n",
    "        self.l.append(self.post)\n",
    "        self.d[self.username] = self.l\n",
    "        \n",
    "    def postAdd(self,post3):\n",
    "        self.post2 = post3\n",
    "        self.l.append(self.post2)\n",
    "    \n",
    "    def postDisp(self):\n",
    "        print('The posts are:',self.d)\n",
    "        \n",
    "    def searchKeyword(self,key1):\n",
    "        self.key = key1\n",
    "        \n",
    "        for i in self.d.values():\n",
    "            #print(i)\n",
    "            \n",
    "            if self.key in i:\n",
    "                print('The keyword',self.key,'is found in the posts')\n",
    "        \n",
    "    \n",
    "        "
   ]
  },
  {
   "cell_type": "code",
   "execution_count": 125,
   "id": "4ed87267-ddd8-4acf-823d-00cd6860bd0e",
   "metadata": {},
   "outputs": [],
   "source": [
    "social = socialMedia('sudh','I am a good teacher')"
   ]
  },
  {
   "cell_type": "code",
   "execution_count": 126,
   "id": "09c8f392-e0be-4b2e-aef0-930fc881424c",
   "metadata": {},
   "outputs": [],
   "source": [
    "social.postAdd('I am a great teacher')"
   ]
  },
  {
   "cell_type": "code",
   "execution_count": 127,
   "id": "747c1ec0-9137-4fd6-a618-5cb5013e4faa",
   "metadata": {},
   "outputs": [
    {
     "name": "stdout",
     "output_type": "stream",
     "text": [
      "The posts are: {'sudh': ['I am a good teacher', 'I am a great teacher']}\n"
     ]
    }
   ],
   "source": [
    "social.postDisp()"
   ]
  },
  {
   "cell_type": "code",
   "execution_count": null,
   "id": "154a89a1-ce2f-484b-87e2-d32bca46fa28",
   "metadata": {},
   "outputs": [],
   "source": []
  },
  {
   "cell_type": "code",
   "execution_count": 128,
   "id": "c63d7495-edcb-41bc-97ad-36b9a44a9da0",
   "metadata": {},
   "outputs": [],
   "source": [
    "social.searchKeyword('great')"
   ]
  },
  {
   "cell_type": "code",
   "execution_count": 69,
   "id": "09876534-ea35-42bf-a227-6a81746a72db",
   "metadata": {},
   "outputs": [],
   "source": [
    "'''\n",
    "Problem 10: ToDo List Create a class representing a ToDo list with\n",
    "attributes like tasks and due dates. Implement methods to add tasks,\n",
    "mark tasks as completed, and display pending tasks.\n",
    "'''\n",
    "\n",
    "class todo:\n",
    "       \n",
    "    def todoAdd(self,**task2):\n",
    "        print(task2)\n",
    "\n",
    "        \n",
    "    def todoDisplay(self):\n",
    "        return task2"
   ]
  },
  {
   "cell_type": "code",
   "execution_count": 70,
   "id": "8cc2dd19-33b3-4cc9-a326-334597a2e0bd",
   "metadata": {},
   "outputs": [],
   "source": [
    "selva_todo = todo()"
   ]
  },
  {
   "cell_type": "code",
   "execution_count": 71,
   "id": "5b4dd040-9fa9-4279-bbce-897ba575431f",
   "metadata": {},
   "outputs": [
    {
     "name": "stdout",
     "output_type": "stream",
     "text": [
      "{'task1': 'finish assignment', 'duedt': '12Oct', 'status': 'pending'}\n"
     ]
    }
   ],
   "source": [
    "selva_todo.todoAdd(task1='finish assignment',duedt='12Oct',status='pending')"
   ]
  },
  {
   "cell_type": "code",
   "execution_count": 73,
   "id": "2ec60122-613d-4b53-9a93-15e736c6c13b",
   "metadata": {},
   "outputs": [
    {
     "name": "stdout",
     "output_type": "stream",
     "text": [
      "{'task2': 'finish videos', 'duedt': '13Oct', 'status': 'completed'}\n"
     ]
    }
   ],
   "source": [
    "selva_todo.todoAdd(task2='finish videos',duedt='13Oct',status='completed')"
   ]
  },
  {
   "cell_type": "code",
   "execution_count": null,
   "id": "c50f5130-fda1-438e-b3d0-eb95a7c3babb",
   "metadata": {},
   "outputs": [],
   "source": []
  }
 ],
 "metadata": {
  "kernelspec": {
   "display_name": "Python 3 (ipykernel)",
   "language": "python",
   "name": "python3"
  },
  "language_info": {
   "codemirror_mode": {
    "name": "ipython",
    "version": 3
   },
   "file_extension": ".py",
   "mimetype": "text/x-python",
   "name": "python",
   "nbconvert_exporter": "python",
   "pygments_lexer": "ipython3",
   "version": "3.10.8"
  }
 },
 "nbformat": 4,
 "nbformat_minor": 5
}
