{
 "cells": [
  {
   "cell_type": "code",
   "execution_count": 1,
   "id": "f328872f-e6e5-455e-840f-b0a03cbba197",
   "metadata": {},
   "outputs": [
    {
     "data": {
      "text/plain": [
       "[0, 1, 2, 3, 4, 5, 6, 7, 8, 9, 10]"
      ]
     },
     "execution_count": 1,
     "metadata": {},
     "output_type": "execute_result"
    }
   ],
   "source": [
    "# For Loop\n",
    "# Ans 1 - Write a Python program to print numbers from 1 to 10 using a for loop.\n",
    "\n",
    "[x for x in range(0,11)]"
   ]
  },
  {
   "cell_type": "code",
   "execution_count": 2,
   "id": "d8d26b13-9fe8-42af-85b9-7ea67a497df1",
   "metadata": {},
   "outputs": [],
   "source": [
    "# Ans 2 - Explain the difference between a for loop and a while loop in Python.\n",
    "\n",
    "# For loop - This function iterates every over a string or list or tuple or dictionary\n",
    "\n",
    "# while loop - This function checks for a condition and keeps looping until the condition is not satisfied"
   ]
  },
  {
   "cell_type": "code",
   "execution_count": 5,
   "id": "0c8533f2-ad03-4a8c-9cea-8437161a48ad",
   "metadata": {},
   "outputs": [
    {
     "name": "stdout",
     "output_type": "stream",
     "text": [
      "5050\n"
     ]
    }
   ],
   "source": [
    "# ans 3 - Write a Python program to calculate\n",
    "# the sum of all numbers from 1 to 100 using a for loop\n",
    "\n",
    "l = sum([x for x in range(1,101)])\n",
    "print(l)"
   ]
  },
  {
   "cell_type": "code",
   "execution_count": 6,
   "id": "d97e3b91-3f64-4b83-af3a-7ade70b7414a",
   "metadata": {},
   "outputs": [
    {
     "name": "stdout",
     "output_type": "stream",
     "text": [
      "1\n",
      "2\n",
      "3\n",
      "4\n",
      "5\n"
     ]
    }
   ],
   "source": [
    "# Ans 4 - How do you iterate through a list using a for loop in Python?\n",
    "\n",
    "l = [1,2,3,4,5]\n",
    "\n",
    "for i in l:\n",
    "    print(i)"
   ]
  },
  {
   "cell_type": "code",
   "execution_count": 10,
   "id": "945ad554-65be-412c-ac45-d173a1b29349",
   "metadata": {},
   "outputs": [
    {
     "name": "stdout",
     "output_type": "stream",
     "text": [
      "120\n"
     ]
    }
   ],
   "source": [
    "# Ans 5 - Write a Python program to find the product\n",
    "#of all elements in a list using a for loop.\n",
    "\n",
    "l = [x for x in range(1,6)]\n",
    "\n",
    "p = 1\n",
    "\n",
    "for i in l:\n",
    "    p = p*i\n",
    "print(p)\n",
    "\n"
   ]
  },
  {
   "cell_type": "code",
   "execution_count": 12,
   "id": "21c27fff-d54a-4476-b17b-72d07ddd239e",
   "metadata": {},
   "outputs": [
    {
     "name": "stdout",
     "output_type": "stream",
     "text": [
      "2 4 6 8 10 12 14 16 18 20 "
     ]
    }
   ],
   "source": [
    "# Ans 6 - Create a Python program that prints all even numbers from 1 to 20 using a for loop.\n",
    "\n",
    "\n",
    "for i in list(range(1,21)):\n",
    "    \n",
    "    if i%2==0:\n",
    "        print(i,end=' ')\n",
    "\n",
    "    "
   ]
  },
  {
   "cell_type": "code",
   "execution_count": 17,
   "id": "7076e15d-b894-473b-bbd2-3cc417fa75a3",
   "metadata": {},
   "outputs": [
    {
     "name": "stdout",
     "output_type": "stream",
     "text": [
      "360\n"
     ]
    }
   ],
   "source": [
    "# Ans 7 - Write a Python program that calculates the factorial of a number using a for loop.\n",
    "\n",
    "n = 6\n",
    "f = 1\n",
    "for i in range(1,5):\n",
    "    f = f * n\n",
    "    n = n-1\n",
    "    if n==1:\n",
    "        break\n",
    "        \n",
    "print(f)\n",
    "    "
   ]
  },
  {
   "cell_type": "code",
   "execution_count": 18,
   "id": "5915ab71-fe4d-4a01-9058-da10c588a988",
   "metadata": {},
   "outputs": [
    {
     "name": "stdout",
     "output_type": "stream",
     "text": [
      "p\n",
      "w\n",
      "s\n",
      "k\n",
      "i\n",
      "l\n",
      "l\n",
      "s\n"
     ]
    }
   ],
   "source": [
    "# Ans 8 - How can you iterate through the characters of a string using a for loop in Python\n",
    "\n",
    "s = 'pwskills'\n",
    "\n",
    "for i in s:\n",
    "    print(i)"
   ]
  },
  {
   "cell_type": "code",
   "execution_count": 20,
   "id": "ee9853b2-36d8-45b9-ab6d-3eac5e05eee5",
   "metadata": {},
   "outputs": [
    {
     "name": "stdout",
     "output_type": "stream",
     "text": [
      "9\n"
     ]
    }
   ],
   "source": [
    "# Ans 9 - Write a Python program to find the largest number in a list using a for loop.\n",
    "\n",
    "l = [5,4,2,6,9,8,7]\n",
    "\n",
    "max = 0\n",
    "\n",
    "for i in l:\n",
    "    if i>max:\n",
    "        max = i\n",
    "print(max)\n",
    "\n"
   ]
  },
  {
   "cell_type": "code",
   "execution_count": 21,
   "id": "918af4e0-0108-4c12-abf5-311ccc5b9c31",
   "metadata": {},
   "outputs": [
    {
     "name": "stdout",
     "output_type": "stream",
     "text": [
      "[0, 1, 1, 2, 3, 5, 8, 13, 21, 34]\n"
     ]
    }
   ],
   "source": [
    "# Ans 10 - Create a Python program that prints the Fibonacci\n",
    "# sequence up to a specified limit using a for loop.\n",
    "\n",
    "n = 8\n",
    "\n",
    "a = 0\n",
    "b = 1\n",
    "\n",
    "f = [a,b]\n",
    "\n",
    "for i in range(1,n+1):\n",
    "    c = a+b\n",
    "    a = b\n",
    "    b = c\n",
    "    f.append(c)\n",
    "print(f)"
   ]
  },
  {
   "cell_type": "code",
   "execution_count": 24,
   "id": "4f09849b-e0c8-450a-a873-f9f9801648ed",
   "metadata": {},
   "outputs": [
    {
     "name": "stdout",
     "output_type": "stream",
     "text": [
      "5\n"
     ]
    }
   ],
   "source": [
    "# Ans 11 - Write a Python program to count the number\n",
    "# of vowels in a given string using a for loop.\n",
    "\n",
    "v = ('a','e','i','o','u')\n",
    "\n",
    "s = 'I love pwskills & python'\n",
    "\n",
    "count = 0\n",
    "\n",
    "for i in v:\n",
    "    \n",
    "    for j in s.lower():\n",
    "        \n",
    "        if i==j:\n",
    "            count = count + 1\n",
    "print(count)\n",
    "        "
   ]
  },
  {
   "cell_type": "code",
   "execution_count": 28,
   "id": "0fc463c9-34fe-4473-8d27-13136637b66f",
   "metadata": {},
   "outputs": [
    {
     "name": "stdout",
     "output_type": "stream",
     "text": [
      "12 x 1 = 12\n",
      "12 x 2 = 24\n",
      "12 x 3 = 36\n",
      "12 x 4 = 48\n",
      "12 x 5 = 60\n",
      "12 x 6 = 72\n",
      "12 x 7 = 84\n",
      "12 x 8 = 96\n",
      "12 x 9 = 108\n",
      "12 x 10 = 120\n"
     ]
    }
   ],
   "source": [
    "# Ans 12 -Create a Python program that generates a multiplication\n",
    "# table for a given number using a for loop\n",
    "\n",
    "n = 12\n",
    "\n",
    "for i in range(1,11):\n",
    "    \n",
    "    print(n,'x',i,'=',n*i )"
   ]
  },
  {
   "cell_type": "code",
   "execution_count": 29,
   "id": "b751a4d6-fd62-4df7-9594-866f3dcac7be",
   "metadata": {},
   "outputs": [
    {
     "name": "stdout",
     "output_type": "stream",
     "text": [
      "[2, 8, 1, 2, 6, 4, 2, 5, 9]\n"
     ]
    }
   ],
   "source": [
    "# Ans 13 - Write a Python program to reverse a list using a for loop.\n",
    "\n",
    "l = [9,5,2,4,6,2,1,8,2]\n",
    "l_rev = []\n",
    "l_len = len(l)\n",
    "\n",
    "for i in range(1,l_len+1):\n",
    "    l_rev.append(l[l_len-1])\n",
    "    l_len = l_len -1\n",
    "    \n",
    "    if l_len==0:\n",
    "        break\n",
    "print(l_rev)\n",
    "    "
   ]
  },
  {
   "cell_type": "code",
   "execution_count": 31,
   "id": "929f6125-8167-42d6-aef7-677adb2bd09c",
   "metadata": {},
   "outputs": [
    {
     "name": "stdout",
     "output_type": "stream",
     "text": [
      "['p', 'w']\n"
     ]
    }
   ],
   "source": [
    "# Ans 14 - Write a Python program to find the common\n",
    "# elements between two lists using a for loop.\n",
    "\n",
    "l1 = ['a','f','p',1,3,'w']\n",
    "l2 = ['p','w','s','k','i','l','s']\n",
    "l_common = []\n",
    "\n",
    "for i in l1:\n",
    "    \n",
    "    for j in l2:\n",
    "        \n",
    "        if i==j:\n",
    "            l_common.append(i)\n",
    "print(l_common)\n",
    "        "
   ]
  },
  {
   "cell_type": "code",
   "execution_count": 38,
   "id": "de1bd38a-7168-4c9c-ac19-cc526f5756ee",
   "metadata": {},
   "outputs": [
    {
     "name": "stdout",
     "output_type": "stream",
     "text": [
      "name\n",
      "number\n",
      "email\n",
      "pwskills\n",
      "12546\n",
      "no_one@someone.com\n"
     ]
    }
   ],
   "source": [
    "# Ans 15 - Explain how to use a for loop to iterate through the keys \n",
    "# and values of a dictionary in Python\n",
    "\n",
    "d = {'name':'pwskills', 'number':12546,'email':'no_one@someone.com'}\n",
    "\n",
    "for i in d.keys():\n",
    "    print(i)\n",
    "    \n",
    "for i in d.values():\n",
    "    print(i)\n",
    "    \n"
   ]
  },
  {
   "cell_type": "code",
   "execution_count": 10,
   "id": "e28d59fa-a092-4b85-818e-e6f48edce91f",
   "metadata": {},
   "outputs": [
    {
     "data": {
      "text/plain": [
       "15"
      ]
     },
     "execution_count": 10,
     "metadata": {},
     "output_type": "execute_result"
    }
   ],
   "source": [
    "# Ans 16 -Write a Python program to find\n",
    "# the GCD (Greatest Common Divisor) of two numbers using a for loop.\n",
    "\n",
    "n1 = 30\n",
    "n2 = 45\n",
    "\n",
    "divisors_n1 = []\n",
    "divisors_n2 = []\n",
    "\n",
    "common_divisors = []\n",
    "\n",
    "for i in range(2,n1):\n",
    "    \n",
    "    if n1%i==0:\n",
    "        divisors_n1.append(i)\n",
    "        \n",
    "for i in range(2,n2):\n",
    "    \n",
    "    if n2%i==0:\n",
    "        divisors_n2.append(i)\n",
    "\n",
    "for i in divisors_n1:\n",
    "    for j in divisors_n2:\n",
    "        \n",
    "        if i==j:\n",
    "            common_divisors.append(i)\n",
    "\n",
    "max(common_divisors)    \n",
    "\n",
    "\n"
   ]
  },
  {
   "cell_type": "code",
   "execution_count": 8,
   "id": "23e2c0d0-561e-4600-8fde-f17da69b8b88",
   "metadata": {},
   "outputs": [
    {
     "name": "stdout",
     "output_type": "stream",
     "text": [
      "given string is not a palindrome\n"
     ]
    }
   ],
   "source": [
    "# Ans 17- Create a Python program that checks if a \n",
    "# string is a palindrome using a for loop.\n",
    "\n",
    "s = 'malayalamp'\n",
    "\n",
    "s_rev = s[::-1]\n",
    "\n",
    "count = 0\n",
    "\n",
    "for i in range(len(s)):\n",
    "          \n",
    "    if s[i]==s_rev[i]:\n",
    "        count = count + 1\n",
    " \n",
    "if count == len(s):\n",
    "    print('given string is a palindrome')\n",
    "    \n",
    "else:\n",
    "    print('given string is not a palindrome')\n",
    "            \n",
    "\n",
    "\n"
   ]
  },
  {
   "cell_type": "code",
   "execution_count": 11,
   "id": "21d5441b-5cef-4892-99b6-b8b501106752",
   "metadata": {},
   "outputs": [
    {
     "name": "stdout",
     "output_type": "stream",
     "text": [
      "the list without duplicates is: ['a', 'c', 'd', 'f', 'e']\n"
     ]
    }
   ],
   "source": [
    "# Ans 18 - Write a Python program to remove duplicates from a list using a for loop.\n",
    "\n",
    "l = ['a','c','a','d','f','e','c']\n",
    "\n",
    "l1 = []\n",
    "\n",
    "for i in l:\n",
    "    \n",
    "    if i not in l1:\n",
    "        l1.append(i)\n",
    "print('the list without duplicates is:',l1)"
   ]
  },
  {
   "cell_type": "code",
   "execution_count": 29,
   "id": "b2302d79-6159-4388-9eb4-7597feb43aeb",
   "metadata": {},
   "outputs": [
    {
     "name": "stdout",
     "output_type": "stream",
     "text": [
      "the number of words in the given sentence is: 3\n"
     ]
    }
   ],
   "source": [
    "# Ans 19 - Create a Python program that counts the number of words in a sentence using a for loop\n",
    "\n",
    "sentence = 'i love pwskills'\n",
    "\n",
    "list_sen = sentence.split()\n",
    "\n",
    "print('the number of words in the given sentence is:',len(list_sen))\n",
    "\n",
    "\n"
   ]
  },
  {
   "cell_type": "code",
   "execution_count": 1,
   "id": "c83145a0-5d65-47ce-a26f-96de9fd0adf4",
   "metadata": {},
   "outputs": [
    {
     "name": "stdout",
     "output_type": "stream",
     "text": [
      "625\n"
     ]
    }
   ],
   "source": [
    "# Ans 20 - Write a Python program to find the sum of all odd numbers from 1 to 50 using a for loop.\n",
    "\n",
    "l = []\n",
    "for i in range(1,51):\n",
    "    \n",
    "    if i%2==1:\n",
    "        l.append(i)\n",
    "print(sum(l))\n",
    "    "
   ]
  },
  {
   "cell_type": "code",
   "execution_count": 2,
   "id": "08a746b1-d8fd-48e9-8bce-6922db97695f",
   "metadata": {},
   "outputs": [
    {
     "name": "stdout",
     "output_type": "stream",
     "text": [
      "given year is a leap year\n"
     ]
    }
   ],
   "source": [
    "# Ans 21 - Write a Python program that checks if a given year is a leap year using a for loop.\n",
    "\n",
    "year = 2004\n",
    "\n",
    "if year%4==0:\n",
    "    print('given year is a leap year')\n",
    "    \n",
    "else:\n",
    "    print('given year is not a leap year')"
   ]
  },
  {
   "cell_type": "code",
   "execution_count": 3,
   "id": "88eaa216-7127-4480-a517-57d4543f2f63",
   "metadata": {},
   "outputs": [
    {
     "name": "stdout",
     "output_type": "stream",
     "text": [
      "the square root of the given number is: 25\n"
     ]
    }
   ],
   "source": [
    "# Ans 22 - Create a Python program that calculates the square root of a number using a for loop.\n",
    "\n",
    "n = 625\n",
    "\n",
    "for i in range(1,n+1):\n",
    "    \n",
    "    if i*i==n:\n",
    "        print('the square root of the given number is:',i)\n",
    "\n"
   ]
  },
  {
   "cell_type": "code",
   "execution_count": 9,
   "id": "52e042ee-aab0-4e02-8a04-2f510cf1d2e6",
   "metadata": {},
   "outputs": [
    {
     "name": "stdout",
     "output_type": "stream",
     "text": [
      "lcm of given numbers is: 72\n"
     ]
    }
   ],
   "source": [
    "# Ans 23 - Write a Python program to find the LCM (Least Common Multiple) of two numbers using a for loop.\n",
    "\n",
    "n1 = 24\n",
    "n2 = 18\n",
    "\n",
    "l1 = []\n",
    "l2 = []\n",
    "l3 = []\n",
    "for i in range(1,n1*n2):\n",
    "    l1.append(n1*i)\n",
    "\n",
    "for i in range(1,n1*n2):\n",
    "    l2.append(n2*i)\n",
    "    \n",
    "for i in l1:\n",
    "    for j in l2:\n",
    "        \n",
    "        if i==j:\n",
    "            l3.append(i)\n",
    "print('lcm of given numbers is:',l3[0])\n",
    "        \n"
   ]
  },
  {
   "cell_type": "code",
   "execution_count": 11,
   "id": "3d88ef1d-2053-4b5c-9a03-c8d6b632c1ba",
   "metadata": {},
   "outputs": [],
   "source": [
    "# If Else Problems\n"
   ]
  },
  {
   "cell_type": "code",
   "execution_count": 12,
   "id": "6fda44c5-6781-41ef-a727-c36bffc3c9c0",
   "metadata": {},
   "outputs": [
    {
     "name": "stdin",
     "output_type": "stream",
     "text": [
      "enter a number 25\n"
     ]
    },
    {
     "name": "stdout",
     "output_type": "stream",
     "text": [
      "the number is positive\n"
     ]
    }
   ],
   "source": [
    "# Ans 1 - Write a Python program to check if a number is positive, negative, or zero using an if-else statement.\n",
    "\n",
    "n = int(input('enter a number'))\n",
    "\n",
    "if n<0:\n",
    "    print('the number is negative')\n",
    "elif n==0:\n",
    "    print('the number is zero')\n",
    "else:\n",
    "    print('the number is positive')"
   ]
  },
  {
   "cell_type": "code",
   "execution_count": 13,
   "id": "b6d37fff-488d-4041-80e4-71f221af3025",
   "metadata": {},
   "outputs": [
    {
     "name": "stdin",
     "output_type": "stream",
     "text": [
      "enter a number 11\n"
     ]
    },
    {
     "name": "stdout",
     "output_type": "stream",
     "text": [
      "the given number is odd\n"
     ]
    }
   ],
   "source": [
    "# Ans 2 - Create a Python program that checks if a given number is even or odd using an if-else statement.\n",
    "\n",
    "n = int(input('enter a number'))\n",
    "\n",
    "if n%2==0:\n",
    "    print('the given number is even')\n",
    "else:\n",
    "    print('the given number is odd')"
   ]
  },
  {
   "cell_type": "code",
   "execution_count": null,
   "id": "d84e104f-10e5-4f08-9806-1a6c95ee8237",
   "metadata": {},
   "outputs": [],
   "source": [
    "# # Ans 3 - How can you use nested if-else statements in Python, and provide an example?"
   ]
  },
  {
   "cell_type": "code",
   "execution_count": 15,
   "id": "38000866-669c-45f5-bd83-7150ca76e52d",
   "metadata": {},
   "outputs": [
    {
     "name": "stdout",
     "output_type": "stream",
     "text": [
      "7 is the largest number\n"
     ]
    }
   ],
   "source": [
    "# Ans 4 - Write a Python program to determine the largest of three numbers using if-else.\n",
    "\n",
    "n1 = 5\n",
    "\n",
    "n2 = 7\n",
    "\n",
    "n3 = 6\n",
    "\n",
    "\n",
    "if (n1>n2) and (n1>n3):\n",
    "    print(n1,'is the largest number')\n",
    "    \n",
    "elif (n2>n1) and (n2>n3):\n",
    "    print(n2,'is the largest number')\n",
    "    \n",
    "else:\n",
    "    print(n3,'is the largest number')"
   ]
  },
  {
   "cell_type": "code",
   "execution_count": 17,
   "id": "62aa8a5c-9398-47d2-a88e-897d30388878",
   "metadata": {},
   "outputs": [
    {
     "name": "stdin",
     "output_type": "stream",
     "text": [
      "enter a number -18\n"
     ]
    },
    {
     "name": "stdout",
     "output_type": "stream",
     "text": [
      "18\n"
     ]
    }
   ],
   "source": [
    "# Ans 5 - Write a Python program that calculates the absolute value of a number using if-else\n",
    "\n",
    "n = int(input('enter a number'))\n",
    "\n",
    "if n>=0:\n",
    "    print(n)\n",
    "\n",
    "else:\n",
    "    print(-n)"
   ]
  },
  {
   "cell_type": "code",
   "execution_count": 18,
   "id": "ea66d725-d436-49b9-9359-2ca5a020dd0d",
   "metadata": {},
   "outputs": [
    {
     "name": "stdin",
     "output_type": "stream",
     "text": [
      "enter an alphabet e\n"
     ]
    },
    {
     "name": "stdout",
     "output_type": "stream",
     "text": [
      "the given character is a vowel\n"
     ]
    }
   ],
   "source": [
    "# Ans6 - Create a Python program that checks if a given character is a vowel or consonant using if-else.\n",
    "\n",
    "a = input('enter an alphabet')\n",
    "\n",
    "v = ['a','e','i','o','u']\n",
    "\n",
    "if a in v:\n",
    "    print('the given character is a vowel')\n",
    "else:\n",
    "    print('the given character is a consonent')\n"
   ]
  },
  {
   "cell_type": "code",
   "execution_count": 19,
   "id": "94bc4379-744a-417d-878f-bb0efdf4d265",
   "metadata": {},
   "outputs": [
    {
     "name": "stdin",
     "output_type": "stream",
     "text": [
      "enteer you age 15\n"
     ]
    },
    {
     "name": "stdout",
     "output_type": "stream",
     "text": [
      "the person is not eligible for voting\n"
     ]
    }
   ],
   "source": [
    "# Ans 7 - Write a Python program to determine if a user is eligible to vote based on their age using if-else.\n",
    "\n",
    "age = int(input('enteer you age'))\n",
    "\n",
    "if age>18:\n",
    "    print('the person is eligibile for voting')\n",
    "    \n",
    "else:\n",
    "    print('the person is not eligible for voting')"
   ]
  },
  {
   "cell_type": "code",
   "execution_count": 20,
   "id": "82b441a7-5a18-4612-a1c0-2595d1957cb0",
   "metadata": {},
   "outputs": [
    {
     "name": "stdout",
     "output_type": "stream",
     "text": [
      "discount is 125.0\n"
     ]
    }
   ],
   "source": [
    "# Ans 8 - Create a Python program that calculates the discount amount based on the purchase amount using if-else.\n",
    "\n",
    "amount = 1250\n",
    "\n",
    "if amount>1000:\n",
    "    print('discount is',0.1*amount)\n",
    "else:\n",
    "    print('discount is',0)\n",
    "    \n"
   ]
  },
  {
   "cell_type": "code",
   "execution_count": 25,
   "id": "34524d31-6c37-41c6-b455-9a4450040fbf",
   "metadata": {},
   "outputs": [
    {
     "name": "stdout",
     "output_type": "stream",
     "text": [
      "the given number is not within the range\n"
     ]
    }
   ],
   "source": [
    "# Ans 9 - Write a Python program to check if a number is within a specified range using if-else.\n",
    "\n",
    "n = 12\n",
    "\n",
    "r = list(range(1,10))\n",
    "\n",
    "if n in r:\n",
    "    print('the given number is within the range')\n",
    "else:\n",
    "    print('the given number is not within the range')\n",
    "\n"
   ]
  },
  {
   "cell_type": "code",
   "execution_count": 27,
   "id": "1b38c62d-ccdf-4200-b390-a4bf67fe0c12",
   "metadata": {},
   "outputs": [
    {
     "name": "stdout",
     "output_type": "stream",
     "text": [
      "your grade is B\n"
     ]
    }
   ],
   "source": [
    "# Ans 10 - Create a Python program that determines the grade of a student based on their score using if-else.\n",
    "\n",
    "score = 70\n",
    "\n",
    "if score>=90:\n",
    "    print('your grade is A')\n",
    "elif 65<=score <90:\n",
    "    print('your grade is B')\n",
    "else:\n",
    "    print('your grade is C')"
   ]
  },
  {
   "cell_type": "code",
   "execution_count": 28,
   "id": "b21cd1cf-32d7-45d3-a272-ce76c553e731",
   "metadata": {},
   "outputs": [
    {
     "name": "stdout",
     "output_type": "stream",
     "text": [
      "the string is not empty\n"
     ]
    }
   ],
   "source": [
    "# Ans 11 - Write a Python program to check if a string is empty or not using if-else\n",
    "\n",
    "string = 'hello'\n",
    "\n",
    "if string=='':\n",
    "    print('the string is empty')\n",
    "else:\n",
    "    print('the string is not empty')"
   ]
  },
  {
   "cell_type": "code",
   "execution_count": 31,
   "id": "4e7c18e1-ae29-4599-afd4-4f0f479b42d7",
   "metadata": {},
   "outputs": [
    {
     "name": "stdin",
     "output_type": "stream",
     "text": [
      "enter the first side of the triangle 3\n",
      "enter the second side of the triangle 4\n",
      "enter the third side of the triangle 3\n"
     ]
    },
    {
     "name": "stdout",
     "output_type": "stream",
     "text": [
      "the three sides form isosceles triangle\n"
     ]
    }
   ],
   "source": [
    "# Ans 12 - Create a Python program that identifies the type of a triangle \n",
    "# (e.g., equilateral, isosceles, or scalene) based on input values using if-else.\n",
    "\n",
    "a = int(input('enter the first side of the triangle'))\n",
    "b = int(input('enter the second side of the triangle'))\n",
    "c = int(input('enter the third side of the triangle'))\n",
    "\n",
    "if a==b and a==c:\n",
    "    print('the three sides form equilatiral triangle')\n",
    "    \n",
    "elif a==b or a==c:\n",
    "    print('the three sides form isosceles triangle')\n",
    "    \n",
    "else:\n",
    "    print('the 3 sides form a scalene triangle')"
   ]
  },
  {
   "cell_type": "code",
   "execution_count": 33,
   "id": "c816169c-8136-46ac-a8f6-cdcdcfba9831",
   "metadata": {},
   "outputs": [
    {
     "name": "stdin",
     "output_type": "stream",
     "text": [
      "enter the day of the week as a number 2\n"
     ]
    },
    {
     "name": "stdout",
     "output_type": "stream",
     "text": [
      "today is a tuesday\n"
     ]
    }
   ],
   "source": [
    "# ANs 13 - Write a Python program to determine the day of the week based on a user-provided number using if-else\n",
    "\n",
    "n = int(input('enter the day of the week as a number'))\n",
    "\n",
    "if n==0:\n",
    "    print('today is a sunday')\n",
    "elif n==1:\n",
    "    print('today is a monday')\n",
    "elif n==2:\n",
    "    print('today is a tuesday')\n",
    "elif n==3:\n",
    "    print('today is a wednesday')\n",
    "elif n==4:\n",
    "    print('today is a thursday')\n",
    "elif n==5:\n",
    "    print('today is a friday')\n",
    "else:\n",
    "    print('today is a saturday')"
   ]
  },
  {
   "cell_type": "code",
   "execution_count": 34,
   "id": "082bddf5-35dd-4161-9945-900e6583cfba",
   "metadata": {},
   "outputs": [
    {
     "name": "stdout",
     "output_type": "stream",
     "text": [
      "the year is leap year\n"
     ]
    }
   ],
   "source": [
    "# Ans 14 - Create a Python program that checks if a given year is a leap year using both if-else and a function\n",
    "\n",
    "year = 2004\n",
    "\n",
    "if year%4==0:\n",
    "    print('the year is leap year')\n",
    "else:\n",
    "    print('the year is not a leap year')"
   ]
  },
  {
   "cell_type": "code",
   "execution_count": 35,
   "id": "cba77fb7-4087-4429-b3d7-690e11257e9b",
   "metadata": {},
   "outputs": [],
   "source": [
    "# Ans 15 - How do you use the \"assert\" statement in Python to add debugging checks within if-else blocks"
   ]
  },
  {
   "cell_type": "code",
   "execution_count": 37,
   "id": "bba49fc7-9147-4150-9bce-cdd04a9241ed",
   "metadata": {},
   "outputs": [
    {
     "name": "stdout",
     "output_type": "stream",
     "text": [
      "you are eligible for a senior citizen discount\n"
     ]
    }
   ],
   "source": [
    "# Ans 16 - Create a Python program that determines the eligibility of a person for a senior citizen discount based on age using if-else\n",
    "\n",
    "age = 75\n",
    "\n",
    "if age>60:\n",
    "    print('you are eligible for a senior citizen discount')\n",
    "else:\n",
    "    print('you are not eligible for a senior citizen discount')"
   ]
  },
  {
   "cell_type": "code",
   "execution_count": 40,
   "id": "ce4cfac3-f9cc-4212-b9d6-415bb44977ee",
   "metadata": {},
   "outputs": [
    {
     "name": "stdin",
     "output_type": "stream",
     "text": [
      "enter a character B\n"
     ]
    },
    {
     "name": "stdout",
     "output_type": "stream",
     "text": [
      "given character is in upper case\n"
     ]
    }
   ],
   "source": [
    "#Ans - 17 -Write a Python program to categorize a given character as uppercase, lowercase, or neither using if-else.\n",
    "\n",
    "a = input('enter a character')\n",
    "\n",
    "if a.islower():\n",
    "    print('given character is in lower case')\n",
    "elif a.isupper():\n",
    "    print('given character is in upper case')\n",
    "else:\n",
    "    print('given character is neither')"
   ]
  },
  {
   "cell_type": "code",
   "execution_count": null,
   "id": "e8dd4434-d556-4faf-96ba-18c0e1840e91",
   "metadata": {},
   "outputs": [],
   "source": [
    "# Ans 18 - Write a Python program to determine the roots of a quadratic equation using if-else.\n",
    "\n"
   ]
  },
  {
   "cell_type": "code",
   "execution_count": 42,
   "id": "70e97b4c-9e99-4cb6-93af-e729080fd2f4",
   "metadata": {},
   "outputs": [
    {
     "name": "stdout",
     "output_type": "stream",
     "text": [
      "year is a century year\n"
     ]
    }
   ],
   "source": [
    "# Ans 19 - Create a Python program that checks if a given year is a century year or not using if-else.\n",
    "\n",
    "year = 2100\n",
    "\n",
    "if year%100==0:\n",
    "    print('year is a century year')\n",
    "else:\n",
    "    print('year is not a century year')"
   ]
  },
  {
   "cell_type": "code",
   "execution_count": 47,
   "id": "46197aee-92a1-48e7-9d56-5a4d491e8e20",
   "metadata": {},
   "outputs": [
    {
     "name": "stdout",
     "output_type": "stream",
     "text": [
      "the given number is not a perfect square\n"
     ]
    }
   ],
   "source": [
    "# Ans 20 -Write a Python program to determine if a given number is a perfect square using if-else\n",
    "import math\n",
    "n = 26\n",
    "\n",
    "if type(math.sqrt(n))==int:\n",
    "    print('the given number is a perfect square')\n",
    "else:\n",
    "    print('the given number is not a perfect square')"
   ]
  },
  {
   "cell_type": "code",
   "execution_count": 18,
   "id": "bf121547-a8f0-4363-86bc-502debde7cc0",
   "metadata": {},
   "outputs": [],
   "source": [
    "# Map"
   ]
  },
  {
   "cell_type": "code",
   "execution_count": 20,
   "id": "74fb18ec-a08e-42c6-8bae-8f8c6ee8a481",
   "metadata": {},
   "outputs": [
    {
     "data": {
      "text/plain": [
       "[3, 4, 5, 6, 7]"
      ]
     },
     "execution_count": 20,
     "metadata": {},
     "output_type": "execute_result"
    }
   ],
   "source": [
    "# Ans 1 - Explain the purpose of the `map()` function in Python\n",
    "#and provide an example of how it can be used to apply a\n",
    "# function to each element of an iterable.\n",
    "\n",
    "# map() function applies a specific operation to every element in a list\n",
    "\n",
    "l = [1,2,3,4,5]\n",
    "\n",
    "list(map(lambda a:a+2,l))"
   ]
  },
  {
   "cell_type": "code",
   "execution_count": 21,
   "id": "7814bdc9-1446-4dd1-9829-96226e60a070",
   "metadata": {},
   "outputs": [
    {
     "data": {
      "text/plain": [
       "[1, 4, 9, 16, 25, 36]"
      ]
     },
     "execution_count": 21,
     "metadata": {},
     "output_type": "execute_result"
    }
   ],
   "source": [
    "# Ans 2 - Write a Python program that uses the `map()` function to square each element of a list ofnumbers\n",
    "\n",
    "l = [1,2,3,4,5,6]\n",
    "\n",
    "list(map(lambda a:a*a,l))\n"
   ]
  },
  {
   "cell_type": "code",
   "execution_count": 22,
   "id": "8aae8cef-23c7-40eb-949e-8b7c99fd5436",
   "metadata": {},
   "outputs": [],
   "source": [
    "# Ans 3 - How does the `map()` function differ from a list comprehension in Python, and when would you\n",
    "# choose one over the other?\n",
    "\n",
    "# map() function is used when we need every element in a list to be operated / modified\n",
    "# list comprehension is as a short form of a for loop or checks an if else condition"
   ]
  },
  {
   "cell_type": "code",
   "execution_count": 24,
   "id": "4f78d862-bced-45b2-b1e9-a06e248dde46",
   "metadata": {},
   "outputs": [
    {
     "data": {
      "text/plain": [
       "['PWSKILLS', 'PYTHON', 'FUN']"
      ]
     },
     "execution_count": 24,
     "metadata": {},
     "output_type": "execute_result"
    }
   ],
   "source": [
    "# Ans 4 - Create a Python program that uses the `map()` function to convert a list of names to uppercase.\n",
    "\n",
    "\n",
    "s = ['pwskills','python','fun']\n",
    "\n",
    "list(map(lambda a:a.upper(),s))"
   ]
  },
  {
   "cell_type": "code",
   "execution_count": 26,
   "id": "c262d898-68e0-4f10-8cff-e31a28b5ae79",
   "metadata": {},
   "outputs": [
    {
     "data": {
      "text/plain": [
       "[8, 6, 3]"
      ]
     },
     "execution_count": 26,
     "metadata": {},
     "output_type": "execute_result"
    }
   ],
   "source": [
    "# Ans 5 - Write a Python program that uses the `map()` function to calculate the length of each word in a\n",
    "# list of strings\n",
    "\n",
    "s = ['pwskills','python','fun']\n",
    "list(map(lambda a:len(a),s))"
   ]
  },
  {
   "cell_type": "code",
   "execution_count": 27,
   "id": "397b5959-f0ae-467f-8710-fcdfcda23b36",
   "metadata": {},
   "outputs": [],
   "source": [
    "# Ans 6 - How can you use the `map()` function to apply a custom function to elements of multiple lists\n",
    "# simultaneously in Python?"
   ]
  },
  {
   "cell_type": "code",
   "execution_count": 28,
   "id": "ca02d127-c480-4089-b5f8-203a59f4c829",
   "metadata": {},
   "outputs": [
    {
     "data": {
      "text/plain": [
       "[77.0, 84.2, 95.0, 104.0, 107.60000000000001, 50.0]"
      ]
     },
     "execution_count": 28,
     "metadata": {},
     "output_type": "execute_result"
    }
   ],
   "source": [
    "# Ans 7 - Create a Python program that uses `map()` to convert a list of temperatures from Celsius to\n",
    "# Fahrenheit\n",
    "\n",
    "l = [25,29,35,40,42,10]\n",
    "\n",
    "def farh(c):\n",
    "    f = 32 + 9/5*(c)\n",
    "    return f\n",
    "list(map(farh,l))"
   ]
  },
  {
   "cell_type": "code",
   "execution_count": null,
   "id": "7df26250-9993-4506-84af-bb2aa29c9b2c",
   "metadata": {},
   "outputs": [],
   "source": [
    "# Ans 8 -Write a Python program that uses the `map()` function to round each element of a list of\n",
    "# floating-point numbers to the nearest integer"
   ]
  },
  {
   "cell_type": "code",
   "execution_count": 29,
   "id": "a01c4530-b883-43ff-89dc-850f57f36deb",
   "metadata": {},
   "outputs": [],
   "source": [
    "# Reduce"
   ]
  },
  {
   "cell_type": "code",
   "execution_count": 30,
   "id": "27dee6a1-d81c-4312-8eef-4fdecafb2b64",
   "metadata": {},
   "outputs": [
    {
     "data": {
      "text/plain": [
       "120"
      ]
     },
     "execution_count": 30,
     "metadata": {},
     "output_type": "execute_result"
    }
   ],
   "source": [
    "# Ans 1 - What is the `reduce()` function in Python, and what module should you import to use it? Provide\n",
    "# an example of its basic usage\n",
    "\n",
    "# reduce function is used to apply a function to every consecutive item of a list and return\n",
    "# a single value\n",
    "\n",
    "l = [1,2,3,4,5]  # the below func multiplies every item in the list and returns the product\n",
    "\n",
    "from functools import reduce\n",
    "\n",
    "reduce(lambda a,b:a*b,l)"
   ]
  },
  {
   "cell_type": "code",
   "execution_count": 31,
   "id": "75cc223d-8f21-40c4-a280-90d0def0db4a",
   "metadata": {},
   "outputs": [
    {
     "data": {
      "text/plain": [
       "13200"
      ]
     },
     "execution_count": 31,
     "metadata": {},
     "output_type": "execute_result"
    }
   ],
   "source": [
    "# Ans 2 - Write a Python program that uses the `reduce()` function to find the product of all elements in alist\n",
    "\n",
    "l = [10,22,3,4,5]  # the below func multiplies every item in the list and returns the product\n",
    "\n",
    "from functools import reduce\n",
    "\n",
    "reduce(lambda a,b:a*b,l)"
   ]
  },
  {
   "cell_type": "code",
   "execution_count": 32,
   "id": "aa9e0928-109d-4e38-964c-ef5fd2bc3b1b",
   "metadata": {},
   "outputs": [
    {
     "data": {
      "text/plain": [
       "45"
      ]
     },
     "execution_count": 32,
     "metadata": {},
     "output_type": "execute_result"
    }
   ],
   "source": [
    "# Ans 3 -Create a Python program that uses `reduce()` to find the maximum element in a list of numbers\n",
    "\n",
    "l = [5,45,2,4,8,9,3]\n",
    "\n",
    "from functools import reduce\n",
    "\n",
    "reduce(lambda a,b: a if a>b else b,l)"
   ]
  },
  {
   "cell_type": "code",
   "execution_count": 33,
   "id": "9ba40169-99b5-4e13-8d36-56e88aa09591",
   "metadata": {},
   "outputs": [
    {
     "data": {
      "text/plain": [
       "'ilovepwskills'"
      ]
     },
     "execution_count": 33,
     "metadata": {},
     "output_type": "execute_result"
    }
   ],
   "source": [
    "# Ans 4 -  How can you use the `reduce()` function to concatenate a list of strings into a single string?\n",
    "\n",
    "\n",
    "l = ['i','love','pwskills']\n",
    "\n",
    "from functools import reduce\n",
    "\n",
    "reduce(lambda a,b:a+b,l)"
   ]
  },
  {
   "cell_type": "code",
   "execution_count": 36,
   "id": "bd014fba-8b5e-4df1-b158-8be90cd7b7c7",
   "metadata": {},
   "outputs": [
    {
     "data": {
      "text/plain": [
       "120"
      ]
     },
     "execution_count": 36,
     "metadata": {},
     "output_type": "execute_result"
    }
   ],
   "source": [
    "# Ans 5 -0 Write a Python program that calculates the factorial of a number using the `reduce()` function\n",
    "\n",
    "n = 5\n",
    "\n",
    "from functools import reduce\n",
    "\n",
    "reduce(lambda a,b:a*b,range(1,n+1))\n"
   ]
  },
  {
   "cell_type": "code",
   "execution_count": 37,
   "id": "4d5b2436-c83c-4446-92df-4e6ce4e8e066",
   "metadata": {},
   "outputs": [],
   "source": [
    "# Ans 6 - Create a Python program that uses `reduce()` to find the GCD (Greatest Common Divisor) of a list\n",
    "# of numbers"
   ]
  },
  {
   "cell_type": "code",
   "execution_count": 38,
   "id": "cdcf796a-207c-494e-8bba-dbca92acb1bf",
   "metadata": {},
   "outputs": [
    {
     "data": {
      "text/plain": [
       "655"
      ]
     },
     "execution_count": 38,
     "metadata": {},
     "output_type": "execute_result"
    }
   ],
   "source": [
    "# Ans 7 = Write a Python program that uses the `reduce()` function to find the sum of the digits of a given\n",
    "# number\n",
    "\n",
    "l = [25,35,45,550]\n",
    "\n",
    "from functools import reduce\n",
    "\n",
    "reduce(lambda a,b:a+b,l)"
   ]
  },
  {
   "cell_type": "code",
   "execution_count": 39,
   "id": "4114edc7-d430-42db-a3a8-ae476723ae15",
   "metadata": {},
   "outputs": [],
   "source": [
    "# Filter"
   ]
  },
  {
   "cell_type": "code",
   "execution_count": 40,
   "id": "7e70009b-9000-480b-b5f1-77843c113a0d",
   "metadata": {},
   "outputs": [],
   "source": [
    "# Ans 1 -  Explain the purpose of the `filter()` function in Python and provide an example of how it can be\n",
    "# used to filter elements from an iterable\n",
    "\n",
    "# Filter is used to filter out a list of elements based on a condition"
   ]
  },
  {
   "cell_type": "code",
   "execution_count": 41,
   "id": "ad8f2ac5-0ec7-4c76-a6cd-64ccca7a694b",
   "metadata": {},
   "outputs": [
    {
     "data": {
      "text/plain": [
       "[2, 4, 6, 8]"
      ]
     },
     "execution_count": 41,
     "metadata": {},
     "output_type": "execute_result"
    }
   ],
   "source": [
    "# Ans 2 -  Write a Python program that uses the `filter()` function to select even numbers from a list of\n",
    "# integers\n",
    "\n",
    "l = [1,2,3,4,5,6,7,8]\n",
    "\n",
    "list(filter(lambda a:a%2==0,l))"
   ]
  },
  {
   "cell_type": "code",
   "execution_count": 43,
   "id": "76eb75e3-5dd3-4588-ad29-eef808206581",
   "metadata": {},
   "outputs": [
    {
     "data": {
      "text/plain": [
       "['pw', 'pwskills']"
      ]
     },
     "execution_count": 43,
     "metadata": {},
     "output_type": "execute_result"
    }
   ],
   "source": [
    "# Ans 3 - Create a Python program that uses the `filter()` function to select names that start with a specific\n",
    "# letter from a list of strings\n",
    "# filter the list by words starting with 'p'\n",
    "s = ['pw','pwskills','ineuron','hopeless']\n",
    "\n",
    "list(filter(lambda a: a[0]=='p',s))\n",
    "\n"
   ]
  },
  {
   "cell_type": "code",
   "execution_count": null,
   "id": "a00ff34b-feaa-49b8-86cb-c47c926b55f3",
   "metadata": {},
   "outputs": [],
   "source": [
    "# Ans 4 - Write a Python program that uses the `filter()` function to select prime numbers from a list ofintegers\n",
    "\n",
    "l = [1,2,3,4,5,6,7,8,9,10,11,12,13,14,15]\n",
    "\n",
    "\n",
    "\n"
   ]
  },
  {
   "cell_type": "code",
   "execution_count": 49,
   "id": "34a2eeaa-cf05-4953-920f-32aab35c025b",
   "metadata": {},
   "outputs": [
    {
     "name": "stdout",
     "output_type": "stream",
     "text": [
      "[25, 30, 45, 60, 100]\n"
     ]
    },
    {
     "data": {
      "text/plain": [
       "[25, 30, 45, 60, 100]"
      ]
     },
     "execution_count": 49,
     "metadata": {},
     "output_type": "execute_result"
    }
   ],
   "source": [
    "# Ans 5 = How can you use the `filter()` function to remove None values from a list in Python?\n",
    "\n",
    "l = [25,30,None,45,60,None,100]\n",
    "\n",
    "print([i for i in l if i!=None])\n",
    "\n",
    "list(filter(lambda a: a!=None,l))\n"
   ]
  },
  {
   "cell_type": "code",
   "execution_count": 54,
   "id": "be2664b3-40dd-46a7-b429-90f491a637c9",
   "metadata": {},
   "outputs": [
    {
     "name": "stdout",
     "output_type": "stream",
     "text": [
      "['Select', 'words', 'a', 'that', 'are', 'longer', 'than', '4']\n",
      "['Select', 'words', 'longer']\n"
     ]
    }
   ],
   "source": [
    "# Ans 6 - Create a Python program that uses `filter()` to select words longer than a certain length from a\n",
    "# list of strings\n",
    "\n",
    "# Select words a that are longer than 4\n",
    "\n",
    "s = 'Select words a that are longer than 4'\n",
    "a1 = s.split()\n",
    "\n",
    "print(a1)\n",
    "print(list(filter(lambda a:len(a)>4,a1)))"
   ]
  },
  {
   "cell_type": "code",
   "execution_count": null,
   "id": "5fd24c0e-4192-48ac-83c7-0a2ef85f0c2f",
   "metadata": {},
   "outputs": [],
   "source": [
    "# Ans 7 - Write a Python program that uses the `filter()` function to select elements greater than a\n",
    "# specified threshold from a list of values."
   ]
  },
  {
   "cell_type": "code",
   "execution_count": 50,
   "id": "4289fab1-c625-4eab-8ece-40219b7c75c3",
   "metadata": {},
   "outputs": [],
   "source": [
    "# Recursion Answers\n"
   ]
  },
  {
   "cell_type": "code",
   "execution_count": 51,
   "id": "8be8d695-723c-4e39-94ea-0502fd5c4561",
   "metadata": {},
   "outputs": [],
   "source": [
    "# Ans 1 - Explain the concept of recursion in Python. How does it differ from iteration?\n",
    "# Recursion means we are calling the function inside the same function"
   ]
  },
  {
   "cell_type": "code",
   "execution_count": 6,
   "id": "1d607e87-bba1-4db3-ac6f-c8b3276d9fdd",
   "metadata": {},
   "outputs": [
    {
     "name": "stdout",
     "output_type": "stream",
     "text": [
      "the factorial of the given number is 120\n"
     ]
    }
   ],
   "source": [
    "# Ans 2 - Write a Python program to calculate the factorial of a number using recursion\n",
    "\n",
    "f = 1\n",
    "def fact(n):\n",
    "    if n==1:\n",
    "        return 1\n",
    "    else:\n",
    "        return n * fact(n-1)\n",
    "\n",
    "print('the factorial of the given number is',fact(5))"
   ]
  },
  {
   "cell_type": "code",
   "execution_count": 15,
   "id": "4e8a199e-3545-4428-baa9-6f31a0a235c1",
   "metadata": {},
   "outputs": [
    {
     "data": {
      "text/plain": [
       "8"
      ]
     },
     "execution_count": 15,
     "metadata": {},
     "output_type": "execute_result"
    }
   ],
   "source": [
    "# Ans 3 - Create a recursive Python function to find the nth Fibonacci number.\n",
    "\n",
    "\n",
    "def fib(n):\n",
    "    if n<=1:\n",
    "        return 1\n",
    "    else:\n",
    "        return fib(n-2)+fib(n-1)\n",
    "    \n",
    "fib(5)"
   ]
  },
  {
   "cell_type": "code",
   "execution_count": 14,
   "id": "55597d8b-7c34-4ce1-a8b1-7c573bf3e1ef",
   "metadata": {},
   "outputs": [
    {
     "data": {
      "text/plain": [
       "15"
      ]
     },
     "execution_count": 14,
     "metadata": {},
     "output_type": "execute_result"
    }
   ],
   "source": [
    "# Ans 4 -Write a recursive Python function to calculate the sum of all elements in a list.\n",
    "\n",
    "l = [1,2,3,4,5]\n",
    "\n",
    "def sum_rec(l):\n",
    "    l_len = len(l)\n",
    "        \n",
    "    if l_len==1:\n",
    "        return l[0]\n",
    "    else:\n",
    "        return l[l_len-1] + sum_rec(l[:(l_len-1)])\n",
    "    \n",
    "sum_rec(l)\n",
    "        "
   ]
  },
  {
   "cell_type": "code",
   "execution_count": 15,
   "id": "09be2979-c435-452c-a455-d5e6e47177e3",
   "metadata": {},
   "outputs": [],
   "source": [
    "# Ans 5 -How can you prevent a recursive function from running indefinitely, causing a stack overflow error?"
   ]
  },
  {
   "cell_type": "code",
   "execution_count": 18,
   "id": "07ebd735-64dd-4584-a35e-014726ca5000",
   "metadata": {},
   "outputs": [],
   "source": [
    "# Ans 6 -Create a recursive Python function to find the greatest common divisor (GCD) of two numbers using the Euclidean algorithm\n",
    "\n",
    "\n",
    "    "
   ]
  },
  {
   "cell_type": "code",
   "execution_count": 21,
   "id": "ccf3aa37-bed6-43fa-ada3-fd59a22732e8",
   "metadata": {},
   "outputs": [
    {
     "data": {
      "text/plain": [
       "'sllikswp'"
      ]
     },
     "execution_count": 21,
     "metadata": {},
     "output_type": "execute_result"
    }
   ],
   "source": [
    "# Ans 7 - Write a recursive Python function to reverse a string.\n",
    "\n",
    "s = 'pwskills'\n",
    "def rev(s):\n",
    "    l = len(s)\n",
    "    \n",
    "    if l==1:\n",
    "        return s[0]\n",
    "    else:\n",
    "        return s[l-1] + rev(s[:l-1])\n",
    "rev(s)"
   ]
  },
  {
   "cell_type": "code",
   "execution_count": 26,
   "id": "987376f7-4c4f-40f1-be55-ecd0c4e61526",
   "metadata": {},
   "outputs": [
    {
     "data": {
      "text/plain": [
       "625"
      ]
     },
     "execution_count": 26,
     "metadata": {},
     "output_type": "execute_result"
    }
   ],
   "source": [
    "# Ans 8 - Create a recursive Python function to calculate the power of a number (x^n)\n",
    "\n",
    "def power(x,n):\n",
    "    if n==1:\n",
    "        return x\n",
    "    else:\n",
    "        return x * power(x,n-1)\n",
    "    \n",
    "power(5,4)\n",
    "\n"
   ]
  },
  {
   "cell_type": "code",
   "execution_count": 27,
   "id": "f1e09f34-8c3f-47ac-9cff-bcd5671f7f81",
   "metadata": {},
   "outputs": [],
   "source": [
    "# Ans 9 - Write a recursive Python function to find all permutations of a given string."
   ]
  },
  {
   "cell_type": "code",
   "execution_count": null,
   "id": "bf323f16-46ad-4060-ae96-fca992af5b5f",
   "metadata": {},
   "outputs": [],
   "source": [
    "# Ans 10 - Write a recursive Python function to check if a string is a palindrome.\n",
    "\n",
    "def pal(s):\n",
    "    l = len(s)\n",
    "    \n",
    "    if s"
   ]
  },
  {
   "cell_type": "code",
   "execution_count": 31,
   "id": "456d7605-2931-4750-acda-7f4c80ffe4a9",
   "metadata": {},
   "outputs": [],
   "source": [
    "# Ans 11"
   ]
  },
  {
   "cell_type": "code",
   "execution_count": 32,
   "id": "0f68911b-8ee5-4f84-a356-0c1269decd97",
   "metadata": {},
   "outputs": [],
   "source": [
    "# Basics of Functions:"
   ]
  },
  {
   "cell_type": "code",
   "execution_count": 33,
   "id": "59c23b6a-9c7e-4695-badf-f30734fa4efc",
   "metadata": {},
   "outputs": [],
   "source": [
    "# Ans 1 - What is a function in Python, and why is it used?\n",
    "# A fuction is used becuase of its many benfits. A function can be reused multiple number of times. It makes the program more readable\n",
    "# It makes the program look neat"
   ]
  },
  {
   "cell_type": "code",
   "execution_count": 34,
   "id": "479c943b-904a-4bd8-a88a-48a7074d53bb",
   "metadata": {},
   "outputs": [],
   "source": [
    "# Ans 2 - How do you define a function in Python? Provide an example.\n",
    "# Function is defined by using the word 'def' and then entering the function name. The func name is follwed by a pair of curly braces\n",
    "# After the braces, we should provide a colon\n",
    "\n",
    "def fun():\n",
    "    pass"
   ]
  },
  {
   "cell_type": "code",
   "execution_count": null,
   "id": "7d1ef5ee-612c-4110-9740-fc76e21f5341",
   "metadata": {},
   "outputs": [],
   "source": [
    "# Ans 3 - Explain the difference between a function definition and a function call.\n",
    "\n",
    "# Function definition is where the function is defined and its block of code is written\n",
    "# Function call is when you actuall call the function to it returns the output of the function"
   ]
  },
  {
   "cell_type": "code",
   "execution_count": 35,
   "id": "09cc2959-bfc5-4868-840e-35f18dada269",
   "metadata": {},
   "outputs": [
    {
     "data": {
      "text/plain": [
       "14"
      ]
     },
     "execution_count": 35,
     "metadata": {},
     "output_type": "execute_result"
    }
   ],
   "source": [
    "# Ans 4 - Write a Python program that defines a function to calculate the sum of two numbers and then calls the function.\n",
    "\n",
    "def add(a,b):\n",
    "    return a+b\n",
    "\n",
    "add(5,9)"
   ]
  },
  {
   "cell_type": "code",
   "execution_count": null,
   "id": "bf8e02b2-e21b-48ee-9758-aa700b8ab112",
   "metadata": {},
   "outputs": [],
   "source": [
    "# Ans 5 - What is a function signature, and what information does it typically include?"
   ]
  },
  {
   "cell_type": "code",
   "execution_count": 37,
   "id": "cbd7eaad-ffad-4184-aa7a-9719ebf4992f",
   "metadata": {},
   "outputs": [
    {
     "data": {
      "text/plain": [
       "24"
      ]
     },
     "execution_count": 37,
     "metadata": {},
     "output_type": "execute_result"
    }
   ],
   "source": [
    "# Ans 6 - Create a Python function that takes two arguments and returns their product.\n",
    "\n",
    "def prod(a,b):\n",
    "    return a*b\n",
    "\n",
    "prod(4,6)"
   ]
  },
  {
   "cell_type": "code",
   "execution_count": 38,
   "id": "5b585fd8-ed36-403a-8c5e-6f13f0ff87f2",
   "metadata": {},
   "outputs": [],
   "source": [
    "# Function Parameters and Arguments:"
   ]
  },
  {
   "cell_type": "code",
   "execution_count": null,
   "id": "9cc833b7-23cd-4996-9db0-de37e74312f6",
   "metadata": {},
   "outputs": [],
   "source": [
    "# Ans 1 - Explain the concepts of formal parameters and actual arguments in Python functions."
   ]
  },
  {
   "cell_type": "code",
   "execution_count": 44,
   "id": "db3ce795-8bac-45ad-8660-5694a7bb1aa2",
   "metadata": {},
   "outputs": [
    {
     "name": "stdout",
     "output_type": "stream",
     "text": [
      "30\n",
      "12\n"
     ]
    }
   ],
   "source": [
    "# Ans 2 - Write a Python program that defines a function with default argument values.\n",
    "\n",
    "def default_sum(a=10,b=20):\n",
    "    return a+b\n",
    "\n",
    "print(default_sum())  # sum using default arguments\n",
    "print(default_sum(5,7)) # Sum using user defined arguments"
   ]
  },
  {
   "cell_type": "code",
   "execution_count": 11,
   "id": "70db4dc9-44f2-402a-a076-7e3c9373b6e4",
   "metadata": {},
   "outputs": [
    {
     "ename": "TypeError",
     "evalue": "unsupported operand type(s) for +: 'int' and 'tuple'",
     "output_type": "error",
     "traceback": [
      "\u001b[0;31m---------------------------------------------------------------------------\u001b[0m",
      "\u001b[0;31mTypeError\u001b[0m                                 Traceback (most recent call last)",
      "Cell \u001b[0;32mIn[11], line 11\u001b[0m\n\u001b[1;32m      8\u001b[0m         s \u001b[38;5;241m=\u001b[39m s \u001b[38;5;241m+\u001b[39ma\n\u001b[1;32m      9\u001b[0m     \u001b[38;5;28;01mreturn\u001b[39;00m s\n\u001b[0;32m---> 11\u001b[0m \u001b[38;5;28mprint\u001b[39m(\u001b[43madd_num\u001b[49m\u001b[43m(\u001b[49m\u001b[38;5;241;43m5\u001b[39;49m\u001b[43m,\u001b[49m\u001b[38;5;241;43m6\u001b[39;49m\u001b[43m,\u001b[49m\u001b[38;5;241;43m7\u001b[39;49m\u001b[43m,\u001b[49m\u001b[38;5;241;43m8\u001b[39;49m\u001b[43m)\u001b[49m)\n",
      "Cell \u001b[0;32mIn[11], line 8\u001b[0m, in \u001b[0;36madd_num\u001b[0;34m(*a)\u001b[0m\n\u001b[1;32m      5\u001b[0m s \u001b[38;5;241m=\u001b[39m \u001b[38;5;241m0\u001b[39m\n\u001b[1;32m      7\u001b[0m \u001b[38;5;28;01mfor\u001b[39;00m i \u001b[38;5;129;01min\u001b[39;00m a:\n\u001b[0;32m----> 8\u001b[0m     s \u001b[38;5;241m=\u001b[39m \u001b[43ms\u001b[49m\u001b[43m \u001b[49m\u001b[38;5;241;43m+\u001b[39;49m\u001b[43ma\u001b[49m\n\u001b[1;32m      9\u001b[0m \u001b[38;5;28;01mreturn\u001b[39;00m s\n",
      "\u001b[0;31mTypeError\u001b[0m: unsupported operand type(s) for +: 'int' and 'tuple'"
     ]
    }
   ],
   "source": [
    "# Ans 3 - How do you use keyword arguments in Python function calls? Provide an example.\n",
    "\n",
    "\n",
    "def add_num(*a):\n",
    "    s = 0\n",
    "    \n",
    "    for i in a:\n",
    "        s = s +a\n",
    "    return s\n",
    "\n",
    "print(add_num(5,6,7,8))\n",
    "\n"
   ]
  },
  {
   "cell_type": "code",
   "execution_count": 6,
   "id": "16fe6694-1451-4d08-9447-4411bfbf67fd",
   "metadata": {},
   "outputs": [
    {
     "ename": "TypeError",
     "evalue": "unsupported operand type(s) for +: 'int' and 'tuple'",
     "output_type": "error",
     "traceback": [
      "\u001b[0;31m---------------------------------------------------------------------------\u001b[0m",
      "\u001b[0;31mTypeError\u001b[0m                                 Traceback (most recent call last)",
      "Cell \u001b[0;32mIn[6], line 8\u001b[0m\n\u001b[1;32m      5\u001b[0m     b \u001b[38;5;241m=\u001b[39m b \u001b[38;5;241m+\u001b[39m a\n\u001b[1;32m      6\u001b[0m     \u001b[38;5;28;01mreturn\u001b[39;00m b\n\u001b[0;32m----> 8\u001b[0m \u001b[43msum_num\u001b[49m\u001b[43m(\u001b[49m\u001b[38;5;241;43m5\u001b[39;49m\u001b[43m,\u001b[49m\u001b[38;5;241;43m6\u001b[39;49m\u001b[43m,\u001b[49m\u001b[38;5;241;43m7\u001b[39;49m\u001b[43m,\u001b[49m\u001b[38;5;241;43m8\u001b[39;49m\u001b[43m,\u001b[49m\u001b[38;5;241;43m9\u001b[39;49m\u001b[43m)\u001b[49m\n",
      "Cell \u001b[0;32mIn[6], line 5\u001b[0m, in \u001b[0;36msum_num\u001b[0;34m(*a)\u001b[0m\n\u001b[1;32m      3\u001b[0m \u001b[38;5;28;01mdef\u001b[39;00m \u001b[38;5;21msum_num\u001b[39m(\u001b[38;5;241m*\u001b[39ma):\n\u001b[1;32m      4\u001b[0m     b \u001b[38;5;241m=\u001b[39m \u001b[38;5;241m0\u001b[39m\n\u001b[0;32m----> 5\u001b[0m     b \u001b[38;5;241m=\u001b[39m \u001b[43mb\u001b[49m\u001b[43m \u001b[49m\u001b[38;5;241;43m+\u001b[39;49m\u001b[43m \u001b[49m\u001b[43ma\u001b[49m\n\u001b[1;32m      6\u001b[0m     \u001b[38;5;28;01mreturn\u001b[39;00m b\n",
      "\u001b[0;31mTypeError\u001b[0m: unsupported operand type(s) for +: 'int' and 'tuple'"
     ]
    }
   ],
   "source": [
    "# Ans 4 - Create a Python function that accepts a variable number of arguments and calculates their sum\n",
    "\n",
    "def sum_num(*a):\n",
    "    b = 0\n",
    "    b = b + a\n",
    "    return b\n",
    "\n",
    "sum_num(5,6,7,8,9)\n",
    "    "
   ]
  },
  {
   "cell_type": "code",
   "execution_count": 55,
   "id": "b4c6ff22-1f25-45a0-8dc9-99ba7ddfa35b",
   "metadata": {},
   "outputs": [],
   "source": [
    "# Ans 5 - What is the purpose of the `*args` and `**kwargs` syntax in function parameter lists?"
   ]
  },
  {
   "cell_type": "code",
   "execution_count": 58,
   "id": "ba4d7947-f3e4-4250-9927-0e6fbec0af49",
   "metadata": {},
   "outputs": [],
   "source": [
    "# Return Values and Scoping:"
   ]
  },
  {
   "cell_type": "code",
   "execution_count": 59,
   "id": "68942cc6-cfed-4f6e-94b6-f441dbf449ca",
   "metadata": {},
   "outputs": [
    {
     "data": {
      "text/plain": [
       "9"
      ]
     },
     "execution_count": 59,
     "metadata": {},
     "output_type": "execute_result"
    }
   ],
   "source": [
    "# Ans 1 - Describe the role of the `return` statement in Python functions and provide examples.\n",
    "\n",
    "# return command returns an output from the function, where as print command prints the output.\n",
    "\n",
    "def add(a,b):\n",
    "    return a+b\n",
    "\n",
    "add(4,5)"
   ]
  },
  {
   "cell_type": "code",
   "execution_count": 73,
   "id": "bc534135-3255-4454-9b6c-387b109d1aed",
   "metadata": {},
   "outputs": [
    {
     "ename": "NameError",
     "evalue": "name 'b' is not defined",
     "output_type": "error",
     "traceback": [
      "\u001b[0;31m---------------------------------------------------------------------------\u001b[0m",
      "\u001b[0;31mNameError\u001b[0m                                 Traceback (most recent call last)",
      "Cell \u001b[0;32mIn[73], line 16\u001b[0m\n\u001b[1;32m     14\u001b[0m     b \u001b[38;5;241m=\u001b[39m \u001b[38;5;241m4\u001b[39m\n\u001b[1;32m     15\u001b[0m     \u001b[38;5;28;01mreturn\u001b[39;00m m\n\u001b[0;32m---> 16\u001b[0m mul_by_4 \u001b[38;5;241m*\u001b[39m \u001b[43mb\u001b[49m  \u001b[38;5;66;03m# notice that the function throws an error because b is a local variable and is defined inside the func block\u001b[39;00m\n",
      "\u001b[0;31mNameError\u001b[0m: name 'b' is not defined"
     ]
    }
   ],
   "source": [
    "# Ans 2 - Explain the concept of variable scope in Python, including local and global variables.\n",
    "\n",
    "# a variable defined outside a function is called a global variable. THat variable can be used inside the fuction as well\n",
    "# however a variable edfined inside the function block is not recognized if used outside the function block\n",
    "\n",
    "def mul_by_3(x):  # Use of Global Variables - This function multiples a number by 3\n",
    "    y = x*a     # notice here the variable a = 3 is defined outside the function block. The function still recognises the value of a as 3 and multiplies it to x\n",
    "    return y\n",
    "a = 3\n",
    "mul_by_3(5)\n",
    "\n",
    "\n",
    "def mul_by_4(m):\n",
    "    b = 4\n",
    "    return m\n",
    "mul_by_4 * b  # notice that the function throws an error because b is a local variable and is defined inside the func block\n",
    "\n"
   ]
  },
  {
   "cell_type": "code",
   "execution_count": 74,
   "id": "99f63606-839f-475d-bba3-d664441e3ed7",
   "metadata": {},
   "outputs": [
    {
     "ename": "NameError",
     "evalue": "name 'b' is not defined",
     "output_type": "error",
     "traceback": [
      "\u001b[0;31m---------------------------------------------------------------------------\u001b[0m",
      "\u001b[0;31mNameError\u001b[0m                                 Traceback (most recent call last)",
      "Cell \u001b[0;32mIn[74], line 16\u001b[0m\n\u001b[1;32m     14\u001b[0m     b \u001b[38;5;241m=\u001b[39m \u001b[38;5;241m4\u001b[39m\n\u001b[1;32m     15\u001b[0m     \u001b[38;5;28;01mreturn\u001b[39;00m m\n\u001b[0;32m---> 16\u001b[0m mul_by_4 \u001b[38;5;241m*\u001b[39m \u001b[43mb\u001b[49m  \u001b[38;5;66;03m# notice that the function throws an error because b is a local variable and is defined inside the func block\u001b[39;00m\n",
      "\u001b[0;31mNameError\u001b[0m: name 'b' is not defined"
     ]
    }
   ],
   "source": [
    "# Ans 3 - Write a Python program that demonstrates the use of global variables within functions.\n",
    "\n",
    "# a variable defined outside a function is called a global variable. THat variable can be used inside the fuction as well\n",
    "# however a variable edfined inside the function block is not recognized if used outside the function block\n",
    "\n",
    "def mul_by_3(x):  # Use of Global Variables - This function multiples a number by 3\n",
    "    y = x*a     # notice here the variable a = 3 is defined outside the function block. The function still recognises the value of a as 3 and multiplies it to x\n",
    "    return y\n",
    "a = 3\n",
    "mul_by_3(5)\n",
    "\n",
    "\n",
    "def mul_by_4(m):\n",
    "    b = 4\n",
    "    return m\n",
    "mul_by_4 * b  # notice that the function throws an error because b is a local variable and is defined inside the func block"
   ]
  },
  {
   "cell_type": "code",
   "execution_count": 87,
   "id": "64432924-f04a-48fc-aead-061d509ebc06",
   "metadata": {},
   "outputs": [
    {
     "data": {
      "text/plain": [
       "120"
      ]
     },
     "execution_count": 87,
     "metadata": {},
     "output_type": "execute_result"
    }
   ],
   "source": [
    "# Ans 4 - Create a Python function that calculates the factorial of a number and returns it.\n",
    "\n",
    "def fact(n):\n",
    "    f = 1\n",
    "    \n",
    "    for i in range(1,n+1):\n",
    "        \n",
    "        f = f * i\n",
    "        \n",
    "    return f\n",
    "    \n",
    "fact(5)\n"
   ]
  },
  {
   "cell_type": "code",
   "execution_count": 88,
   "id": "381d83ce-b42f-4fa9-8aba-e3a2bd25b449",
   "metadata": {},
   "outputs": [
    {
     "data": {
      "text/plain": [
       "15"
      ]
     },
     "execution_count": 88,
     "metadata": {},
     "output_type": "execute_result"
    }
   ],
   "source": [
    "# Ans 5 -How can you access variables defined outside a function from within the function?\n",
    "\n",
    "# By using global variables. Please observe the use of global variable a inside the function\n",
    "\n",
    "def mul_by_3(x):  # Use of Global Variables - This function multiples a number by 3\n",
    "    y = x*a     # notice here the variable a = 3 is defined outside the function block. The function still recognises the value of a as 3 and multiplies it to x\n",
    "    return y\n",
    "a = 3\n",
    "mul_by_3(5)\n"
   ]
  },
  {
   "cell_type": "code",
   "execution_count": 89,
   "id": "8a61ecc0-aa93-41cb-a369-26ffac850d6a",
   "metadata": {},
   "outputs": [],
   "source": [
    "# Lambda Functions and Higher-Order Functions:"
   ]
  },
  {
   "cell_type": "code",
   "execution_count": null,
   "id": "ecebd343-427e-4902-8721-4acbfc1d2cd4",
   "metadata": {},
   "outputs": [],
   "source": [
    "# Ans 1 - What are lambda functions in Python, and when are they typically used?\n",
    "\n",
    "# Lambda functions are funcitons without a name. THey are also called anonymous functions\n",
    "# They are used to make the code shorter and simple"
   ]
  },
  {
   "cell_type": "code",
   "execution_count": 17,
   "id": "fb395087-9578-4b94-b58e-3cca1f644179",
   "metadata": {},
   "outputs": [
    {
     "data": {
      "text/plain": [
       "9"
      ]
     },
     "execution_count": 17,
     "metadata": {},
     "output_type": "execute_result"
    }
   ],
   "source": [
    "# Ans 2 - Write a Python program that uses lambda functions to sort\n",
    "# a list of tuples based on the second element\n",
    "\n",
    "l = [1,5,2,4,3,2,9,2]\n",
    "l1 = []\n",
    "[l1.append(i) for i in l if i]"
   ]
  },
  {
   "cell_type": "code",
   "execution_count": 3,
   "id": "c5377f76-7f98-4c14-b320-74a42b57d983",
   "metadata": {},
   "outputs": [
    {
     "data": {
      "text/plain": [
       "[4, 6, 8, 10, 12]"
      ]
     },
     "execution_count": 3,
     "metadata": {},
     "output_type": "execute_result"
    }
   ],
   "source": [
    "# Ans 4: Create a Python function that takes a list of numbers and a function as arguments\n",
    "#  applying the function to each element in the list.\n",
    "\n",
    "def power(a):\n",
    "    return a*2\n",
    "\n",
    "l = [2,3,4,5,6]\n",
    "\n",
    "list(map(power,l))"
   ]
  },
  {
   "cell_type": "code",
   "execution_count": 1,
   "id": "f4104653-8919-442e-b177-6c55135708fa",
   "metadata": {},
   "outputs": [],
   "source": [
    "# Built in Functions"
   ]
  },
  {
   "cell_type": "code",
   "execution_count": 2,
   "id": "2545ec04-fdb5-4c7d-a4b4-d5ee45ead8e8",
   "metadata": {},
   "outputs": [],
   "source": [
    "# Ans 1 - Describe the role of built-in functions like `len()`, `max()`, and `min()` in Python\n",
    "\n",
    "# the built in functions easily outputs many of the commonly needed data attributes like Len, max, min of a list"
   ]
  },
  {
   "cell_type": "code",
   "execution_count": 5,
   "id": "ac76d25d-946a-4fd0-9975-f11c36d9a9fd",
   "metadata": {},
   "outputs": [
    {
     "data": {
      "text/plain": [
       "[3, 4, 5, 6, 7, 8]"
      ]
     },
     "execution_count": 5,
     "metadata": {},
     "output_type": "execute_result"
    }
   ],
   "source": [
    "# Ans 2 - Write a Python program that uses the `map()` \n",
    "# function to apply a function to each element of a list\n",
    "\n",
    "l = [1,2,3,4,5,6]\n",
    "\n",
    "list(map(lambda a:a+2,l))"
   ]
  },
  {
   "cell_type": "code",
   "execution_count": 7,
   "id": "82dbab01-0bc6-4f7c-b05c-c2911834e701",
   "metadata": {},
   "outputs": [
    {
     "data": {
      "text/plain": [
       "[2, 4, 6, 8]"
      ]
     },
     "execution_count": 7,
     "metadata": {},
     "output_type": "execute_result"
    }
   ],
   "source": [
    "# Ans 3 - How does the `filter()` function work in Python, and when would you use it?\n",
    "\n",
    "# Filter function is used to filter out list of elements from a list based on a condition\n",
    "\n",
    "l = [1,2,3,4,5,6,7,8,9]\n",
    "\n",
    "list(filter(lambda a:a%2==0,l))\n"
   ]
  },
  {
   "cell_type": "code",
   "execution_count": 8,
   "id": "24756846-31ec-4038-9304-3b4691494dc9",
   "metadata": {},
   "outputs": [
    {
     "data": {
      "text/plain": [
       "362880"
      ]
     },
     "execution_count": 8,
     "metadata": {},
     "output_type": "execute_result"
    }
   ],
   "source": [
    "# Ans 4 - Create a Python program that uses the `reduce()` function to find the product of all elements in\n",
    "# a list\n",
    "\n",
    "l = [1,2,3,4,5,6,7,8,9]\n",
    "\n",
    "from functools import reduce\n",
    "\n",
    "reduce(lambda a,b: a*b,l)"
   ]
  },
  {
   "cell_type": "code",
   "execution_count": 9,
   "id": "31777a47-b2c6-4217-a7b5-bf8a2a76a1e2",
   "metadata": {},
   "outputs": [],
   "source": [
    "# Function Documentation and Best Practices:"
   ]
  },
  {
   "cell_type": "code",
   "execution_count": 11,
   "id": "f48492ef-071a-49aa-9e08-dfdcaf9cbede",
   "metadata": {},
   "outputs": [
    {
     "data": {
      "text/plain": [
       "9"
      ]
     },
     "execution_count": 11,
     "metadata": {},
     "output_type": "execute_result"
    }
   ],
   "source": [
    "# Ans 1 - Explain the purpose of docstrings in Python functions and how to write them\n",
    "\n",
    "\n",
    "# Doc strings are used to explain in detail about a function or a set of code.\n",
    "# Doc strings open and close with triple quotes\n",
    "\n",
    "def add(a,b):\n",
    "    '''\n",
    "    This Fuction returns the sum of 2 numbers\n",
    "    '''\n",
    "    \n",
    "    return a+b\n",
    "\n",
    "add(4,5)"
   ]
  },
  {
   "cell_type": "code",
   "execution_count": 12,
   "id": "306c84c0-27de-407e-b65d-7a0cd563a3ff",
   "metadata": {},
   "outputs": [],
   "source": [
    "# Ans 2 - Describe the best practices for naming functions\n",
    "# variables \n",
    "\n",
    "# name of a fucntions should not begin with a capital letter, the func name should not have space \n",
    "\n",
    "# the variables in python should not start with a capital letter, should not have space in them"
   ]
  },
  {
   "cell_type": "code",
   "execution_count": 4,
   "id": "984fce31-8b41-40b1-965c-db4119c8a2c9",
   "metadata": {},
   "outputs": [],
   "source": [
    "# Unanswered Questions\n",
    "# if else: # Ans 3 - How can you use nested if-else statements in Python, and provide an example?\n",
    "# if else: Ans 15 How do you use the \"assert\" statement in Python to add debugging checks within if-else blocks\n",
    "# if else: # Ans 18 - Write a Python program to determine the roots of a quadratic equation using if-else.\n",
    "# if else: Ans 21 Explain the purpose of the \"continue\" and \"break\" statements within if-else loops.\n",
    "# if else: Ans 22 Create a Python program that calculates the BMI (Body Mass Index) of a person based on their weight and height using\n",
    "\n",
    "# Recursion\n",
    "#- Ans 5 - How can you prevent a recursive function from running indefinitely, causing a stack overflow error?\n",
    "# Ans 6 -Create a recursive Python function to find the greatest common divisor (GCD) of two numbers using the Euclidean algorithm\n",
    "# ANs 9 - Write a recursive Python function to find all permutations of a given string.\n",
    "# Ans 10 -Write a recursive Python function to check if a string is a palindrome.\n",
    "# Ans 11 - Create a recursive Python function to generate all possible combinations of a list of elements.\n",
    "\n",
    "\n",
    "# Function Paramaters and Arguments:\n",
    "# Ans 1 - Explain the concepts of formal parameters and actual arguments in Python functions.\n",
    "# Ans 3 - How do you use keyword arguments in Python function calls? Provide an example.\n",
    "# Ans 4 -Create a Python function that accepts a variable number of arguments and calculates their sum.\n",
    "# Ans 5 - What is the purpose of the `*args` and `**kwargs` syntax in function parameter lists?\n",
    "\n",
    "# Return Values and Scoping:\n",
    "\n",
    "# Lambda Functions and Higher-Order Functions:\n",
    "# Ans 2 - Write a Python program that uses lambda functions to sort a list of tuples based on the second element.\n",
    "# Ans 3 -  Explain the concept of higher-order functions in Python, and provide an example.\n"
   ]
  },
  {
   "cell_type": "code",
   "execution_count": null,
   "id": "ce7d8417-a740-4587-b6c0-ae33b5ebeda0",
   "metadata": {},
   "outputs": [],
   "source": []
  }
 ],
 "metadata": {
  "kernelspec": {
   "display_name": "Python 3 (ipykernel)",
   "language": "python",
   "name": "python3"
  },
  "language_info": {
   "codemirror_mode": {
    "name": "ipython",
    "version": 3
   },
   "file_extension": ".py",
   "mimetype": "text/x-python",
   "name": "python",
   "nbconvert_exporter": "python",
   "pygments_lexer": "ipython3",
   "version": "3.10.8"
  }
 },
 "nbformat": 4,
 "nbformat_minor": 5
}
