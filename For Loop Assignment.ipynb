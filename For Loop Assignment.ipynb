{
 "cells": [
  {
   "cell_type": "code",
   "execution_count": 3,
   "id": "db105fe3-db71-43db-9336-ac45f111b66b",
   "metadata": {},
   "outputs": [
    {
     "name": "stdout",
     "output_type": "stream",
     "text": [
      "1\n",
      "2\n",
      "3\n",
      "4\n",
      "5\n",
      "6\n",
      "7\n",
      "8\n",
      "9\n",
      "10\n"
     ]
    }
   ],
   "source": [
    "# Answer - 1 - Write a Python program to print the numbers from 1 to 10\n",
    "#using a `for` loop.\n",
    "\n",
    "for i in range(1,11):\n",
    "    print(i)\n",
    "\n",
    "\n",
    "\n"
   ]
  },
  {
   "cell_type": "code",
   "execution_count": 7,
   "id": "c41cc0c2-0c75-43df-a20c-651c58f7a45d",
   "metadata": {},
   "outputs": [
    {
     "name": "stdout",
     "output_type": "stream",
     "text": [
      "the sum of numbers in the list is:  15\n"
     ]
    }
   ],
   "source": [
    "# Answer 2 - Create a program that calculates the sum of all numbers\n",
    "#in a list using a `for` loop.\n",
    "\n",
    "list1 = [1,2,3,4,5]\n",
    "sum = 0\n",
    "\n",
    "for i in list1:\n",
    "    sum = sum + i\n",
    "print('the sum of numbers in the list is: ',sum)"
   ]
  },
  {
   "cell_type": "code",
   "execution_count": 17,
   "id": "30cc8410-1b18-4ff7-aff8-85c38979083c",
   "metadata": {},
   "outputs": [
    {
     "name": "stdout",
     "output_type": "stream",
     "text": [
      "nrael ot ecalp taerg a si slliks WP ,olleH"
     ]
    }
   ],
   "source": [
    "# Answer 3 - Write a program to print the characters of\n",
    "# a string in reverse order using a `for` loop.\n",
    "\n",
    "string = 'Hello, PW skills is a great place to learn'\n",
    "rev_string = string[::-1]\n",
    "\n",
    "for i in rev_string:\n",
    "    print(i,end='')"
   ]
  },
  {
   "cell_type": "code",
   "execution_count": 21,
   "id": "3db9e194-e6f7-410c-8a4f-ea700918d8fb",
   "metadata": {},
   "outputs": [
    {
     "name": "stdout",
     "output_type": "stream",
     "text": [
      "The factorial of the given number is:  120\n"
     ]
    }
   ],
   "source": [
    "# Answer 4 - Develop a program that finds the factorial\n",
    "# of a given number using a `for` loop.\n",
    "\n",
    "number = 5\n",
    "factorial = 1\n",
    "\n",
    "for i in range(1,number+1):\n",
    "    \n",
    "    factorial = factorial * i\n",
    "    \n",
    "print('The factorial of the given number is: ',factorial)\n",
    "    "
   ]
  },
  {
   "cell_type": "code",
   "execution_count": 26,
   "id": "483f9cfb-42cf-43f4-8293-cbdd3b486dff",
   "metadata": {},
   "outputs": [
    {
     "name": "stdout",
     "output_type": "stream",
     "text": [
      "9 x 1 = 9\n",
      "9 x 2 = 18\n",
      "9 x 3 = 27\n",
      "9 x 4 = 36\n",
      "9 x 5 = 45\n",
      "9 x 6 = 54\n",
      "9 x 7 = 63\n",
      "9 x 8 = 72\n",
      "9 x 9 = 81\n"
     ]
    }
   ],
   "source": [
    "# Answer 5 \n",
    "# Create a program to print the multiplication\n",
    "# table of a given number using a `for` loop.\n",
    "\n",
    "number = 9\n",
    "\n",
    "for i in range(1, number + 1):\n",
    "    \n",
    "    print(number ,'x',i,'=',i*number)\n",
    "    "
   ]
  },
  {
   "cell_type": "code",
   "execution_count": 28,
   "id": "668c7e7a-5357-4e92-a6ce-c3ce05ba64d6",
   "metadata": {},
   "outputs": [
    {
     "name": "stdout",
     "output_type": "stream",
     "text": [
      "The sum of even numbers in the given list is:  30\n",
      "The sum of odd numbers in the given list is:  25\n"
     ]
    }
   ],
   "source": [
    "# Answer 6\n",
    "# Write a program that counts the number of even and odd numbers\n",
    "# in a list using a `for` loop.\n",
    "\n",
    "list1 = [1,2,3,4,5,6,7,8,9,10]\n",
    "list1_even_sum = 0\n",
    "list1_odd_sum = 0\n",
    "\n",
    "for i in list1:\n",
    "    if i%2==0:\n",
    "        list1_even_sum = list1_even_sum + i\n",
    "print('The sum of even numbers in the given list is: ', list1_even_sum)\n",
    "\n",
    "for i in list1:\n",
    "    if i%2==1:\n",
    "        list1_odd_sum = list1_odd_sum + i\n",
    "print('The sum of odd numbers in the given list is: ', list1_odd_sum)"
   ]
  },
  {
   "cell_type": "code",
   "execution_count": 29,
   "id": "de1b3c4c-d7ca-4f2a-9a4a-590b1d45f5d4",
   "metadata": {},
   "outputs": [
    {
     "name": "stdout",
     "output_type": "stream",
     "text": [
      "1\n",
      "4\n",
      "9\n",
      "16\n",
      "25\n"
     ]
    }
   ],
   "source": [
    "# Answer 7 \n",
    "# Develop a program that prints the squares\n",
    "# of numbers from 1 to 5 using a `for` loop.\n",
    "\n",
    "num = 5\n",
    "\n",
    "for i in range (1,num+1):\n",
    "    print(i * i)"
   ]
  },
  {
   "cell_type": "code",
   "execution_count": 33,
   "id": "42f357f2-940d-40ff-9961-99e2ebdc83bf",
   "metadata": {},
   "outputs": [
    {
     "name": "stdout",
     "output_type": "stream",
     "text": [
      "The length of the string is:  50\n"
     ]
    }
   ],
   "source": [
    "# Answer 8\n",
    "# Create a program to find the length\n",
    "# of a string without using the `len()` function.\n",
    "\n",
    "string = 'I will get a job after completing PWSkills program'\n",
    "count = 0\n",
    "\n",
    "for i in string:\n",
    "    count = count + 1\n",
    "    \n",
    "print('The length of the string is: ',count)\n",
    "    "
   ]
  },
  {
   "cell_type": "code",
   "execution_count": 36,
   "id": "f46fb840-b4a2-42d3-b0ad-00a7d201d90f",
   "metadata": {},
   "outputs": [
    {
     "name": "stdout",
     "output_type": "stream",
     "text": [
      "The average of numbers in the list is:  3.0\n"
     ]
    }
   ],
   "source": [
    "# Answer 9 \n",
    "# Write a program that calculates the average\n",
    "# of a list of numbers using a `for` loop.\n",
    "\n",
    "list1 = [1,2,3,4,5]\n",
    "\n",
    "sum1 = 0\n",
    "length = len(list1)\n",
    "\n",
    "for i in list1:\n",
    "    sum1 = sum1 + i\n",
    "    \n",
    "print('The average of numbers in the list is: ', sum1/length)"
   ]
  },
  {
   "cell_type": "code",
   "execution_count": 48,
   "id": "0ecee9e2-1c7d-4236-8910-08cae9a151a1",
   "metadata": {},
   "outputs": [
    {
     "name": "stdout",
     "output_type": "stream",
     "text": [
      "[0, 1, 1, 2, 3, 5, 8, 13]\n"
     ]
    }
   ],
   "source": [
    "# Answer 10\n",
    "# Develop a program that prints the\n",
    "# first `n` Fibonacci numbers using a `for` loop.\n",
    "\n",
    "number = 8\n",
    "\n",
    "a = 0\n",
    "b = 1\n",
    "fibonacci = [a,b]\n",
    "for i in range(1,number-1):\n",
    "    \n",
    "    sum = a + b\n",
    "    a = b\n",
    "    b = sum\n",
    "    fibonacci.append(sum)\n",
    "print(fibonacci)\n",
    "        "
   ]
  },
  {
   "cell_type": "code",
   "execution_count": 1,
   "id": "5a3f194f-5a90-499a-ac4a-254dd8ea0ec3",
   "metadata": {},
   "outputs": [],
   "source": [
    "# Intermediate Level"
   ]
  },
  {
   "cell_type": "code",
   "execution_count": 52,
   "id": "6227492e-ff98-4725-86ff-27a5c6f2e314",
   "metadata": {},
   "outputs": [
    {
     "name": "stdout",
     "output_type": "stream",
     "text": [
      "the duplicate items is:  a\n",
      "the duplicate items is:  b\n"
     ]
    }
   ],
   "source": [
    "# Answer 11:\n",
    "# Write a program to check if a given\n",
    "# list contains any duplicates using a `for` loop.\n",
    "\n",
    "list1 = ['a','b','a','c','d','b']\n",
    "list1_set = set(list1)\n",
    "\n",
    "for i in list1_set:\n",
    "    if list1.count(i)>1:\n",
    "        print('the duplicate items is: ',i)\n",
    "        "
   ]
  },
  {
   "cell_type": "code",
   "execution_count": 47,
   "id": "1f0343f4-0db7-482c-b9e3-492c847dcff8",
   "metadata": {},
   "outputs": [
    {
     "name": "stdout",
     "output_type": "stream",
     "text": [
      "The prime numbers below the given numbers are:  [2, 3, 5, 7, 11, 13, 17, 19, 23, 29, 31, 37, 41, 43, 47]\n"
     ]
    }
   ],
   "source": [
    "# Answer 12 \n",
    "# Create a program that prints the prime\n",
    "# numbers in a given range using a `for` loop.\n",
    "\n",
    "number = 50\n",
    "number_list = list(range(1,number+1))\n",
    "#print(number_list)\n",
    "prime=[]\n",
    "\n",
    "for i in number_list:\n",
    "    temp_list = list(range(1,i+1))\n",
    "    count = []\n",
    "    #print(temp_list)\n",
    "    for j in temp_list:\n",
    "        var = i/j\n",
    "        #print(var)\n",
    "        \n",
    "        if (var.is_integer())==True:\n",
    "            count.append(j)\n",
    "    #print(i,count)\n",
    "                        \n",
    "    if len(count)==2:\n",
    "        prime.append(i)\n",
    "print('The prime numbers below the given numbers are: ',prime)\n",
    "    \n",
    "\n",
    "    "
   ]
  },
  {
   "cell_type": "code",
   "execution_count": 3,
   "id": "8946ddff-03bf-4a9e-9b1a-e22159d44a27",
   "metadata": {},
   "outputs": [
    {
     "name": "stdout",
     "output_type": "stream",
     "text": [
      "The vovwel: a appears 2 times in your string\n",
      "The vovwel: i appears 2 times in your string\n",
      "The vovwel: o appears 3 times in your string\n"
     ]
    }
   ],
   "source": [
    "# Answer 13\n",
    "# Develop a program that counts \n",
    "# the number of vowels in a string using a `for` loop.\n",
    "\n",
    "string = 'PW Skills is a good company'\n",
    "string_lower = string.lower()\n",
    "vowels = ['a','e','i','o','u']\n",
    "\n",
    "for i in vowels:\n",
    "        \n",
    "    if (i in string_lower) == True:\n",
    "        print('The vovwel:',i,'appears',string_lower.count(i),'times in your string')\n",
    "    "
   ]
  },
  {
   "cell_type": "code",
   "execution_count": 102,
   "id": "5ac76db2-d11e-464c-9e53-340c4c7cba97",
   "metadata": {},
   "outputs": [],
   "source": [
    "# Answer 14 - CHeck\n",
    "# Write a program to find the maximum \n",
    "# element in a 2D list using a nested `for` loop."
   ]
  },
  {
   "cell_type": "code",
   "execution_count": 105,
   "id": "4817d06a-5074-4561-9d5b-9f7a08d85f44",
   "metadata": {},
   "outputs": [
    {
     "name": "stdout",
     "output_type": "stream",
     "text": [
      "['a', 'b', 'c', 'a']\n"
     ]
    }
   ],
   "source": [
    "# Answer 15\n",
    "# Create a program that removes all occurrences\n",
    "# of a specific element from a list using a `for` loop.\n",
    "\n",
    "list1 = ['a','b','c','d','a','d']\n",
    "element = 'd'\n",
    "\n",
    "for i in list1:\n",
    "    if element in list1:\n",
    "        list1.remove(element)\n",
    "        \n",
    "print(list1)\n",
    "    "
   ]
  },
  {
   "cell_type": "code",
   "execution_count": 54,
   "id": "98d27bf9-a9e5-49b3-a15a-a7b4d4405b06",
   "metadata": {},
   "outputs": [
    {
     "name": "stdout",
     "output_type": "stream",
     "text": [
      "Multiplication table 1\n",
      "1 x 1 = 1\n",
      "1 x 2 = 2\n",
      "1 x 3 = 3\n",
      "1 x 4 = 4\n",
      "1 x 5 = 5\n",
      "1 x 6 = 6\n",
      "1 x 7 = 7\n",
      "1 x 8 = 8\n",
      "1 x 9 = 9\n",
      "1 x 10 = 10\n",
      "------------\n",
      "Multiplication table 2\n",
      "2 x 1 = 2\n",
      "2 x 2 = 4\n",
      "2 x 3 = 6\n",
      "2 x 4 = 8\n",
      "2 x 5 = 10\n",
      "2 x 6 = 12\n",
      "2 x 7 = 14\n",
      "2 x 8 = 16\n",
      "2 x 9 = 18\n",
      "2 x 10 = 20\n",
      "------------\n",
      "Multiplication table 3\n",
      "3 x 1 = 3\n",
      "3 x 2 = 6\n",
      "3 x 3 = 9\n",
      "3 x 4 = 12\n",
      "3 x 5 = 15\n",
      "3 x 6 = 18\n",
      "3 x 7 = 21\n",
      "3 x 8 = 24\n",
      "3 x 9 = 27\n",
      "3 x 10 = 30\n",
      "------------\n",
      "Multiplication table 4\n",
      "4 x 1 = 4\n",
      "4 x 2 = 8\n",
      "4 x 3 = 12\n",
      "4 x 4 = 16\n",
      "4 x 5 = 20\n",
      "4 x 6 = 24\n",
      "4 x 7 = 28\n",
      "4 x 8 = 32\n",
      "4 x 9 = 36\n",
      "4 x 10 = 40\n",
      "------------\n",
      "Multiplication table 5\n",
      "5 x 1 = 5\n",
      "5 x 2 = 10\n",
      "5 x 3 = 15\n",
      "5 x 4 = 20\n",
      "5 x 5 = 25\n",
      "5 x 6 = 30\n",
      "5 x 7 = 35\n",
      "5 x 8 = 40\n",
      "5 x 9 = 45\n",
      "5 x 10 = 50\n",
      "------------\n"
     ]
    }
   ],
   "source": [
    "# Answer 16\n",
    "# Develop a program that generates a multiplication table\n",
    "# for numbers from 1 to 5 using a nested `for` loop.\n",
    "\n",
    "for i in range(1,6):\n",
    "    print('Multiplication table',i)\n",
    "    for j in range(1,11):\n",
    "        \n",
    "        print(i,'x',j,'=',i*j)\n",
    "    print('------------')\n",
    "\n"
   ]
  },
  {
   "cell_type": "code",
   "execution_count": 108,
   "id": "ec014391-d25b-4dce-8218-08e3bfc4fec6",
   "metadata": {},
   "outputs": [
    {
     "name": "stdout",
     "output_type": "stream",
     "text": [
      "Temp in celcius is: 40.55555555555556\n",
      "Temp in celcius is: 48.88888888888889\n",
      "Temp in celcius is: 26.666666666666668\n",
      "Temp in celcius is: 23.88888888888889\n"
     ]
    }
   ],
   "source": [
    "# Answer 17\n",
    "# Write a program that converts a list of \n",
    "# Fahrenheit temperatures to Celsius using a `for` loop.\n",
    "\n",
    "list_far = [105,120,80,75]\n",
    "\n",
    "for i in list_far:\n",
    "    c = 5/9*(i-32)\n",
    "    print('Temp in celcius is:',c)"
   ]
  },
  {
   "cell_type": "code",
   "execution_count": 109,
   "id": "7988c93d-be76-4059-bbf9-8d617ce6378b",
   "metadata": {},
   "outputs": [
    {
     "name": "stdout",
     "output_type": "stream",
     "text": [
      "['pwskills', 'py']\n"
     ]
    }
   ],
   "source": [
    "# Answer 18\n",
    "# Create a program to print the common elements \n",
    "# from two lists using a `for` loop.\n",
    "\n",
    "list1 = ['a','b','c','pwskills','py']\n",
    "list2 = ['pwskills','py']\n",
    "new_list=[]\n",
    "\n",
    "for i in list1:\n",
    "    \n",
    "    for j in list2:\n",
    "        \n",
    "        if i==j:\n",
    "            new_list.append(i)\n",
    "\n",
    "print(new_list)\n",
    "            "
   ]
  },
  {
   "cell_type": "code",
   "execution_count": 119,
   "id": "38a8e2b3-2ac4-47a3-8f88-c28ba6ddae3b",
   "metadata": {},
   "outputs": [
    {
     "name": "stdout",
     "output_type": "stream",
     "text": [
      " *\n",
      " * *\n",
      " * * *\n",
      " * * * *\n",
      " * * * * *\n",
      "\n"
     ]
    }
   ],
   "source": [
    "# Answe 19\n",
    "\n",
    "# Develop a program that prints the pattern of right-angled\n",
    "# triangles using a `for` loop. Use ‘*’ to draw the pattern\n",
    "\n",
    "for i in range(1,6):\n",
    "    \n",
    "    print(i*' *')\n",
    "    \n",
    "print()"
   ]
  },
  {
   "cell_type": "code",
   "execution_count": 134,
   "id": "1ff48da4-459c-4ca1-9a7c-6c2eeec92180",
   "metadata": {},
   "outputs": [
    {
     "name": "stdout",
     "output_type": "stream",
     "text": [
      "The GCD of the 2 numbers are: 5\n"
     ]
    }
   ],
   "source": [
    "# Answer 20\n",
    "# Write a program to find the greatest common\n",
    "# divisor (GCD) of two numbers using a `for` loop.\n",
    "\n",
    "number1 = 40\n",
    "number2 = 35\n",
    "number1_divisor_list = []\n",
    "number2_divisor_list = []\n",
    "\n",
    "for i in range(1,number1+1):\n",
    "    \n",
    "    if number1%i==0:\n",
    "        number1_divisor_list.append(i)\n",
    "\n",
    "for j in range(1,number2+1):\n",
    "    \n",
    "    if number2%j==0:\n",
    "        number2_divisor_list.append(j)\n",
    "        \n",
    "\n",
    "\n",
    "common_divisors = []\n",
    "\n",
    "for k in number2_divisor_list:\n",
    "    \n",
    "    for l in number1_divisor_list:\n",
    "        \n",
    "        if k==l:\n",
    "            common_divisors.append(k)\n",
    "            \n",
    "print('The GCD of the 2 numbers are:', max(common_divisors))\n",
    "    "
   ]
  },
  {
   "cell_type": "code",
   "execution_count": 55,
   "id": "2ae8ed25-6c6b-462d-8845-e6245272cccc",
   "metadata": {},
   "outputs": [],
   "source": [
    "# List Comprehension"
   ]
  },
  {
   "cell_type": "code",
   "execution_count": 13,
   "id": "9af01ea5-2f37-4ece-8162-88a77a0babc8",
   "metadata": {},
   "outputs": [
    {
     "data": {
      "text/plain": [
       "45"
      ]
     },
     "execution_count": 13,
     "metadata": {},
     "output_type": "execute_result"
    }
   ],
   "source": [
    "# Answer 21 - Create a program that calculates the sum of the digits of numbers in a list using a list comprehension.\n",
    "\n",
    "l = [1,2,3,4,5,6,7,8,9]\n",
    "sum([i for i in l])\n",
    "\n"
   ]
  },
  {
   "cell_type": "code",
   "execution_count": 18,
   "id": "90d37051-8d99-4c12-ab16-2204f96ee44d",
   "metadata": {},
   "outputs": [
    {
     "data": {
      "text/plain": [
       "[2, 3, 5, 7]"
      ]
     },
     "execution_count": 18,
     "metadata": {},
     "output_type": "execute_result"
    }
   ],
   "source": [
    "\n",
    "# Answer 22 - Write a program to find the prime factors of a given number using\n",
    "# a `for` loop and list comprehension.\n",
    "\n",
    "import sympy\n",
    "\n",
    "n = 1050\n",
    "l = list(range(2,n))\n",
    "l_factors = [i for i in l if n%i==0]\n",
    "\n",
    "[i for i in l_factors if sympy.isprime(i)==True]\n",
    "\n"
   ]
  },
  {
   "cell_type": "code",
   "execution_count": 12,
   "id": "8ae1cc43-92dc-4dff-a488-9736a251419f",
   "metadata": {},
   "outputs": [
    {
     "name": "stdout",
     "output_type": "stream",
     "text": [
      "[2, 3, 8, 9, 1, 4, 6]\n"
     ]
    }
   ],
   "source": [
    "# Answer 23 - Develop a program that extracts unique elements\n",
    "# from a list and stores them in a new list using a list comprehension.\n",
    "\n",
    "\n",
    "l = [2,3,8,9,1,2,4,6,3]\n",
    "\n",
    "l1 = []\n",
    "\n",
    "[l1.append(i) for i in l if i not in l1]\n",
    "    \n",
    "\n",
    "print(l1)"
   ]
  },
  {
   "cell_type": "code",
   "execution_count": 26,
   "id": "be922830-722f-418a-bad3-4d7d56925836",
   "metadata": {},
   "outputs": [
    {
     "name": "stdout",
     "output_type": "stream",
     "text": [
      "11 22 33 44 55 66 77 88 99 101 111 121 131 141 151 161 171 181 191 202 212 222 232 242 252 262 272 282 292 303 313 323 333 343 353 363 373 383 393 404 414 424 434 444 454 464 474 484 494 505 515 525 535 545 555 565 575 585 595 606 616 626 636 646 656 666 676 686 696 707 717 727 737 747 757 767 777 787 797 808 818 828 838 848 858 868 878 888 898 909 919 929 939 949 959 969 979 989 999 "
     ]
    }
   ],
   "source": [
    "# Ans 24 - . Create a program that generates a list of all palindromic numbers up to a specified limit using a list \n",
    "# comprehension.\n",
    "\n",
    "n = 1000\n",
    "\n",
    "for i in range(1,n+1):\n",
    "    s = str(i)\n",
    "    s_rev = s[::-1]\n",
    "    \n",
    "    if s==s_rev and i>=10:\n",
    "        print(i,end=' ')\n",
    "        \n",
    "        \n",
    "        \n"
   ]
  },
  {
   "cell_type": "code",
   "execution_count": 19,
   "id": "0368a66f-3e58-40f9-a2d9-65db1087a7a7",
   "metadata": {},
   "outputs": [
    {
     "name": "stdout",
     "output_type": "stream",
     "text": [
      "[1, 2, 3, 4, 5]\n",
      "[12, 13, 4, 5, 6]\n"
     ]
    }
   ],
   "source": [
    "# Ans 25 - Write a program to flatten a nested list using list comprehension.\n",
    "\n",
    "l = [[1,2,3],[4,5]]\n",
    "\n",
    "print([j for i in l for j in i])\n",
    "\n",
    "l1 = [12,13,[4,5,6]]\n",
    "\n",
    "print([j for i in l1 for j in (i if type(i)==list else [i])])\n"
   ]
  },
  {
   "cell_type": "code",
   "execution_count": 30,
   "id": "0fb73a3d-dbcc-4d94-8b6d-7c8d3999bded",
   "metadata": {},
   "outputs": [
    {
     "name": "stdout",
     "output_type": "stream",
     "text": [
      "2550\n",
      "2500\n"
     ]
    }
   ],
   "source": [
    "# Ans 26 -  Develop a program that computes the sum of even and odd numbers in a list separately using list\n",
    "# comprehension.\n",
    "\n",
    "n = 100\n",
    "\n",
    "l_even = [i for i in range(1,n+1) if i%2==0]\n",
    "print(sum(l_even))\n",
    "l_odd = [i for i in range(1,n+1) if i%2!=0]\n",
    "print(sum(l_odd))"
   ]
  },
  {
   "cell_type": "code",
   "execution_count": 32,
   "id": "7f3a6baa-2093-4e5b-aa10-bc997974dea5",
   "metadata": {},
   "outputs": [
    {
     "data": {
      "text/plain": [
       "[1, 9, 25, 49, 81]"
      ]
     },
     "execution_count": 32,
     "metadata": {},
     "output_type": "execute_result"
    }
   ],
   "source": [
    "# Ans 27 - Create a program that generates a list of squares of odd numbers between 1 and 10 using list\n",
    "#  comprehension.\n",
    "\n",
    "l_odd = [i*i for i in range(1,11) if i%2!=0]\n",
    "l_odd\n"
   ]
  },
  {
   "cell_type": "code",
   "execution_count": 10,
   "id": "ec0fc0c4-ddae-44d4-ba49-58ced7f4581e",
   "metadata": {},
   "outputs": [
    {
     "data": {
      "text/plain": [
       "[{'a': 1}, {'a': 2}, {'b': 1}, {'b': 2}]"
      ]
     },
     "execution_count": 10,
     "metadata": {},
     "output_type": "execute_result"
    }
   ],
   "source": [
    "# Ans 28 - Write a program that combines two lists into a dictionary using list comprehension.\n",
    "\n",
    "l1 = ['a','b']\n",
    "l2 = [1,2]\n",
    "\n",
    "d = {}\n",
    "\n",
    "[{x:y} for x in l1 for y in l2]\n",
    "\n"
   ]
  },
  {
   "cell_type": "code",
   "execution_count": 36,
   "id": "3233bb74-bbc7-473f-b707-be79ac876267",
   "metadata": {},
   "outputs": [
    {
     "name": "stdout",
     "output_type": "stream",
     "text": [
      "['i', 'o', 'e', 'i', 'e', 'u']\n"
     ]
    }
   ],
   "source": [
    "# Ans 29 -  Develop a program that extracts the vowels from a string and stores them in a list using list comprehension\n",
    "\n",
    "v = ['a','e','i','o','u']\n",
    "\n",
    "s = 'i love pwskills very much'\n",
    "\n",
    "l_vowel_extract = [i for i in s if i in v]\n",
    "\n",
    "print(l_vowel_extract)"
   ]
  },
  {
   "cell_type": "code",
   "execution_count": 47,
   "id": "279b91bc-70ab-4781-88fd-a22d7fc97d7b",
   "metadata": {},
   "outputs": [
    {
     "data": {
      "text/plain": [
       "[1, 2, 45]"
      ]
     },
     "execution_count": 47,
     "metadata": {},
     "output_type": "execute_result"
    }
   ],
   "source": [
    "# Ans 30 - Create a program that removes all non-numeric characters from a list of strings using list comprehension.\n",
    "\n",
    "l = [1,'a',2,'b','pwskills',45]\n",
    "\n",
    "l_remove_nonnumeric = [i for i in l if str(i).isnumeric()== True]\n",
    "\n",
    "l_remove_nonnumeric\n"
   ]
  },
  {
   "cell_type": "code",
   "execution_count": 48,
   "id": "f1fb2f7c-3088-428c-b81b-100f3e9688dd",
   "metadata": {},
   "outputs": [],
   "source": [
    "# Challenge Level"
   ]
  },
  {
   "cell_type": "code",
   "execution_count": 22,
   "id": "19ac885f-1a68-47fe-b795-e0e46ee7c625",
   "metadata": {},
   "outputs": [
    {
     "name": "stdout",
     "output_type": "stream",
     "text": [
      "[2, 3, 5, 7, 11, 13, 17, 19, 23, 29, 31, 37, 41, 43, 47]\n"
     ]
    }
   ],
   "source": [
    "# Ans 31 - Write a program to generate a list of prime numbers using the Sieve of Eratosthenes algorithm and list\n",
    "# comprehension.\n",
    "\n",
    "n = 50\n",
    "\n",
    "l = [i for i in range(2,n+1)]\n",
    "\n",
    "\n",
    "i = 2\n",
    "j=2\n",
    "while(i<n):\n",
    "       \n",
    "    \n",
    "    if i*j in l:\n",
    "        l.remove(i*j)\n",
    "    j=j+1\n",
    "    \n",
    "    if i*j>n:\n",
    "        i = i+1\n",
    "        j=2\n",
    "    \n",
    "\n",
    "print(l)\n",
    "\n",
    "\n"
   ]
  },
  {
   "cell_type": "code",
   "execution_count": 52,
   "id": "1aecfc23-9c6a-48dd-893a-c2e7c31aea8d",
   "metadata": {},
   "outputs": [
    {
     "name": "stdout",
     "output_type": "stream",
     "text": [
      "5 3 4\n",
      "5 4 3\n",
      "10 6 8\n",
      "10 8 6\n",
      "13 5 12\n",
      "13 12 5\n",
      "15 9 12\n",
      "15 12 9\n"
     ]
    },
    {
     "data": {
      "text/plain": [
       "[None, None, None, None, None, None, None, None]"
      ]
     },
     "execution_count": 52,
     "metadata": {},
     "output_type": "execute_result"
    }
   ],
   "source": [
    "# Ans 32 - Create a program that generates a list of all Pythagorean triplets up to a specified limit using list\n",
    "#comprehension.\n",
    "'''\n",
    "Normal method\n",
    "n = 15\n",
    "\n",
    "l1 = list(range(1,n+1))\n",
    "l2 = list(range(1,n+1))\n",
    "l3 = list(range(1,n+1))\n",
    "\n",
    "\n",
    "for i in l1:\n",
    "    for j in l2:\n",
    "        for k in l3:\n",
    "            if (i*i==((j*j)+(k*k))) and (i>j>k):\n",
    "                print(i,j,k)\n",
    "                \n",
    "\n",
    "\n",
    "'''\n",
    "n=15\n",
    "l1 = list(range(1,n+1))\n",
    "l2 = list(range(1,n+1))\n",
    "l3 = list(range(1,n+1))\n",
    "\n",
    "[print(i,j,k) for i in l1 for j in l2 for k in l3 if (i*i == j*j+k*k)]\n",
    "\n",
    "\n",
    "\n"
   ]
  },
  {
   "cell_type": "code",
   "execution_count": 34,
   "id": "4e6ad6c5-35df-4545-a6e8-96bae84b9632",
   "metadata": {},
   "outputs": [
    {
     "name": "stdout",
     "output_type": "stream",
     "text": [
      "[2, 1]\n",
      "[3, 1]\n",
      "[4, 1]\n",
      "[1, 2]\n",
      "[3, 2]\n",
      "[4, 2]\n",
      "[1, 3]\n",
      "[2, 3]\n",
      "[4, 3]\n",
      "[1, 4]\n",
      "[2, 4]\n",
      "[3, 4]\n"
     ]
    }
   ],
   "source": [
    "# Ans 33 -  Develop a program that generates a list of all possible combinations of two lists using list comprehension.\n",
    "\n",
    "l = [1,2,3,4]\n",
    "len_l = len(l)\n",
    "\n",
    "for i in l:\n",
    "    for j in l:\n",
    "        \n",
    "        if i!=j:\n",
    "            print([j,i])\n",
    "\n",
    "\n"
   ]
  },
  {
   "cell_type": "code",
   "execution_count": 82,
   "id": "aa32a103-6646-423c-b360-8bcefb5cafee",
   "metadata": {},
   "outputs": [],
   "source": [
    "# Ans 34 -Write a program that calculates the mean, median, and mode of a list of numbers using list\n",
    "# comprehension\n",
    "\n",
    "l = [2,4,5,1,5,6,8,9,7,8,4,2,5,6]\n",
    "sum = []\n",
    "len_l = len(l)\n",
    "\n",
    "l_mean = [sum.append(i) for i in l]"
   ]
  },
  {
   "cell_type": "code",
   "execution_count": null,
   "id": "84e7ca64-4af0-4958-a69c-dde1e8e45a38",
   "metadata": {},
   "outputs": [],
   "source": [
    "# Ans 35 - Create a program that generates Pascal's triangle up to a specified number of rows using list\n",
    "# comprehension"
   ]
  },
  {
   "cell_type": "code",
   "execution_count": 87,
   "id": "39679500-c993-419f-b8a5-1e55726c35d1",
   "metadata": {},
   "outputs": [
    {
     "data": {
      "text/plain": [
       "[24, 120]"
      ]
     },
     "execution_count": 87,
     "metadata": {},
     "output_type": "execute_result"
    }
   ],
   "source": [
    "# Ans 36 -Develop a program that calculates the sum of the digits of a factorial of numbers from 1 to 5 using list\n",
    "# comprehension.\n",
    "\n",
    "import math\n",
    "\n",
    "l = [1,2,3,4,5]\n",
    "\n",
    "l_fact = [math.factorial(i) for i in l]\n",
    "l_sum_of_fact = [i for i in l_fact if len(str(i))>1]\n",
    "l_sum_of_fact"
   ]
  },
  {
   "cell_type": "code",
   "execution_count": 108,
   "id": "b72968ee-904c-4c66-b1f6-d11e4ae855d2",
   "metadata": {},
   "outputs": [
    {
     "name": "stdout",
     "output_type": "stream",
     "text": [
      "['I', 'love', 'pwskills', 'is', 'a', 'true', 'statement']\n",
      "[1, 4, 8, 9]\n",
      "9\n"
     ]
    }
   ],
   "source": [
    "# Ans 37 -  Write a program that finds the longest word in a sentence using list comprehension.\n",
    "\n",
    "s = 'I love pwskills is a true statement'\n",
    "s_list = s.split()\n",
    "print(s_list)\n",
    "max = 0\n",
    "s_longest_word = [max:=len(i) for i in s_list if len(i)>max]\n",
    "new = [i for i in s_list if len(i)]\n",
    "print(s_longest_word)\n",
    "print(max)"
   ]
  },
  {
   "cell_type": "code",
   "execution_count": 126,
   "id": "091a67c2-e9a7-49cb-9986-c433dc54a650",
   "metadata": {},
   "outputs": [
    {
     "name": "stdout",
     "output_type": "stream",
     "text": [
      "aeroplane\n",
      "5\n"
     ]
    }
   ],
   "source": [
    "# Ans 38 -  Create a program that filters a list of strings to include only those with more than three vowels using list\n",
    "# comprehension.\n",
    "\n",
    "l = ['i','love','aeroplane','engine','buffallo','zz']\n",
    "len_l = len(l)\n",
    "vowel = ['a','e','i','o','u']\n",
    "\n",
    "\n",
    "\n",
    "for i in range(len_l):\n",
    "    count = 0\n",
    "    for j in l[i]:\n",
    "        \n",
    "\n",
    "        if j in vowel:\n",
    "            count = count + 1\n",
    "    \n",
    "    if count>3:\n",
    "        print(l[i])\n",
    "        print(count)\n",
    "\n"
   ]
  },
  {
   "cell_type": "code",
   "execution_count": 156,
   "id": "cf01f6fc-590f-4d18-aaf4-e0320e6f07b4",
   "metadata": {},
   "outputs": [
    {
     "name": "stdout",
     "output_type": "stream",
     "text": [
      "1 2 3 4 5 6 7 8 9 1 2 3 4 5 6 7 8 9 10 2 3 4 5 6 7 8 9 10 11 3 4 5 6 7 8 9 10 11 12 4 5 6 7 8 9 10 11 12 13 5 6 7 8 9 10 11 12 13 14 6 7 8 9 10 11 12 13 14 15 7 8 9 10 11 12 13 14 15 16 8 9 10 11 12 13 14 15 16 17 9 10 11 12 13 14 15 16 17 18 1 2 3 4 5 6 7 8 9 10 2 3 4 5 6 7 8 9 10 11 3 4 5 6 7 8 9 10 11 12 4 5 6 7 8 9 10 11 12 13 5 6 7 8 9 10 11 12 13 14 6 7 8 9 10 11 12 13 14 15 7 8 9 10 11 12 13 14 15 16 8 9 10 11 12 13 14 15 16 17 9 10 11 12 13 14 15 16 17 18 10 11 12 13 14 15 16 17 18 19 2 3 4 5 6 7 8 9 10 11 3 4 5 6 7 8 9 10 11 12 4 5 6 7 8 9 10 11 12 13 5 6 7 8 9 10 11 12 13 14 6 7 8 9 10 11 12 13 14 15 7 8 9 10 11 12 13 14 15 16 8 9 10 11 12 13 14 15 16 17 9 10 11 12 13 14 15 16 17 18 10 11 12 13 14 15 16 17 18 19 11 12 13 14 15 16 17 18 19 20 3 4 5 6 7 8 9 10 11 12 4 5 6 7 8 9 10 11 12 13 5 6 7 8 9 10 11 12 13 14 6 7 8 9 10 11 12 13 14 15 7 8 9 10 11 12 13 14 15 16 8 9 10 11 12 13 14 15 16 17 9 10 11 12 13 14 15 16 17 18 10 11 12 13 14 15 16 17 18 19 11 12 13 14 15 16 17 18 19 20 12 13 14 15 16 17 18 19 20 21 4 5 6 7 8 9 10 11 12 13 5 6 7 8 9 10 11 12 13 14 6 7 8 9 10 11 12 13 14 15 7 8 9 10 11 12 13 14 15 16 8 9 10 11 12 13 14 15 16 17 9 10 11 12 13 14 15 16 17 18 10 11 12 13 14 15 16 17 18 19 11 12 13 14 15 16 17 18 19 20 12 13 14 15 16 17 18 19 20 21 13 14 15 16 17 18 19 20 21 22 5 6 7 8 9 10 11 12 13 14 6 7 8 9 10 11 12 13 14 15 7 8 9 10 11 12 13 14 15 16 8 9 10 11 12 13 14 15 16 17 9 10 11 12 13 14 15 16 17 18 10 11 12 13 14 15 16 17 18 19 11 12 13 14 15 16 17 18 19 20 12 13 14 15 16 17 18 19 20 21 13 14 15 16 17 18 19 20 21 22 14 15 16 17 18 19 20 21 22 23 6 7 8 9 10 11 12 13 14 15 7 8 9 10 11 12 13 14 15 16 8 9 10 11 12 13 14 15 16 17 9 10 11 12 13 14 15 16 17 18 10 11 12 13 14 15 16 17 18 19 11 12 13 14 15 16 17 18 19 20 12 13 14 15 16 17 18 19 20 21 13 14 15 16 17 18 19 20 21 22 14 15 16 17 18 19 20 21 22 23 15 16 17 18 19 20 21 22 23 24 7 8 9 10 11 12 13 14 15 16 8 9 10 11 12 13 14 15 16 17 9 10 11 12 13 14 15 16 17 18 10 11 12 13 14 15 16 17 18 19 11 12 13 14 15 16 17 18 19 20 12 13 14 15 16 17 18 19 20 21 13 14 15 16 17 18 19 20 21 22 14 15 16 17 18 19 20 21 22 23 15 16 17 18 19 20 21 22 23 24 16 17 18 19 20 21 22 23 24 25 8 9 10 11 12 13 14 15 16 17 9 10 11 12 13 14 15 16 17 18 10 11 12 13 14 15 16 17 18 19 11 12 13 14 15 16 17 18 19 20 12 13 14 15 16 17 18 19 20 21 13 14 15 16 17 18 19 20 21 22 14 15 16 17 18 19 20 21 22 23 15 16 17 18 19 20 21 22 23 24 16 17 18 19 20 21 22 23 24 25 17 18 19 20 21 22 23 24 25 26 9 10 11 12 13 14 15 16 17 18 10 11 12 13 14 15 16 17 18 19 11 12 13 14 15 16 17 18 19 20 12 13 14 15 16 17 18 19 20 21 13 14 15 16 17 18 19 20 21 22 14 15 16 17 18 19 20 21 22 23 15 16 17 18 19 20 21 22 23 24 16 17 18 19 20 21 22 23 24 25 17 18 19 20 21 22 23 24 25 26 18 19 20 21 22 23 24 25 26 27 1 "
     ]
    }
   ],
   "source": [
    "# Ans 39 - Develop a program that calculates the sum of the digits of numbers from 1 to 1000 using list\n",
    "# comprehension.\n",
    "\n",
    "for i in range(1,1001):\n",
    "    sum = 0\n",
    "    for j in str(i):\n",
    "        sum = sum + int(j)\n",
    "    print(sum,end=' ')\n"
   ]
  },
  {
   "cell_type": "code",
   "execution_count": 155,
   "id": "2ed304d4-b3b3-4c6c-8402-4538571c63d3",
   "metadata": {},
   "outputs": [
    {
     "name": "stdout",
     "output_type": "stream",
     "text": [
      "[11, 101, 131]\n"
     ]
    }
   ],
   "source": [
    "# Ans 40 - Write a program that generates a list of prime palindromic numbers using list comprehension.\n",
    "\n",
    "import sympy as ss\n",
    "n = 150\n",
    "l = []\n",
    "\n",
    "for i in range(1,n+1):\n",
    "    s = str(i)\n",
    "    s_rev = s[::-1]\n",
    "    \n",
    "    if (s==s_rev) and (i>=10) and(ss.isprime(i)==True):\n",
    "        l.append(i)\n",
    "print(l)"
   ]
  }
 ],
 "metadata": {
  "kernelspec": {
   "display_name": "Python 3 (ipykernel)",
   "language": "python",
   "name": "python3"
  },
  "language_info": {
   "codemirror_mode": {
    "name": "ipython",
    "version": 3
   },
   "file_extension": ".py",
   "mimetype": "text/x-python",
   "name": "python",
   "nbconvert_exporter": "python",
   "pygments_lexer": "ipython3",
   "version": "3.10.8"
  }
 },
 "nbformat": 4,
 "nbformat_minor": 5
}
